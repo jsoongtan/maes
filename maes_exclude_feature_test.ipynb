{
 "cells": [
  {
   "cell_type": "markdown",
   "metadata": {},
   "source": [
    "## IMPORT LIBRARIES"
   ]
  },
  {
   "cell_type": "code",
   "execution_count": 72,
   "metadata": {},
   "outputs": [],
   "source": [
    "import time\n",
    "start = time.time()"
   ]
  },
  {
   "cell_type": "code",
   "execution_count": 73,
   "metadata": {},
   "outputs": [],
   "source": [
    "import numpy as np\n",
    "import pandas as pd\n",
    "from collections import defaultdict\n",
    "\n",
    "from nltk import pos_tag\n",
    "from nltk.tokenize import word_tokenize\n",
    "from nltk.corpus import stopwords\n",
    "from nltk.corpus import wordnet as wn\n",
    "from nltk.stem import WordNetLemmatizer\n",
    "\n",
    "from sklearn.preprocessing import LabelEncoder\n",
    "from sklearn.feature_extraction.text import TfidfVectorizer\n",
    "from sklearn import model_selection, naive_bayes, svm #SVR is in SVM\n",
    "from sklearn.metrics import accuracy_score, confusion_matrix"
   ]
  },
  {
   "cell_type": "markdown",
   "metadata": {},
   "source": [
    "## `Length` influence test"
   ]
  },
  {
   "cell_type": "markdown",
   "metadata": {},
   "source": [
    "### Dataset - Exclude Length"
   ]
  },
  {
   "cell_type": "code",
   "execution_count": 74,
   "metadata": {},
   "outputs": [],
   "source": [
    "dataset = pd.read_csv('maes_features.csv')\n",
    "# LENGTH :chars, words, commas, apostrophes, punctuations, avg_word_length\n",
    "# PROMPT :prompt_words, prompt_words/total_words, synonym_words, synonym_words/total_words\n",
    "# BoW: unstemmed, stemmed\n",
    "# POS (GRAMMATICAL): POS, POS/total_words"
   ]
  },
  {
   "cell_type": "markdown",
   "metadata": {},
   "source": [
    "exclude `length` features.\n",
    "\n",
    "Including prompt_words, prompt_words/total_words, synonym_words, synonym_words/total_words, unstemmed, stemmed, POS, POS/total_words"
   ]
  },
  {
   "cell_type": "code",
   "execution_count": 75,
   "metadata": {},
   "outputs": [
    {
     "data": {
      "text/plain": [
       "array([[4.17457306e-01, 1.12000000e+02, 2.12523719e-01, 5.84000000e+02,\n",
       "        5.59000000e+02],\n",
       "       [4.55555556e-01, 6.60000000e+01, 3.66666667e-01, 2.10000000e+02,\n",
       "        2.10000000e+02],\n",
       "       [5.51724138e-01, 8.30000000e+01, 3.18007663e-01, 2.91000000e+02,\n",
       "        2.85000000e+02],\n",
       "       ...,\n",
       "       [5.37878788e-01, 3.40000000e+01, 2.57575758e-01, 1.64000000e+02,\n",
       "        1.60000000e+02],\n",
       "       [5.36541889e-01, 1.68000000e+02, 2.99465241e-01, 5.42000000e+02,\n",
       "        5.12000000e+02],\n",
       "       [4.44230769e-01, 1.65000000e+02, 3.17307692e-01, 5.14000000e+02,\n",
       "        4.96000000e+02]])"
      ]
     },
     "execution_count": 75,
     "metadata": {},
     "output_type": "execute_result"
    }
   ],
   "source": [
    "X = dataset.iloc[:,10:15].values.astype(float)\n",
    "y = dataset.iloc[:,15].values.astype(float)\n",
    "X"
   ]
  },
  {
   "cell_type": "code",
   "execution_count": 76,
   "metadata": {},
   "outputs": [
    {
     "data": {
      "text/plain": [
       "(1800, 5)"
      ]
     },
     "execution_count": 76,
     "metadata": {},
     "output_type": "execute_result"
    }
   ],
   "source": [
    "X.shape"
   ]
  },
  {
   "cell_type": "code",
   "execution_count": 77,
   "metadata": {},
   "outputs": [
    {
     "data": {
      "text/plain": [
       "(1800, 1)"
      ]
     },
     "execution_count": 77,
     "metadata": {},
     "output_type": "execute_result"
    }
   ],
   "source": [
    "y = np.array(y).reshape(-1,1)\n",
    "y.shape"
   ]
  },
  {
   "cell_type": "code",
   "execution_count": 78,
   "metadata": {},
   "outputs": [
    {
     "name": "stdout",
     "output_type": "stream",
     "text": [
      "[[3.]\n",
      " [5.]\n",
      " [3.]\n",
      " [4.]\n",
      " [4.]]\n"
     ]
    }
   ],
   "source": [
    "### Split the train and test set\n",
    "from sklearn.model_selection import train_test_split\n",
    "X_train, X_test, y_train, y_test = train_test_split(X, y, test_size=0.2, random_state=0)\n",
    "# Have a look at the first few lines\n",
    "print(y_test[:5, :])"
   ]
  },
  {
   "cell_type": "markdown",
   "metadata": {},
   "source": [
    "## Model Training excluding `Length` features"
   ]
  },
  {
   "cell_type": "markdown",
   "metadata": {},
   "source": [
    "### Naive Bayes Training "
   ]
  },
  {
   "cell_type": "code",
   "execution_count": 79,
   "metadata": {},
   "outputs": [],
   "source": [
    "from sklearn.preprocessing import StandardScaler, MinMaxScaler"
   ]
  },
  {
   "cell_type": "code",
   "execution_count": 80,
   "metadata": {},
   "outputs": [],
   "source": [
    "X_trainNB = X_train\n",
    "y_trainNB = y_train\n",
    "X_testNB = X_test\n",
    "y_testNB = y_test"
   ]
  },
  {
   "cell_type": "code",
   "execution_count": 81,
   "metadata": {},
   "outputs": [
    {
     "data": {
      "text/plain": [
       "MultinomialNB()"
      ]
     },
     "execution_count": 81,
     "metadata": {},
     "output_type": "execute_result"
    }
   ],
   "source": [
    "model_nbl = naive_bayes.MultinomialNB()\n",
    "model_nbl.fit(X_trainNB, y_trainNB.ravel())"
   ]
  },
  {
   "cell_type": "markdown",
   "metadata": {},
   "source": [
    "The Naive Bayes model excluding `length` features is called `model_nbl`"
   ]
  },
  {
   "cell_type": "markdown",
   "metadata": {},
   "source": [
    "### SVM Training using `Length` features only"
   ]
  },
  {
   "cell_type": "code",
   "execution_count": 154,
   "metadata": {},
   "outputs": [],
   "source": [
    "from sklearn.preprocessing import StandardScaler\n",
    "sc_Xsvm = StandardScaler()\n",
    "sc_ysvm = StandardScaler()\n",
    "X_trainSVM = sc_Xsvm.fit_transform(X_train)\n",
    "y_trainSVM = sc_ysvm.fit_transform(y_train)\n",
    "X_testSVM = sc_Xsvm.transform(X_test)\n",
    "y_testSVM = sc_ysvm.transform(y_test)"
   ]
  },
  {
   "cell_type": "code",
   "execution_count": 83,
   "metadata": {},
   "outputs": [
    {
     "name": "stdout",
     "output_type": "stream",
     "text": [
      "[LibSVM]"
     ]
    },
    {
     "data": {
      "text/plain": [
       "SVR(gamma='auto', verbose=True)"
      ]
     },
     "execution_count": 83,
     "metadata": {},
     "output_type": "execute_result"
    }
   ],
   "source": [
    "from sklearn.svm import SVR\n",
    "# most important SVR parameter is Kernel type. It can be #linear,polynomial or gaussian SVR. We have a non-linear condition #so we can select polynomial or gaussian but here we select RBF(a #gaussian type) kernel.\n",
    "# kernel{‘linear’, ‘poly’, ‘rbf’, ‘sigmoid’, ‘precomputed’}, default=’rbf’\n",
    "# maybe use poly and increase the degree\n",
    "model_svml = SVR(kernel='rbf', gamma='auto', verbose=True)\n",
    "#regressor = SVR(kernel='poly', degree=5, gamma='auto', verbose=True)\n",
    "model_svml.fit(X_trainSVM,y_trainSVM.ravel())"
   ]
  },
  {
   "cell_type": "markdown",
   "metadata": {},
   "source": [
    "The Support Vector Machine (SVM) model excluding `length` features is now called `model_svml`"
   ]
  },
  {
   "cell_type": "markdown",
   "metadata": {},
   "source": [
    "### BLRR\n"
   ]
  },
  {
   "cell_type": "code",
   "execution_count": 84,
   "metadata": {},
   "outputs": [],
   "source": [
    "from sklearn.preprocessing import StandardScaler\n",
    "sc_Xblrr = StandardScaler()\n",
    "sc_yblrr = StandardScaler()\n",
    "X_trainBLRR = sc_Xblrr.fit_transform(X_train)\n",
    "y_trainBLRR = sc_yblrr.fit_transform(y_train)\n",
    "X_testBLRR = sc_Xblrr.transform(X_test)\n",
    "y_testBLRR = sc_yblrr.transform(y_test)"
   ]
  },
  {
   "cell_type": "code",
   "execution_count": 85,
   "metadata": {},
   "outputs": [
    {
     "data": {
      "text/plain": [
       "BayesianRidge()"
      ]
     },
     "execution_count": 85,
     "metadata": {},
     "output_type": "execute_result"
    }
   ],
   "source": [
    "from sklearn import linear_model\n",
    "model_blrrl = linear_model.BayesianRidge()\n",
    "model_blrrl.fit(X_trainBLRR, y_trainBLRR.ravel())"
   ]
  },
  {
   "cell_type": "markdown",
   "metadata": {},
   "source": [
    "At this stage, the Bayesian Linear Ridge Regression (BLRR) model excluding `length` feature is called `model_blrrl`\n"
   ]
  },
  {
   "cell_type": "markdown",
   "metadata": {},
   "source": [
    "## Prediction excluding `length` feature "
   ]
  },
  {
   "cell_type": "markdown",
   "metadata": {},
   "source": [
    "### Naive Bayes excluding `length` features"
   ]
  },
  {
   "cell_type": "code",
   "execution_count": 86,
   "metadata": {},
   "outputs": [],
   "source": [
    "y_predNBL = model_nbl.predict(X_testNB)\n",
    "#y_1_predNB = sc_ynb.inverse_transform(y_1_predNB).round()\n",
    "#cm = confusion_matrix(y_test, y_predNBL)\n",
    "#print(cm)"
   ]
  },
  {
   "cell_type": "markdown",
   "metadata": {},
   "source": [
    "### SVM Excluding `length` "
   ]
  },
  {
   "cell_type": "code",
   "execution_count": 87,
   "metadata": {},
   "outputs": [],
   "source": [
    "y_predSVML = model_svml.predict(X_testSVM)\n",
    "y_predSVML = sc_ysvm.inverse_transform(y_predSVML).round()\n",
    "\n",
    "#cm = confusion_matrix(y_test, y_predSVML)\n",
    "#np.set_printoptions(threshold=np.inf)\n",
    "#print(cm)"
   ]
  },
  {
   "cell_type": "markdown",
   "metadata": {},
   "source": [
    "### BLRR excluding `length` "
   ]
  },
  {
   "cell_type": "code",
   "execution_count": 88,
   "metadata": {},
   "outputs": [],
   "source": [
    "y_predBLRRL = model_blrrl.predict(X_testBLRR)\n",
    "y_predBLRRL = sc_yblrr.inverse_transform(y_predBLRRL).round()\n",
    "\n",
    "#cm = confusion_matrix(y_test, y_predBLRRL)\n",
    "#print(cm)"
   ]
  },
  {
   "cell_type": "markdown",
   "metadata": {},
   "source": [
    "## Ensembling the 3 Algo excluding `length` features"
   ]
  },
  {
   "cell_type": "code",
   "execution_count": 89,
   "metadata": {},
   "outputs": [
    {
     "data": {
      "text/html": [
       "<div>\n",
       "<style scoped>\n",
       "    .dataframe tbody tr th:only-of-type {\n",
       "        vertical-align: middle;\n",
       "    }\n",
       "\n",
       "    .dataframe tbody tr th {\n",
       "        vertical-align: top;\n",
       "    }\n",
       "\n",
       "    .dataframe thead th {\n",
       "        text-align: right;\n",
       "    }\n",
       "</style>\n",
       "<table border=\"1\" class=\"dataframe\">\n",
       "  <thead>\n",
       "    <tr style=\"text-align: right;\">\n",
       "      <th></th>\n",
       "      <th>Actual</th>\n",
       "      <th>NBL</th>\n",
       "      <th>SVML</th>\n",
       "      <th>BLRRL</th>\n",
       "    </tr>\n",
       "  </thead>\n",
       "  <tbody>\n",
       "    <tr>\n",
       "      <th>0</th>\n",
       "      <td>3.0</td>\n",
       "      <td>4.0</td>\n",
       "      <td>4.0</td>\n",
       "      <td>4.0</td>\n",
       "    </tr>\n",
       "    <tr>\n",
       "      <th>1</th>\n",
       "      <td>5.0</td>\n",
       "      <td>4.0</td>\n",
       "      <td>4.0</td>\n",
       "      <td>4.0</td>\n",
       "    </tr>\n",
       "    <tr>\n",
       "      <th>2</th>\n",
       "      <td>3.0</td>\n",
       "      <td>3.0</td>\n",
       "      <td>3.0</td>\n",
       "      <td>3.0</td>\n",
       "    </tr>\n",
       "    <tr>\n",
       "      <th>3</th>\n",
       "      <td>4.0</td>\n",
       "      <td>4.0</td>\n",
       "      <td>3.0</td>\n",
       "      <td>3.0</td>\n",
       "    </tr>\n",
       "    <tr>\n",
       "      <th>4</th>\n",
       "      <td>4.0</td>\n",
       "      <td>5.0</td>\n",
       "      <td>4.0</td>\n",
       "      <td>4.0</td>\n",
       "    </tr>\n",
       "  </tbody>\n",
       "</table>\n",
       "</div>"
      ],
      "text/plain": [
       "   Actual  NBL  SVML  BLRRL\n",
       "0     3.0  4.0   4.0    4.0\n",
       "1     5.0  4.0   4.0    4.0\n",
       "2     3.0  3.0   3.0    3.0\n",
       "3     4.0  4.0   3.0    3.0\n",
       "4     4.0  5.0   4.0    4.0"
      ]
     },
     "execution_count": 89,
     "metadata": {},
     "output_type": "execute_result"
    }
   ],
   "source": [
    "actual = pd.Series(y_test.ravel())\n",
    "predNBL = pd.Series(y_predNBL)\n",
    "predSVML = pd.Series(y_predSVML)\n",
    "predBLRRL = pd.Series(y_predBLRRL)\n",
    "\n",
    "data = {\"Actual\": actual,\n",
    "        \"NBL\": predNBL, \n",
    "        \"SVML\": predSVML, \n",
    "        \"BLRRL\": predBLRRL} \n",
    "results = pd.concat(data, axis=1)\n",
    "results.head(5)"
   ]
  },
  {
   "cell_type": "code",
   "execution_count": 90,
   "metadata": {},
   "outputs": [
    {
     "data": {
      "text/html": [
       "<div>\n",
       "<style scoped>\n",
       "    .dataframe tbody tr th:only-of-type {\n",
       "        vertical-align: middle;\n",
       "    }\n",
       "\n",
       "    .dataframe tbody tr th {\n",
       "        vertical-align: top;\n",
       "    }\n",
       "\n",
       "    .dataframe thead th {\n",
       "        text-align: right;\n",
       "    }\n",
       "</style>\n",
       "<table border=\"1\" class=\"dataframe\">\n",
       "  <thead>\n",
       "    <tr style=\"text-align: right;\">\n",
       "      <th></th>\n",
       "      <th>Actual</th>\n",
       "      <th>NBL</th>\n",
       "      <th>SVML</th>\n",
       "      <th>BLRRL</th>\n",
       "      <th>EnsembleL</th>\n",
       "    </tr>\n",
       "  </thead>\n",
       "  <tbody>\n",
       "    <tr>\n",
       "      <th>0</th>\n",
       "      <td>3.0</td>\n",
       "      <td>4.0</td>\n",
       "      <td>4.0</td>\n",
       "      <td>4.0</td>\n",
       "      <td>4.0</td>\n",
       "    </tr>\n",
       "    <tr>\n",
       "      <th>1</th>\n",
       "      <td>5.0</td>\n",
       "      <td>4.0</td>\n",
       "      <td>4.0</td>\n",
       "      <td>4.0</td>\n",
       "      <td>4.0</td>\n",
       "    </tr>\n",
       "    <tr>\n",
       "      <th>2</th>\n",
       "      <td>3.0</td>\n",
       "      <td>3.0</td>\n",
       "      <td>3.0</td>\n",
       "      <td>3.0</td>\n",
       "      <td>3.0</td>\n",
       "    </tr>\n",
       "    <tr>\n",
       "      <th>3</th>\n",
       "      <td>4.0</td>\n",
       "      <td>4.0</td>\n",
       "      <td>3.0</td>\n",
       "      <td>3.0</td>\n",
       "      <td>3.0</td>\n",
       "    </tr>\n",
       "    <tr>\n",
       "      <th>4</th>\n",
       "      <td>4.0</td>\n",
       "      <td>5.0</td>\n",
       "      <td>4.0</td>\n",
       "      <td>4.0</td>\n",
       "      <td>4.0</td>\n",
       "    </tr>\n",
       "  </tbody>\n",
       "</table>\n",
       "</div>"
      ],
      "text/plain": [
       "   Actual  NBL  SVML  BLRRL  EnsembleL\n",
       "0     3.0  4.0   4.0    4.0        4.0\n",
       "1     5.0  4.0   4.0    4.0        4.0\n",
       "2     3.0  3.0   3.0    3.0        3.0\n",
       "3     4.0  4.0   3.0    3.0        3.0\n",
       "4     4.0  5.0   4.0    4.0        4.0"
      ]
     },
     "execution_count": 90,
     "metadata": {},
     "output_type": "execute_result"
    }
   ],
   "source": [
    "results['EnsembleL'] = np.where(\n",
    "                            (results['NBL'] == results['BLRRL']) |\n",
    "                            (results['NBL'] == results['SVML']),\n",
    "                            results['NBL'],\n",
    "                            results['BLRRL']\n",
    "                        )\n",
    "results.head(5)"
   ]
  },
  {
   "cell_type": "markdown",
   "metadata": {},
   "source": [
    "## Evaluation using QWK"
   ]
  },
  {
   "cell_type": "code",
   "execution_count": 91,
   "metadata": {},
   "outputs": [],
   "source": [
    "from sklearn.metrics import classification_report\n",
    "from sklearn.metrics import cohen_kappa_score"
   ]
  },
  {
   "cell_type": "markdown",
   "metadata": {},
   "source": [
    "### Naive Bayes"
   ]
  },
  {
   "cell_type": "code",
   "execution_count": 92,
   "metadata": {},
   "outputs": [
    {
     "name": "stdout",
     "output_type": "stream",
     "text": [
      "              precision    recall  f1-score   support\n",
      "\n",
      "         1.0       0.00      0.00      0.00         7\n",
      "         2.0       0.00      0.00      0.00        23\n",
      "         3.0       0.61      0.59      0.60       160\n",
      "         4.0       0.59      0.74      0.66       156\n",
      "         5.0       0.12      0.08      0.10        13\n",
      "         6.0       0.00      0.00      0.00         1\n",
      "\n",
      "    accuracy                           0.59       360\n",
      "   macro avg       0.22      0.23      0.22       360\n",
      "weighted avg       0.53      0.59      0.55       360\n",
      "\n"
     ]
    },
    {
     "name": "stderr",
     "output_type": "stream",
     "text": [
      "C:\\Users\\User\\AppData\\Local\\Programs\\Python\\Python38-32\\lib\\site-packages\\sklearn\\metrics\\_classification.py:1221: UndefinedMetricWarning: Precision and F-score are ill-defined and being set to 0.0 in labels with no predicted samples. Use `zero_division` parameter to control this behavior.\n",
      "  _warn_prf(average, modifier, msg_start, len(result))\n"
     ]
    }
   ],
   "source": [
    "rpt = classification_report(y_test, y_predNBL)\n",
    "print(rpt)"
   ]
  },
  {
   "cell_type": "code",
   "execution_count": 93,
   "metadata": {},
   "outputs": [
    {
     "name": "stdout",
     "output_type": "stream",
     "text": [
      "0.44386909693454846\n"
     ]
    }
   ],
   "source": [
    "print(cohen_kappa_score(y_test, y_predNBL, weights=\"quadratic\"))"
   ]
  },
  {
   "cell_type": "markdown",
   "metadata": {},
   "source": [
    "### SVM "
   ]
  },
  {
   "cell_type": "code",
   "execution_count": 94,
   "metadata": {},
   "outputs": [
    {
     "name": "stdout",
     "output_type": "stream",
     "text": [
      "              precision    recall  f1-score   support\n",
      "\n",
      "         1.0       0.00      0.00      0.00         7\n",
      "         2.0       0.60      0.39      0.47        23\n",
      "         3.0       0.64      0.74      0.68       160\n",
      "         4.0       0.65      0.67      0.66       156\n",
      "         5.0       0.00      0.00      0.00        13\n",
      "         6.0       0.00      0.00      0.00         1\n",
      "\n",
      "    accuracy                           0.64       360\n",
      "   macro avg       0.31      0.30      0.30       360\n",
      "weighted avg       0.60      0.64      0.62       360\n",
      "\n"
     ]
    }
   ],
   "source": [
    "rpt = classification_report(y_test, y_predSVML)\n",
    "print(rpt)"
   ]
  },
  {
   "cell_type": "code",
   "execution_count": 95,
   "metadata": {},
   "outputs": [
    {
     "name": "stdout",
     "output_type": "stream",
     "text": [
      "0.564516129032258\n"
     ]
    }
   ],
   "source": [
    "print(cohen_kappa_score(y_test, y_predSVML, weights=\"quadratic\"))"
   ]
  },
  {
   "cell_type": "markdown",
   "metadata": {},
   "source": [
    "### BLRR"
   ]
  },
  {
   "cell_type": "code",
   "execution_count": 96,
   "metadata": {},
   "outputs": [
    {
     "name": "stdout",
     "output_type": "stream",
     "text": [
      "              precision    recall  f1-score   support\n",
      "\n",
      "         1.0       0.00      0.00      0.00         7\n",
      "         2.0       0.42      0.35      0.38        23\n",
      "         3.0       0.63      0.76      0.69       160\n",
      "         4.0       0.67      0.63      0.65       156\n",
      "         5.0       0.00      0.00      0.00        13\n",
      "         6.0       0.00      0.00      0.00         1\n",
      "\n",
      "    accuracy                           0.63       360\n",
      "   macro avg       0.29      0.29      0.29       360\n",
      "weighted avg       0.60      0.63      0.61       360\n",
      "\n"
     ]
    }
   ],
   "source": [
    "rpt = classification_report(y_test, y_predBLRRL)\n",
    "print(rpt)"
   ]
  },
  {
   "cell_type": "code",
   "execution_count": 97,
   "metadata": {},
   "outputs": [
    {
     "name": "stdout",
     "output_type": "stream",
     "text": [
      "0.6013422818791946\n"
     ]
    }
   ],
   "source": [
    "print(cohen_kappa_score(y_test, y_predBLRRL, weights=\"quadratic\"))"
   ]
  },
  {
   "cell_type": "markdown",
   "metadata": {},
   "source": [
    "### Ensemble"
   ]
  },
  {
   "cell_type": "code",
   "execution_count": 98,
   "metadata": {},
   "outputs": [
    {
     "name": "stdout",
     "output_type": "stream",
     "text": [
      "              precision    recall  f1-score   support\n",
      "\n",
      "         1.0       0.00      0.00      0.00         7\n",
      "         2.0       0.54      0.30      0.39        23\n",
      "         3.0       0.64      0.76      0.69       160\n",
      "         4.0       0.66      0.66      0.66       156\n",
      "         5.0       0.00      0.00      0.00        13\n",
      "         6.0       0.00      0.00      0.00         1\n",
      "\n",
      "    accuracy                           0.64       360\n",
      "   macro avg       0.31      0.29      0.29       360\n",
      "weighted avg       0.60      0.64      0.62       360\n",
      "\n"
     ]
    }
   ],
   "source": [
    "rpt = classification_report(y_test,results['EnsembleL'])\n",
    "print(rpt)"
   ]
  },
  {
   "cell_type": "code",
   "execution_count": 99,
   "metadata": {},
   "outputs": [
    {
     "name": "stdout",
     "output_type": "stream",
     "text": [
      "0.561464569121537\n"
     ]
    }
   ],
   "source": [
    "print(cohen_kappa_score(y_test, results['EnsembleL'], weights=\"quadratic\"))"
   ]
  },
  {
   "cell_type": "markdown",
   "metadata": {},
   "source": [
    "#### QWK Scores result excluding `length` features only:\n",
    "\n",
    "Naive Bayes: 0.44386909693454846\n",
    "\n",
    "SVM: 0.564516129032258\n",
    "\n",
    "BLRR: 0.6013422818791946\n",
    "\n",
    "Ensemble: 0.561464569121537\n"
   ]
  },
  {
   "cell_type": "markdown",
   "metadata": {},
   "source": [
    "## `POS` influence test "
   ]
  },
  {
   "cell_type": "code",
   "execution_count": 100,
   "metadata": {},
   "outputs": [],
   "source": [
    "dataset = pd.read_csv('maes_features.csv')\n",
    "# LENGTH :chars, words, commas, apostrophes, punctuations, avg_word_length, sentences, questions, avg_word_sentence \n",
    "# PROMPT :prompt_words, prompt_words/total_words, synonym_words, synonym_words/total_words\n",
    "# BoW: unstemmed, stemmed\n",
    "# POS (GRAMMATICAL): POS, POS/total_words"
   ]
  },
  {
   "cell_type": "code",
   "execution_count": 101,
   "metadata": {},
   "outputs": [
    {
     "data": {
      "text/html": [
       "<div>\n",
       "<style scoped>\n",
       "    .dataframe tbody tr th:only-of-type {\n",
       "        vertical-align: middle;\n",
       "    }\n",
       "\n",
       "    .dataframe tbody tr th {\n",
       "        vertical-align: top;\n",
       "    }\n",
       "\n",
       "    .dataframe thead th {\n",
       "        text-align: right;\n",
       "    }\n",
       "</style>\n",
       "<table border=\"1\" class=\"dataframe\">\n",
       "  <thead>\n",
       "    <tr style=\"text-align: right;\">\n",
       "      <th></th>\n",
       "      <th>Unnamed: 0</th>\n",
       "      <th>chars</th>\n",
       "      <th>words</th>\n",
       "      <th>commas</th>\n",
       "      <th>apostrophes</th>\n",
       "      <th>punctuations</th>\n",
       "      <th>avg_word_length</th>\n",
       "      <th>POS</th>\n",
       "      <th>POS/total_words</th>\n",
       "      <th>prompt_words</th>\n",
       "      <th>prompt_words/total_words</th>\n",
       "      <th>synonym_words</th>\n",
       "      <th>synonym_words/total_words</th>\n",
       "      <th>unstemmed</th>\n",
       "      <th>stemmed</th>\n",
       "      <th>score</th>\n",
       "    </tr>\n",
       "  </thead>\n",
       "  <tbody>\n",
       "    <tr>\n",
       "      <th>0</th>\n",
       "      <td>0</td>\n",
       "      <td>2639.0</td>\n",
       "      <td>527.0</td>\n",
       "      <td>15.0</td>\n",
       "      <td>13.0</td>\n",
       "      <td>21.0</td>\n",
       "      <td>5.007590</td>\n",
       "      <td>32.791587</td>\n",
       "      <td>0.062223</td>\n",
       "      <td>220.0</td>\n",
       "      <td>0.417457</td>\n",
       "      <td>112.0</td>\n",
       "      <td>0.212524</td>\n",
       "      <td>584</td>\n",
       "      <td>559</td>\n",
       "      <td>4</td>\n",
       "    </tr>\n",
       "    <tr>\n",
       "      <th>1</th>\n",
       "      <td>1</td>\n",
       "      <td>841.0</td>\n",
       "      <td>180.0</td>\n",
       "      <td>5.0</td>\n",
       "      <td>2.0</td>\n",
       "      <td>3.0</td>\n",
       "      <td>4.672222</td>\n",
       "      <td>17.866290</td>\n",
       "      <td>0.099257</td>\n",
       "      <td>82.0</td>\n",
       "      <td>0.455556</td>\n",
       "      <td>66.0</td>\n",
       "      <td>0.366667</td>\n",
       "      <td>210</td>\n",
       "      <td>210</td>\n",
       "      <td>1</td>\n",
       "    </tr>\n",
       "    <tr>\n",
       "      <th>2</th>\n",
       "      <td>2</td>\n",
       "      <td>1181.0</td>\n",
       "      <td>261.0</td>\n",
       "      <td>12.0</td>\n",
       "      <td>15.0</td>\n",
       "      <td>14.0</td>\n",
       "      <td>4.524904</td>\n",
       "      <td>22.171206</td>\n",
       "      <td>0.084947</td>\n",
       "      <td>144.0</td>\n",
       "      <td>0.551724</td>\n",
       "      <td>83.0</td>\n",
       "      <td>0.318008</td>\n",
       "      <td>291</td>\n",
       "      <td>285</td>\n",
       "      <td>2</td>\n",
       "    </tr>\n",
       "    <tr>\n",
       "      <th>3</th>\n",
       "      <td>3</td>\n",
       "      <td>2705.0</td>\n",
       "      <td>527.0</td>\n",
       "      <td>22.0</td>\n",
       "      <td>6.0</td>\n",
       "      <td>31.0</td>\n",
       "      <td>5.132827</td>\n",
       "      <td>7.026769</td>\n",
       "      <td>0.013334</td>\n",
       "      <td>245.0</td>\n",
       "      <td>0.464896</td>\n",
       "      <td>131.0</td>\n",
       "      <td>0.248577</td>\n",
       "      <td>547</td>\n",
       "      <td>528</td>\n",
       "      <td>4</td>\n",
       "    </tr>\n",
       "    <tr>\n",
       "      <th>4</th>\n",
       "      <td>4</td>\n",
       "      <td>2394.0</td>\n",
       "      <td>501.0</td>\n",
       "      <td>25.0</td>\n",
       "      <td>15.0</td>\n",
       "      <td>34.0</td>\n",
       "      <td>4.778443</td>\n",
       "      <td>31.795655</td>\n",
       "      <td>0.063464</td>\n",
       "      <td>216.0</td>\n",
       "      <td>0.431138</td>\n",
       "      <td>117.0</td>\n",
       "      <td>0.233533</td>\n",
       "      <td>591</td>\n",
       "      <td>562</td>\n",
       "      <td>4</td>\n",
       "    </tr>\n",
       "    <tr>\n",
       "      <th>...</th>\n",
       "      <td>...</td>\n",
       "      <td>...</td>\n",
       "      <td>...</td>\n",
       "      <td>...</td>\n",
       "      <td>...</td>\n",
       "      <td>...</td>\n",
       "      <td>...</td>\n",
       "      <td>...</td>\n",
       "      <td>...</td>\n",
       "      <td>...</td>\n",
       "      <td>...</td>\n",
       "      <td>...</td>\n",
       "      <td>...</td>\n",
       "      <td>...</td>\n",
       "      <td>...</td>\n",
       "      <td>...</td>\n",
       "    </tr>\n",
       "    <tr>\n",
       "      <th>1795</th>\n",
       "      <td>1795</td>\n",
       "      <td>1339.0</td>\n",
       "      <td>286.0</td>\n",
       "      <td>0.0</td>\n",
       "      <td>34.0</td>\n",
       "      <td>11.0</td>\n",
       "      <td>4.681818</td>\n",
       "      <td>31.891253</td>\n",
       "      <td>0.111508</td>\n",
       "      <td>114.0</td>\n",
       "      <td>0.398601</td>\n",
       "      <td>78.0</td>\n",
       "      <td>0.272727</td>\n",
       "      <td>303</td>\n",
       "      <td>293</td>\n",
       "      <td>3</td>\n",
       "    </tr>\n",
       "    <tr>\n",
       "      <th>1796</th>\n",
       "      <td>1796</td>\n",
       "      <td>1373.0</td>\n",
       "      <td>282.0</td>\n",
       "      <td>15.0</td>\n",
       "      <td>8.0</td>\n",
       "      <td>15.0</td>\n",
       "      <td>4.868794</td>\n",
       "      <td>12.757794</td>\n",
       "      <td>0.045240</td>\n",
       "      <td>152.0</td>\n",
       "      <td>0.539007</td>\n",
       "      <td>80.0</td>\n",
       "      <td>0.283688</td>\n",
       "      <td>339</td>\n",
       "      <td>333</td>\n",
       "      <td>3</td>\n",
       "    </tr>\n",
       "    <tr>\n",
       "      <th>1797</th>\n",
       "      <td>1797</td>\n",
       "      <td>605.0</td>\n",
       "      <td>132.0</td>\n",
       "      <td>7.0</td>\n",
       "      <td>2.0</td>\n",
       "      <td>5.0</td>\n",
       "      <td>4.583333</td>\n",
       "      <td>3.387097</td>\n",
       "      <td>0.025660</td>\n",
       "      <td>71.0</td>\n",
       "      <td>0.537879</td>\n",
       "      <td>34.0</td>\n",
       "      <td>0.257576</td>\n",
       "      <td>164</td>\n",
       "      <td>160</td>\n",
       "      <td>2</td>\n",
       "    </tr>\n",
       "    <tr>\n",
       "      <th>1798</th>\n",
       "      <td>1798</td>\n",
       "      <td>2737.0</td>\n",
       "      <td>561.0</td>\n",
       "      <td>22.0</td>\n",
       "      <td>5.0</td>\n",
       "      <td>27.0</td>\n",
       "      <td>4.878788</td>\n",
       "      <td>20.071942</td>\n",
       "      <td>0.035779</td>\n",
       "      <td>301.0</td>\n",
       "      <td>0.536542</td>\n",
       "      <td>168.0</td>\n",
       "      <td>0.299465</td>\n",
       "      <td>542</td>\n",
       "      <td>512</td>\n",
       "      <td>3</td>\n",
       "    </tr>\n",
       "    <tr>\n",
       "      <th>1799</th>\n",
       "      <td>1799</td>\n",
       "      <td>2462.0</td>\n",
       "      <td>520.0</td>\n",
       "      <td>8.0</td>\n",
       "      <td>14.0</td>\n",
       "      <td>25.0</td>\n",
       "      <td>4.734615</td>\n",
       "      <td>37.479167</td>\n",
       "      <td>0.072075</td>\n",
       "      <td>231.0</td>\n",
       "      <td>0.444231</td>\n",
       "      <td>165.0</td>\n",
       "      <td>0.317308</td>\n",
       "      <td>514</td>\n",
       "      <td>496</td>\n",
       "      <td>3</td>\n",
       "    </tr>\n",
       "  </tbody>\n",
       "</table>\n",
       "<p>1800 rows × 16 columns</p>\n",
       "</div>"
      ],
      "text/plain": [
       "      Unnamed: 0   chars  words  commas  apostrophes  punctuations  \\\n",
       "0              0  2639.0  527.0    15.0         13.0          21.0   \n",
       "1              1   841.0  180.0     5.0          2.0           3.0   \n",
       "2              2  1181.0  261.0    12.0         15.0          14.0   \n",
       "3              3  2705.0  527.0    22.0          6.0          31.0   \n",
       "4              4  2394.0  501.0    25.0         15.0          34.0   \n",
       "...          ...     ...    ...     ...          ...           ...   \n",
       "1795        1795  1339.0  286.0     0.0         34.0          11.0   \n",
       "1796        1796  1373.0  282.0    15.0          8.0          15.0   \n",
       "1797        1797   605.0  132.0     7.0          2.0           5.0   \n",
       "1798        1798  2737.0  561.0    22.0          5.0          27.0   \n",
       "1799        1799  2462.0  520.0     8.0         14.0          25.0   \n",
       "\n",
       "      avg_word_length        POS  POS/total_words  prompt_words  \\\n",
       "0            5.007590  32.791587         0.062223         220.0   \n",
       "1            4.672222  17.866290         0.099257          82.0   \n",
       "2            4.524904  22.171206         0.084947         144.0   \n",
       "3            5.132827   7.026769         0.013334         245.0   \n",
       "4            4.778443  31.795655         0.063464         216.0   \n",
       "...               ...        ...              ...           ...   \n",
       "1795         4.681818  31.891253         0.111508         114.0   \n",
       "1796         4.868794  12.757794         0.045240         152.0   \n",
       "1797         4.583333   3.387097         0.025660          71.0   \n",
       "1798         4.878788  20.071942         0.035779         301.0   \n",
       "1799         4.734615  37.479167         0.072075         231.0   \n",
       "\n",
       "      prompt_words/total_words  synonym_words  synonym_words/total_words  \\\n",
       "0                     0.417457          112.0                   0.212524   \n",
       "1                     0.455556           66.0                   0.366667   \n",
       "2                     0.551724           83.0                   0.318008   \n",
       "3                     0.464896          131.0                   0.248577   \n",
       "4                     0.431138          117.0                   0.233533   \n",
       "...                        ...            ...                        ...   \n",
       "1795                  0.398601           78.0                   0.272727   \n",
       "1796                  0.539007           80.0                   0.283688   \n",
       "1797                  0.537879           34.0                   0.257576   \n",
       "1798                  0.536542          168.0                   0.299465   \n",
       "1799                  0.444231          165.0                   0.317308   \n",
       "\n",
       "      unstemmed  stemmed  score  \n",
       "0           584      559      4  \n",
       "1           210      210      1  \n",
       "2           291      285      2  \n",
       "3           547      528      4  \n",
       "4           591      562      4  \n",
       "...         ...      ...    ...  \n",
       "1795        303      293      3  \n",
       "1796        339      333      3  \n",
       "1797        164      160      2  \n",
       "1798        542      512      3  \n",
       "1799        514      496      3  \n",
       "\n",
       "[1800 rows x 16 columns]"
      ]
     },
     "execution_count": 101,
     "metadata": {},
     "output_type": "execute_result"
    }
   ],
   "source": [
    "dataset"
   ]
  },
  {
   "cell_type": "markdown",
   "metadata": {},
   "source": [
    "exclude only `PoS` features.\n",
    "\n",
    "Including chars, words, commas, apostrophes, punctuations, avg_word_length, prompt_words, prompt_words/total_words, synonym_words, synonym_words/total_words, unstemmed, stemmed"
   ]
  },
  {
   "cell_type": "code",
   "execution_count": 102,
   "metadata": {},
   "outputs": [
    {
     "data": {
      "text/plain": [
       "array([2.63900000e+03, 5.27000000e+02, 1.50000000e+01, 1.30000000e+01,\n",
       "       2.10000000e+01, 5.00759013e+00, 2.20000000e+02, 4.17457306e-01,\n",
       "       1.12000000e+02, 2.12523719e-01, 5.84000000e+02, 5.59000000e+02])"
      ]
     },
     "execution_count": 102,
     "metadata": {},
     "output_type": "execute_result"
    }
   ],
   "source": [
    "X = dataset.iloc[:,[1,2,3,4,5,6,9,10,11,12,13,14]].values.astype(float)\n",
    "y = dataset.iloc[:,15].values.astype(float)\n",
    "X[0]"
   ]
  },
  {
   "cell_type": "code",
   "execution_count": 103,
   "metadata": {},
   "outputs": [
    {
     "data": {
      "text/plain": [
       "(1800, 12)"
      ]
     },
     "execution_count": 103,
     "metadata": {},
     "output_type": "execute_result"
    }
   ],
   "source": [
    "X.shape"
   ]
  },
  {
   "cell_type": "code",
   "execution_count": 104,
   "metadata": {},
   "outputs": [
    {
     "data": {
      "text/plain": [
       "(1800, 1)"
      ]
     },
     "execution_count": 104,
     "metadata": {},
     "output_type": "execute_result"
    }
   ],
   "source": [
    "y = np.array(y).reshape(-1,1)\n",
    "y.shape"
   ]
  },
  {
   "cell_type": "code",
   "execution_count": 105,
   "metadata": {},
   "outputs": [
    {
     "name": "stdout",
     "output_type": "stream",
     "text": [
      "[[3.]\n",
      " [5.]\n",
      " [3.]\n",
      " [4.]\n",
      " [4.]]\n"
     ]
    }
   ],
   "source": [
    "### Split the train and test set\n",
    "from sklearn.model_selection import train_test_split\n",
    "X_train, X_test, y_train, y_test = train_test_split(X, y, test_size=0.2, random_state=0)\n",
    "# Have a look at the first few lines\n",
    "print(y_test[:5, :])"
   ]
  },
  {
   "cell_type": "markdown",
   "metadata": {},
   "source": [
    "### Model Training excluding `PoS` features only"
   ]
  },
  {
   "cell_type": "markdown",
   "metadata": {},
   "source": [
    "### Naive Bayes Training"
   ]
  },
  {
   "cell_type": "code",
   "execution_count": 106,
   "metadata": {},
   "outputs": [
    {
     "data": {
      "text/plain": [
       "MultinomialNB()"
      ]
     },
     "execution_count": 106,
     "metadata": {},
     "output_type": "execute_result"
    }
   ],
   "source": [
    "from sklearn.preprocessing import StandardScaler, MinMaxScaler\n",
    "\n",
    "X_trainNB = X_train\n",
    "y_trainNB = y_train\n",
    "X_testNB = X_test\n",
    "y_testNB = y_test\n",
    "\n",
    "model_nb = naive_bayes.MultinomialNB()\n",
    "model_nb.fit(X_trainNB, y_trainNB.ravel())"
   ]
  },
  {
   "cell_type": "markdown",
   "metadata": {},
   "source": [
    "### SVM Training"
   ]
  },
  {
   "cell_type": "code",
   "execution_count": 107,
   "metadata": {},
   "outputs": [
    {
     "name": "stdout",
     "output_type": "stream",
     "text": [
      "[LibSVM]"
     ]
    },
    {
     "data": {
      "text/plain": [
       "SVR(gamma='auto', verbose=True)"
      ]
     },
     "execution_count": 107,
     "metadata": {},
     "output_type": "execute_result"
    }
   ],
   "source": [
    "from sklearn.preprocessing import StandardScaler\n",
    "sc_Xsvm = StandardScaler()\n",
    "sc_ysvm = StandardScaler()\n",
    "X_trainSVM = sc_Xsvm.fit_transform(X_train)\n",
    "y_trainSVM = sc_ysvm.fit_transform(y_train)\n",
    "X_testSVM = sc_Xsvm.transform(X_test)\n",
    "y_testSVM = sc_ysvm.transform(y_test)\n",
    "\n",
    "\n",
    "from sklearn.svm import SVR\n",
    "# most important SVR parameter is Kernel type. It can be #linear,polynomial or gaussian SVR. We have a non-linear condition #so we can select polynomial or gaussian but here we select RBF(a #gaussian type) kernel.\n",
    "# kernel{‘linear’, ‘poly’, ‘rbf’, ‘sigmoid’, ‘precomputed’}, default=’rbf’\n",
    "# maybe use poly and increase the degree\n",
    "model_svm = SVR(kernel='rbf', gamma='auto', verbose=True)\n",
    "#regressor = SVR(kernel='poly', degree=5, gamma='auto', verbose=True)\n",
    "model_svm.fit(X_trainSVM,y_trainSVM.ravel())"
   ]
  },
  {
   "cell_type": "markdown",
   "metadata": {},
   "source": [
    "### BLRR Training"
   ]
  },
  {
   "cell_type": "code",
   "execution_count": 108,
   "metadata": {},
   "outputs": [
    {
     "data": {
      "text/plain": [
       "BayesianRidge()"
      ]
     },
     "execution_count": 108,
     "metadata": {},
     "output_type": "execute_result"
    }
   ],
   "source": [
    "from sklearn.preprocessing import StandardScaler\n",
    "sc_Xblrr = StandardScaler()\n",
    "sc_yblrr = StandardScaler()\n",
    "X_trainBLRR = sc_Xblrr.fit_transform(X_train)\n",
    "y_trainBLRR = sc_yblrr.fit_transform(y_train)\n",
    "X_testBLRR = sc_Xblrr.transform(X_test)\n",
    "y_testBLRR = sc_yblrr.transform(y_test)\n",
    "\n",
    "from sklearn import linear_model\n",
    "model_blrr = linear_model.BayesianRidge()\n",
    "model_blrr.fit(X_trainBLRR, y_trainBLRR.ravel())"
   ]
  },
  {
   "cell_type": "markdown",
   "metadata": {},
   "source": [
    "## Prediction excluding `pos` only"
   ]
  },
  {
   "cell_type": "code",
   "execution_count": 109,
   "metadata": {},
   "outputs": [
    {
     "name": "stdout",
     "output_type": "stream",
     "text": [
      "[[ 4  2  0  1  0  0]\n",
      " [ 6  8  7  1  0  1]\n",
      " [ 5 19 97 34  2  3]\n",
      " [ 0  4 64 72 11  5]\n",
      " [ 0  0  1  4  2  6]\n",
      " [ 0  0  0  0  1  0]]\n"
     ]
    }
   ],
   "source": [
    "#NB\n",
    "y_predNB = model_nb.predict(X_testNB)\n",
    "#y_1_predNB = sc_ynb.inverse_transform(y_1_predNB).round()\n",
    "\n",
    "cm = confusion_matrix(y_test, y_predNB)\n",
    "\n",
    "print(cm)"
   ]
  },
  {
   "cell_type": "code",
   "execution_count": 110,
   "metadata": {},
   "outputs": [],
   "source": [
    "#SVM\n",
    "y_predSVM = model_svm.predict(X_testSVM)\n",
    "y_predSVM = sc_ysvm.inverse_transform(y_predSVM).round()\n",
    "\n",
    "#cm = confusion_matrix(y_test, y_predSVML)\n",
    "#np.set_printoptions(threshold=np.inf)\n",
    "#print(cm)"
   ]
  },
  {
   "cell_type": "code",
   "execution_count": 111,
   "metadata": {},
   "outputs": [],
   "source": [
    "#BLRR\n",
    "y_predBLRR = model_blrr.predict(X_testBLRR)\n",
    "y_predBLRR = sc_yblrr.inverse_transform(y_predBLRR).round()\n",
    "\n",
    "#cm = confusion_matrix(y_test, y_predBLRRL)\n",
    "#print(cm)"
   ]
  },
  {
   "cell_type": "code",
   "execution_count": 112,
   "metadata": {},
   "outputs": [],
   "source": [
    "actual = pd.Series(y_test.ravel())\n",
    "predNB = pd.Series(y_predNB)\n",
    "predSVM = pd.Series(y_predSVM)\n",
    "predBLRR = pd.Series(y_predBLRR)\n",
    "\n",
    "data = {\"Actual\": actual,\n",
    "        \"NB\": predNB, \n",
    "        \"SVM\": predSVM, \n",
    "        \"BLRR\": predBLRR} \n",
    "results = pd.concat(data, axis=1)\n",
    "#results.head(5)"
   ]
  },
  {
   "cell_type": "code",
   "execution_count": 113,
   "metadata": {},
   "outputs": [
    {
     "data": {
      "text/html": [
       "<div>\n",
       "<style scoped>\n",
       "    .dataframe tbody tr th:only-of-type {\n",
       "        vertical-align: middle;\n",
       "    }\n",
       "\n",
       "    .dataframe tbody tr th {\n",
       "        vertical-align: top;\n",
       "    }\n",
       "\n",
       "    .dataframe thead th {\n",
       "        text-align: right;\n",
       "    }\n",
       "</style>\n",
       "<table border=\"1\" class=\"dataframe\">\n",
       "  <thead>\n",
       "    <tr style=\"text-align: right;\">\n",
       "      <th></th>\n",
       "      <th>Actual</th>\n",
       "      <th>NB</th>\n",
       "      <th>SVM</th>\n",
       "      <th>BLRR</th>\n",
       "      <th>Ensemble</th>\n",
       "    </tr>\n",
       "  </thead>\n",
       "  <tbody>\n",
       "    <tr>\n",
       "      <th>0</th>\n",
       "      <td>3.0</td>\n",
       "      <td>6.0</td>\n",
       "      <td>4.0</td>\n",
       "      <td>4.0</td>\n",
       "      <td>4.0</td>\n",
       "    </tr>\n",
       "    <tr>\n",
       "      <th>1</th>\n",
       "      <td>5.0</td>\n",
       "      <td>4.0</td>\n",
       "      <td>4.0</td>\n",
       "      <td>4.0</td>\n",
       "      <td>4.0</td>\n",
       "    </tr>\n",
       "    <tr>\n",
       "      <th>2</th>\n",
       "      <td>3.0</td>\n",
       "      <td>3.0</td>\n",
       "      <td>3.0</td>\n",
       "      <td>3.0</td>\n",
       "      <td>3.0</td>\n",
       "    </tr>\n",
       "    <tr>\n",
       "      <th>3</th>\n",
       "      <td>4.0</td>\n",
       "      <td>3.0</td>\n",
       "      <td>3.0</td>\n",
       "      <td>4.0</td>\n",
       "      <td>3.0</td>\n",
       "    </tr>\n",
       "    <tr>\n",
       "      <th>4</th>\n",
       "      <td>4.0</td>\n",
       "      <td>4.0</td>\n",
       "      <td>4.0</td>\n",
       "      <td>5.0</td>\n",
       "      <td>4.0</td>\n",
       "    </tr>\n",
       "  </tbody>\n",
       "</table>\n",
       "</div>"
      ],
      "text/plain": [
       "   Actual   NB  SVM  BLRR  Ensemble\n",
       "0     3.0  6.0  4.0   4.0       4.0\n",
       "1     5.0  4.0  4.0   4.0       4.0\n",
       "2     3.0  3.0  3.0   3.0       3.0\n",
       "3     4.0  3.0  3.0   4.0       3.0\n",
       "4     4.0  4.0  4.0   5.0       4.0"
      ]
     },
     "execution_count": 113,
     "metadata": {},
     "output_type": "execute_result"
    }
   ],
   "source": [
    "results['Ensemble'] = np.where(\n",
    "                            (results['NB'] == results['BLRR']) |\n",
    "                            (results['NB'] == results['SVM']),\n",
    "                            results['NB'],\n",
    "                            results['BLRR']\n",
    "                        )\n",
    "results.head(5)"
   ]
  },
  {
   "cell_type": "markdown",
   "metadata": {},
   "source": [
    "## Evaluation excluding `pos` only"
   ]
  },
  {
   "cell_type": "code",
   "execution_count": 114,
   "metadata": {},
   "outputs": [],
   "source": [
    "from sklearn.metrics import classification_report\n",
    "from sklearn.metrics import cohen_kappa_score\n"
   ]
  },
  {
   "cell_type": "markdown",
   "metadata": {},
   "source": [
    "### NB"
   ]
  },
  {
   "cell_type": "code",
   "execution_count": 115,
   "metadata": {},
   "outputs": [
    {
     "name": "stdout",
     "output_type": "stream",
     "text": [
      "              precision    recall  f1-score   support\n",
      "\n",
      "         1.0       0.27      0.57      0.36         7\n",
      "         2.0       0.24      0.35      0.29        23\n",
      "         3.0       0.57      0.61      0.59       160\n",
      "         4.0       0.64      0.46      0.54       156\n",
      "         5.0       0.12      0.15      0.14        13\n",
      "         6.0       0.00      0.00      0.00         1\n",
      "\n",
      "    accuracy                           0.51       360\n",
      "   macro avg       0.31      0.36      0.32       360\n",
      "weighted avg       0.56      0.51      0.53       360\n",
      "\n",
      "0.5109078114004222\n"
     ]
    }
   ],
   "source": [
    "rpt = classification_report(y_test, y_predNB)\n",
    "print(rpt)\n",
    "\n",
    "print(cohen_kappa_score(y_test, y_predNB, weights=\"quadratic\"))"
   ]
  },
  {
   "cell_type": "markdown",
   "metadata": {},
   "source": [
    "### SVM"
   ]
  },
  {
   "cell_type": "code",
   "execution_count": 116,
   "metadata": {},
   "outputs": [
    {
     "name": "stdout",
     "output_type": "stream",
     "text": [
      "              precision    recall  f1-score   support\n",
      "\n",
      "         1.0       0.00      0.00      0.00         7\n",
      "         2.0       0.53      0.39      0.45        23\n",
      "         3.0       0.63      0.74      0.68       160\n",
      "         4.0       0.66      0.65      0.65       156\n",
      "         5.0       1.00      0.15      0.27        13\n",
      "         6.0       0.00      0.00      0.00         1\n",
      "\n",
      "    accuracy                           0.64       360\n",
      "   macro avg       0.47      0.32      0.34       360\n",
      "weighted avg       0.64      0.64      0.63       360\n",
      "\n",
      "0.582941571524513\n"
     ]
    },
    {
     "name": "stderr",
     "output_type": "stream",
     "text": [
      "C:\\Users\\User\\AppData\\Local\\Programs\\Python\\Python38-32\\lib\\site-packages\\sklearn\\metrics\\_classification.py:1221: UndefinedMetricWarning: Precision and F-score are ill-defined and being set to 0.0 in labels with no predicted samples. Use `zero_division` parameter to control this behavior.\n",
      "  _warn_prf(average, modifier, msg_start, len(result))\n"
     ]
    }
   ],
   "source": [
    "rpt = classification_report(y_test, y_predSVM)\n",
    "print(rpt)\n",
    "\n",
    "print(cohen_kappa_score(y_test, y_predSVM, weights=\"quadratic\"))"
   ]
  },
  {
   "cell_type": "markdown",
   "metadata": {},
   "source": [
    "### BLRR"
   ]
  },
  {
   "cell_type": "code",
   "execution_count": 117,
   "metadata": {},
   "outputs": [
    {
     "name": "stdout",
     "output_type": "stream",
     "text": [
      "              precision    recall  f1-score   support\n",
      "\n",
      "         1.0       0.00      0.00      0.00         7\n",
      "         2.0       0.50      0.39      0.44        23\n",
      "         3.0       0.64      0.77      0.70       160\n",
      "         4.0       0.70      0.64      0.67       156\n",
      "         5.0       0.62      0.38      0.48        13\n",
      "         6.0       0.00      0.00      0.00         1\n",
      "\n",
      "    accuracy                           0.66       360\n",
      "   macro avg       0.41      0.36      0.38       360\n",
      "weighted avg       0.64      0.66      0.65       360\n",
      "\n",
      "0.6172680412371134\n"
     ]
    }
   ],
   "source": [
    "rpt = classification_report(y_test, y_predBLRR)\n",
    "print(rpt)\n",
    "\n",
    "print(cohen_kappa_score(y_test, y_predBLRR, weights=\"quadratic\"))"
   ]
  },
  {
   "cell_type": "markdown",
   "metadata": {},
   "source": [
    "### Ensemble"
   ]
  },
  {
   "cell_type": "code",
   "execution_count": 118,
   "metadata": {},
   "outputs": [
    {
     "name": "stdout",
     "output_type": "stream",
     "text": [
      "              precision    recall  f1-score   support\n",
      "\n",
      "         1.0       0.00      0.00      0.00         7\n",
      "         2.0       0.53      0.39      0.45        23\n",
      "         3.0       0.63      0.76      0.69       160\n",
      "         4.0       0.69      0.63      0.66       156\n",
      "         5.0       0.71      0.38      0.50        13\n",
      "         6.0       0.00      0.00      0.00         1\n",
      "\n",
      "    accuracy                           0.65       360\n",
      "   macro avg       0.43      0.36      0.38       360\n",
      "weighted avg       0.64      0.65      0.64       360\n",
      "\n",
      "0.6037698930341768\n"
     ]
    }
   ],
   "source": [
    "rpt = classification_report(y_test,results['Ensemble'])\n",
    "print(rpt)\n",
    "\n",
    "print(cohen_kappa_score(y_test, results['Ensemble'], weights=\"quadratic\"))"
   ]
  },
  {
   "cell_type": "markdown",
   "metadata": {},
   "source": [
    "#### QWK Scores result excluding `PoS` features only:\n",
    "\n",
    "Naive Bayes: 0.5109078114004222\n",
    "\n",
    "SVM: 0.582941571524513\n",
    "\n",
    "BLRR: 0.6172680412371134\n",
    "\n",
    "Ensemble: 0.6037698930341768\n"
   ]
  },
  {
   "cell_type": "markdown",
   "metadata": {},
   "source": [
    "## `BoW` influence test "
   ]
  },
  {
   "cell_type": "code",
   "execution_count": 119,
   "metadata": {},
   "outputs": [],
   "source": [
    "dataset = pd.read_csv('maes_features.csv')\n",
    "# LENGTH :chars, words, commas, apostrophes, punctuations, avg_word_length, sentences, questions, avg_word_sentence \n",
    "# PROMPT :prompt_words, prompt_words/total_words, synonym_words, synonym_words/total_words\n",
    "# BoW: unstemmed, stemmed\n",
    "# POS (GRAMMATICAL): POS, POS/total_words"
   ]
  },
  {
   "cell_type": "markdown",
   "metadata": {},
   "source": [
    "excluding only `BoW` features.\n",
    "\n",
    "Including chars, words, commas, apostrophes, punctuations, avg_word_length, sentences, questions, avg_word_sentence, prompt_words, prompt_words/total_words, synonym_words, synonym_words/total_words, POS, POS/total_words"
   ]
  },
  {
   "cell_type": "code",
   "execution_count": 120,
   "metadata": {},
   "outputs": [
    {
     "data": {
      "text/plain": [
       "array([[2.63900000e+03, 5.27000000e+02, 1.50000000e+01, ...,\n",
       "        4.17457306e-01, 1.12000000e+02, 2.12523719e-01],\n",
       "       [8.41000000e+02, 1.80000000e+02, 5.00000000e+00, ...,\n",
       "        4.55555556e-01, 6.60000000e+01, 3.66666667e-01],\n",
       "       [1.18100000e+03, 2.61000000e+02, 1.20000000e+01, ...,\n",
       "        5.51724138e-01, 8.30000000e+01, 3.18007663e-01],\n",
       "       ...,\n",
       "       [6.05000000e+02, 1.32000000e+02, 7.00000000e+00, ...,\n",
       "        5.37878788e-01, 3.40000000e+01, 2.57575758e-01],\n",
       "       [2.73700000e+03, 5.61000000e+02, 2.20000000e+01, ...,\n",
       "        5.36541889e-01, 1.68000000e+02, 2.99465241e-01],\n",
       "       [2.46200000e+03, 5.20000000e+02, 8.00000000e+00, ...,\n",
       "        4.44230769e-01, 1.65000000e+02, 3.17307692e-01]])"
      ]
     },
     "execution_count": 120,
     "metadata": {},
     "output_type": "execute_result"
    }
   ],
   "source": [
    "X = dataset.iloc[:,1:13].values.astype(float)\n",
    "y = dataset.iloc[:,15].values.astype(float)\n",
    "X"
   ]
  },
  {
   "cell_type": "code",
   "execution_count": 121,
   "metadata": {},
   "outputs": [
    {
     "name": "stdout",
     "output_type": "stream",
     "text": [
      "[[3.]\n",
      " [5.]\n",
      " [3.]\n",
      " [4.]\n",
      " [4.]]\n"
     ]
    }
   ],
   "source": [
    "X.shape\n",
    "\n",
    "y = np.array(y).reshape(-1,1)\n",
    "y.shape\n",
    "\n",
    "### Split the train and test set\n",
    "from sklearn.model_selection import train_test_split\n",
    "X_train, X_test, y_train, y_test = train_test_split(X, y, test_size=0.2, random_state=0)\n",
    "# Have a look at the first few lines\n",
    "print(y_test[:5, :])"
   ]
  },
  {
   "cell_type": "markdown",
   "metadata": {},
   "source": [
    "### Model Training excluding `BoW` features only"
   ]
  },
  {
   "cell_type": "markdown",
   "metadata": {},
   "source": [
    "### NB"
   ]
  },
  {
   "cell_type": "code",
   "execution_count": 122,
   "metadata": {},
   "outputs": [
    {
     "data": {
      "text/plain": [
       "MultinomialNB()"
      ]
     },
     "execution_count": 122,
     "metadata": {},
     "output_type": "execute_result"
    }
   ],
   "source": [
    "from sklearn.preprocessing import StandardScaler, MinMaxScaler\n",
    "\n",
    "X_trainNB = X_train\n",
    "y_trainNB = y_train\n",
    "X_testNB = X_test\n",
    "y_testNB = y_test\n",
    "\n",
    "model_nb = naive_bayes.MultinomialNB()\n",
    "model_nb.fit(X_trainNB, y_trainNB.ravel())"
   ]
  },
  {
   "cell_type": "markdown",
   "metadata": {},
   "source": [
    "### SVM"
   ]
  },
  {
   "cell_type": "code",
   "execution_count": 123,
   "metadata": {},
   "outputs": [
    {
     "name": "stdout",
     "output_type": "stream",
     "text": [
      "[LibSVM]"
     ]
    },
    {
     "data": {
      "text/plain": [
       "SVR(gamma='auto', verbose=True)"
      ]
     },
     "execution_count": 123,
     "metadata": {},
     "output_type": "execute_result"
    }
   ],
   "source": [
    "from sklearn.preprocessing import StandardScaler\n",
    "sc_Xsvm = StandardScaler()\n",
    "sc_ysvm = StandardScaler()\n",
    "X_trainSVM = sc_Xsvm.fit_transform(X_train)\n",
    "y_trainSVM = sc_ysvm.fit_transform(y_train)\n",
    "X_testSVM = sc_Xsvm.transform(X_test)\n",
    "y_testSVM = sc_ysvm.transform(y_test)\n",
    "\n",
    "\n",
    "from sklearn.svm import SVR\n",
    "# most important SVR parameter is Kernel type. It can be #linear,polynomial or gaussian SVR. We have a non-linear condition #so we can select polynomial or gaussian but here we select RBF(a #gaussian type) kernel.\n",
    "# kernel{‘linear’, ‘poly’, ‘rbf’, ‘sigmoid’, ‘precomputed’}, default=’rbf’\n",
    "# maybe use poly and increase the degree\n",
    "model_svm = SVR(kernel='rbf', gamma='auto', verbose=True)\n",
    "#regressor = SVR(kernel='poly', degree=5, gamma='auto', verbose=True)\n",
    "model_svm.fit(X_trainSVM,y_trainSVM.ravel())"
   ]
  },
  {
   "cell_type": "markdown",
   "metadata": {},
   "source": [
    "### BLRR"
   ]
  },
  {
   "cell_type": "code",
   "execution_count": 124,
   "metadata": {},
   "outputs": [
    {
     "data": {
      "text/plain": [
       "BayesianRidge()"
      ]
     },
     "execution_count": 124,
     "metadata": {},
     "output_type": "execute_result"
    }
   ],
   "source": [
    "from sklearn.preprocessing import StandardScaler\n",
    "sc_Xblrr = StandardScaler()\n",
    "sc_yblrr = StandardScaler()\n",
    "X_trainBLRR = sc_Xblrr.fit_transform(X_train)\n",
    "y_trainBLRR = sc_yblrr.fit_transform(y_train)\n",
    "X_testBLRR = sc_Xblrr.transform(X_test)\n",
    "y_testBLRR = sc_yblrr.transform(y_test)\n",
    "\n",
    "from sklearn import linear_model\n",
    "model_blrr = linear_model.BayesianRidge()\n",
    "model_blrr.fit(X_trainBLRR, y_trainBLRR.ravel())"
   ]
  },
  {
   "cell_type": "markdown",
   "metadata": {},
   "source": [
    "## Prediction excluding `BoW` only"
   ]
  },
  {
   "cell_type": "code",
   "execution_count": 125,
   "metadata": {},
   "outputs": [
    {
     "name": "stdout",
     "output_type": "stream",
     "text": [
      "[[  3   3   0   1   0   0]\n",
      " [  1   8  11   3   0   0]\n",
      " [  0  16 100  42   0   2]\n",
      " [  0   4  48  85  15   4]\n",
      " [  0   0   0   5   7   1]\n",
      " [  0   0   0   0   1   0]]\n"
     ]
    }
   ],
   "source": [
    "#NB\n",
    "y_predNB = model_nb.predict(X_testNB)\n",
    "#y_1_predNB = sc_ynb.inverse_transform(y_1_predNB).round()\n",
    "\n",
    "cm = confusion_matrix(y_test, y_predNB)\n",
    "\n",
    "print(cm)"
   ]
  },
  {
   "cell_type": "code",
   "execution_count": 126,
   "metadata": {},
   "outputs": [
    {
     "name": "stdout",
     "output_type": "stream",
     "text": [
      "[[  0   6   1   0   0   0]\n",
      " [  0  11  11   1   0   0]\n",
      " [  0   2 115  43   0   0]\n",
      " [  0   0  47 109   0   0]\n",
      " [  0   0   1  10   2   0]\n",
      " [  0   0   0   1   0   0]]\n"
     ]
    }
   ],
   "source": [
    "#SVM\n",
    "y_predSVM = model_svm.predict(X_testSVM)\n",
    "y_predSVM = sc_ysvm.inverse_transform(y_predSVM).round()\n",
    "\n",
    "cm = confusion_matrix(y_test, y_predSVM)\n",
    "#np.set_printoptions(threshold=np.inf)\n",
    "print(cm)"
   ]
  },
  {
   "cell_type": "code",
   "execution_count": 127,
   "metadata": {},
   "outputs": [
    {
     "name": "stdout",
     "output_type": "stream",
     "text": [
      "[[  0   4   3   0   0   0]\n",
      " [  0   8  14   1   0   0]\n",
      " [  0   3 129  27   1   0]\n",
      " [  0   0  60  95   1   0]\n",
      " [  0   0   0   6   6   1]\n",
      " [  0   0   0   0   1   0]]\n"
     ]
    }
   ],
   "source": [
    "#BLRR\n",
    "y_predBLRR = model_blrr.predict(X_testBLRR)\n",
    "y_predBLRR = sc_yblrr.inverse_transform(y_predBLRR).round()\n",
    "\n",
    "cm = confusion_matrix(y_test, y_predBLRR)\n",
    "print(cm)"
   ]
  },
  {
   "cell_type": "code",
   "execution_count": 128,
   "metadata": {},
   "outputs": [
    {
     "data": {
      "text/html": [
       "<div>\n",
       "<style scoped>\n",
       "    .dataframe tbody tr th:only-of-type {\n",
       "        vertical-align: middle;\n",
       "    }\n",
       "\n",
       "    .dataframe tbody tr th {\n",
       "        vertical-align: top;\n",
       "    }\n",
       "\n",
       "    .dataframe thead th {\n",
       "        text-align: right;\n",
       "    }\n",
       "</style>\n",
       "<table border=\"1\" class=\"dataframe\">\n",
       "  <thead>\n",
       "    <tr style=\"text-align: right;\">\n",
       "      <th></th>\n",
       "      <th>Actual</th>\n",
       "      <th>NB</th>\n",
       "      <th>SVM</th>\n",
       "      <th>BLRR</th>\n",
       "    </tr>\n",
       "  </thead>\n",
       "  <tbody>\n",
       "    <tr>\n",
       "      <th>0</th>\n",
       "      <td>3.0</td>\n",
       "      <td>4.0</td>\n",
       "      <td>4.0</td>\n",
       "      <td>5.0</td>\n",
       "    </tr>\n",
       "    <tr>\n",
       "      <th>1</th>\n",
       "      <td>5.0</td>\n",
       "      <td>6.0</td>\n",
       "      <td>4.0</td>\n",
       "      <td>4.0</td>\n",
       "    </tr>\n",
       "    <tr>\n",
       "      <th>2</th>\n",
       "      <td>3.0</td>\n",
       "      <td>3.0</td>\n",
       "      <td>3.0</td>\n",
       "      <td>3.0</td>\n",
       "    </tr>\n",
       "    <tr>\n",
       "      <th>3</th>\n",
       "      <td>4.0</td>\n",
       "      <td>3.0</td>\n",
       "      <td>3.0</td>\n",
       "      <td>3.0</td>\n",
       "    </tr>\n",
       "    <tr>\n",
       "      <th>4</th>\n",
       "      <td>4.0</td>\n",
       "      <td>5.0</td>\n",
       "      <td>4.0</td>\n",
       "      <td>4.0</td>\n",
       "    </tr>\n",
       "  </tbody>\n",
       "</table>\n",
       "</div>"
      ],
      "text/plain": [
       "   Actual   NB  SVM  BLRR\n",
       "0     3.0  4.0  4.0   5.0\n",
       "1     5.0  6.0  4.0   4.0\n",
       "2     3.0  3.0  3.0   3.0\n",
       "3     4.0  3.0  3.0   3.0\n",
       "4     4.0  5.0  4.0   4.0"
      ]
     },
     "execution_count": 128,
     "metadata": {},
     "output_type": "execute_result"
    }
   ],
   "source": [
    "actual = pd.Series(y_test.ravel())\n",
    "predNB = pd.Series(y_predNB)\n",
    "predSVM = pd.Series(y_predSVM)\n",
    "predBLRR = pd.Series(y_predBLRR)\n",
    "\n",
    "data = {\"Actual\": actual,\n",
    "        \"NB\": predNB, \n",
    "        \"SVM\": predSVM, \n",
    "        \"BLRR\": predBLRR} \n",
    "results = pd.concat(data, axis=1)\n",
    "results.head(5)"
   ]
  },
  {
   "cell_type": "code",
   "execution_count": 129,
   "metadata": {},
   "outputs": [
    {
     "data": {
      "text/html": [
       "<div>\n",
       "<style scoped>\n",
       "    .dataframe tbody tr th:only-of-type {\n",
       "        vertical-align: middle;\n",
       "    }\n",
       "\n",
       "    .dataframe tbody tr th {\n",
       "        vertical-align: top;\n",
       "    }\n",
       "\n",
       "    .dataframe thead th {\n",
       "        text-align: right;\n",
       "    }\n",
       "</style>\n",
       "<table border=\"1\" class=\"dataframe\">\n",
       "  <thead>\n",
       "    <tr style=\"text-align: right;\">\n",
       "      <th></th>\n",
       "      <th>Actual</th>\n",
       "      <th>NB</th>\n",
       "      <th>SVM</th>\n",
       "      <th>BLRR</th>\n",
       "      <th>Ensemble</th>\n",
       "    </tr>\n",
       "  </thead>\n",
       "  <tbody>\n",
       "    <tr>\n",
       "      <th>0</th>\n",
       "      <td>3.0</td>\n",
       "      <td>4.0</td>\n",
       "      <td>4.0</td>\n",
       "      <td>5.0</td>\n",
       "      <td>4.0</td>\n",
       "    </tr>\n",
       "    <tr>\n",
       "      <th>1</th>\n",
       "      <td>5.0</td>\n",
       "      <td>6.0</td>\n",
       "      <td>4.0</td>\n",
       "      <td>4.0</td>\n",
       "      <td>4.0</td>\n",
       "    </tr>\n",
       "    <tr>\n",
       "      <th>2</th>\n",
       "      <td>3.0</td>\n",
       "      <td>3.0</td>\n",
       "      <td>3.0</td>\n",
       "      <td>3.0</td>\n",
       "      <td>3.0</td>\n",
       "    </tr>\n",
       "    <tr>\n",
       "      <th>3</th>\n",
       "      <td>4.0</td>\n",
       "      <td>3.0</td>\n",
       "      <td>3.0</td>\n",
       "      <td>3.0</td>\n",
       "      <td>3.0</td>\n",
       "    </tr>\n",
       "    <tr>\n",
       "      <th>4</th>\n",
       "      <td>4.0</td>\n",
       "      <td>5.0</td>\n",
       "      <td>4.0</td>\n",
       "      <td>4.0</td>\n",
       "      <td>4.0</td>\n",
       "    </tr>\n",
       "  </tbody>\n",
       "</table>\n",
       "</div>"
      ],
      "text/plain": [
       "   Actual   NB  SVM  BLRR  Ensemble\n",
       "0     3.0  4.0  4.0   5.0       4.0\n",
       "1     5.0  6.0  4.0   4.0       4.0\n",
       "2     3.0  3.0  3.0   3.0       3.0\n",
       "3     4.0  3.0  3.0   3.0       3.0\n",
       "4     4.0  5.0  4.0   4.0       4.0"
      ]
     },
     "execution_count": 129,
     "metadata": {},
     "output_type": "execute_result"
    }
   ],
   "source": [
    "results['Ensemble'] = np.where(\n",
    "                            (results['NB'] == results['BLRR']) |\n",
    "                            (results['NB'] == results['SVM']),\n",
    "                            results['NB'],\n",
    "                            results['BLRR']\n",
    "                        )\n",
    "results.head(5)"
   ]
  },
  {
   "cell_type": "markdown",
   "metadata": {},
   "source": [
    "## Evaluation excluding `BoW` "
   ]
  },
  {
   "cell_type": "code",
   "execution_count": 130,
   "metadata": {},
   "outputs": [],
   "source": [
    "from sklearn.metrics import classification_report\n",
    "from sklearn.metrics import cohen_kappa_score\n"
   ]
  },
  {
   "cell_type": "markdown",
   "metadata": {},
   "source": [
    "### NB"
   ]
  },
  {
   "cell_type": "code",
   "execution_count": 131,
   "metadata": {},
   "outputs": [
    {
     "name": "stdout",
     "output_type": "stream",
     "text": [
      "              precision    recall  f1-score   support\n",
      "\n",
      "         1.0       0.75      0.43      0.55         7\n",
      "         2.0       0.26      0.35      0.30        23\n",
      "         3.0       0.63      0.62      0.63       160\n",
      "         4.0       0.62      0.54      0.58       156\n",
      "         5.0       0.30      0.54      0.39        13\n",
      "         6.0       0.00      0.00      0.00         1\n",
      "\n",
      "    accuracy                           0.56       360\n",
      "   macro avg       0.43      0.41      0.41       360\n",
      "weighted avg       0.59      0.56      0.57       360\n",
      "\n",
      "0.5457975662673333\n"
     ]
    }
   ],
   "source": [
    "rpt = classification_report(y_test, y_predNB)\n",
    "print(rpt)\n",
    "\n",
    "print(cohen_kappa_score(y_test, y_predNB, weights=\"quadratic\"))"
   ]
  },
  {
   "cell_type": "markdown",
   "metadata": {},
   "source": [
    "### SVM"
   ]
  },
  {
   "cell_type": "code",
   "execution_count": 132,
   "metadata": {},
   "outputs": [
    {
     "name": "stdout",
     "output_type": "stream",
     "text": [
      "              precision    recall  f1-score   support\n",
      "\n",
      "         1.0       0.00      0.00      0.00         7\n",
      "         2.0       0.58      0.48      0.52        23\n",
      "         3.0       0.66      0.72      0.69       160\n",
      "         4.0       0.66      0.70      0.68       156\n",
      "         5.0       1.00      0.15      0.27        13\n",
      "         6.0       0.00      0.00      0.00         1\n",
      "\n",
      "    accuracy                           0.66       360\n",
      "   macro avg       0.48      0.34      0.36       360\n",
      "weighted avg       0.65      0.66      0.64       360\n",
      "\n",
      "0.5987980451723682\n"
     ]
    },
    {
     "name": "stderr",
     "output_type": "stream",
     "text": [
      "C:\\Users\\User\\AppData\\Local\\Programs\\Python\\Python38-32\\lib\\site-packages\\sklearn\\metrics\\_classification.py:1221: UndefinedMetricWarning: Precision and F-score are ill-defined and being set to 0.0 in labels with no predicted samples. Use `zero_division` parameter to control this behavior.\n",
      "  _warn_prf(average, modifier, msg_start, len(result))\n"
     ]
    }
   ],
   "source": [
    "rpt = classification_report(y_test, y_predSVM)\n",
    "print(rpt)\n",
    "\n",
    "print(cohen_kappa_score(y_test, y_predSVM, weights=\"quadratic\"))"
   ]
  },
  {
   "cell_type": "markdown",
   "metadata": {},
   "source": [
    "### BLRR"
   ]
  },
  {
   "cell_type": "code",
   "execution_count": 133,
   "metadata": {},
   "outputs": [
    {
     "name": "stdout",
     "output_type": "stream",
     "text": [
      "              precision    recall  f1-score   support\n",
      "\n",
      "         1.0       0.00      0.00      0.00         7\n",
      "         2.0       0.53      0.35      0.42        23\n",
      "         3.0       0.63      0.81      0.70       160\n",
      "         4.0       0.74      0.61      0.67       156\n",
      "         5.0       0.67      0.46      0.55        13\n",
      "         6.0       0.00      0.00      0.00         1\n",
      "\n",
      "    accuracy                           0.66       360\n",
      "   macro avg       0.43      0.37      0.39       360\n",
      "weighted avg       0.66      0.66      0.65       360\n",
      "\n",
      "0.6040462427745665\n"
     ]
    }
   ],
   "source": [
    "rpt = classification_report(y_test, y_predBLRR)\n",
    "print(rpt)\n",
    "\n",
    "print(cohen_kappa_score(y_test, y_predBLRR, weights=\"quadratic\"))"
   ]
  },
  {
   "cell_type": "markdown",
   "metadata": {},
   "source": [
    "### Ensemble"
   ]
  },
  {
   "cell_type": "code",
   "execution_count": 134,
   "metadata": {},
   "outputs": [
    {
     "name": "stdout",
     "output_type": "stream",
     "text": [
      "              precision    recall  f1-score   support\n",
      "\n",
      "         1.0       0.00      0.00      0.00         7\n",
      "         2.0       0.53      0.39      0.45        23\n",
      "         3.0       0.66      0.76      0.71       160\n",
      "         4.0       0.71      0.69      0.70       156\n",
      "         5.0       0.83      0.38      0.53        13\n",
      "         6.0       0.00      0.00      0.00         1\n",
      "\n",
      "    accuracy                           0.68       360\n",
      "   macro avg       0.46      0.37      0.40       360\n",
      "weighted avg       0.66      0.68      0.67       360\n",
      "\n",
      "0.6324970599764799\n"
     ]
    }
   ],
   "source": [
    "rpt = classification_report(y_test,results['Ensemble'])\n",
    "print(rpt)\n",
    "\n",
    "print(cohen_kappa_score(y_test, results['Ensemble'], weights=\"quadratic\"))"
   ]
  },
  {
   "cell_type": "markdown",
   "metadata": {},
   "source": [
    "\n",
    "#### QWK Scores result without `BoW` features :\n",
    "\n",
    "Naive Bayes: 0.5457975662673333\n",
    "\n",
    "SVM: 0.5987980451723682\n",
    "\n",
    "BLRR: 0.6040462427745665\n",
    "\n",
    "Ensemble: 0.6324970599764799\n"
   ]
  },
  {
   "cell_type": "markdown",
   "metadata": {},
   "source": [
    "## `Prompt` influence test "
   ]
  },
  {
   "cell_type": "code",
   "execution_count": 135,
   "metadata": {},
   "outputs": [],
   "source": [
    "dataset = pd.read_csv('maes_features.csv')\n",
    "# LENGTH :chars, words, commas, apostrophes, punctuations, avg_word_length, sentences, questions, avg_word_sentence \n",
    "# PROMPT :prompt_words, prompt_words/total_words, synonym_words, synonym_words/total_words\n",
    "# BoW: unstemmed, stemmed\n",
    "# POS (GRAMMATICAL): POS, POS/total_words"
   ]
  },
  {
   "cell_type": "code",
   "execution_count": 136,
   "metadata": {},
   "outputs": [
    {
     "data": {
      "text/html": [
       "<div>\n",
       "<style scoped>\n",
       "    .dataframe tbody tr th:only-of-type {\n",
       "        vertical-align: middle;\n",
       "    }\n",
       "\n",
       "    .dataframe tbody tr th {\n",
       "        vertical-align: top;\n",
       "    }\n",
       "\n",
       "    .dataframe thead th {\n",
       "        text-align: right;\n",
       "    }\n",
       "</style>\n",
       "<table border=\"1\" class=\"dataframe\">\n",
       "  <thead>\n",
       "    <tr style=\"text-align: right;\">\n",
       "      <th></th>\n",
       "      <th>Unnamed: 0</th>\n",
       "      <th>chars</th>\n",
       "      <th>words</th>\n",
       "      <th>commas</th>\n",
       "      <th>apostrophes</th>\n",
       "      <th>punctuations</th>\n",
       "      <th>avg_word_length</th>\n",
       "      <th>POS</th>\n",
       "      <th>POS/total_words</th>\n",
       "      <th>prompt_words</th>\n",
       "      <th>prompt_words/total_words</th>\n",
       "      <th>synonym_words</th>\n",
       "      <th>synonym_words/total_words</th>\n",
       "      <th>unstemmed</th>\n",
       "      <th>stemmed</th>\n",
       "      <th>score</th>\n",
       "    </tr>\n",
       "  </thead>\n",
       "  <tbody>\n",
       "    <tr>\n",
       "      <th>0</th>\n",
       "      <td>0</td>\n",
       "      <td>2639.0</td>\n",
       "      <td>527.0</td>\n",
       "      <td>15.0</td>\n",
       "      <td>13.0</td>\n",
       "      <td>21.0</td>\n",
       "      <td>5.007590</td>\n",
       "      <td>32.791587</td>\n",
       "      <td>0.062223</td>\n",
       "      <td>220.0</td>\n",
       "      <td>0.417457</td>\n",
       "      <td>112.0</td>\n",
       "      <td>0.212524</td>\n",
       "      <td>584</td>\n",
       "      <td>559</td>\n",
       "      <td>4</td>\n",
       "    </tr>\n",
       "    <tr>\n",
       "      <th>1</th>\n",
       "      <td>1</td>\n",
       "      <td>841.0</td>\n",
       "      <td>180.0</td>\n",
       "      <td>5.0</td>\n",
       "      <td>2.0</td>\n",
       "      <td>3.0</td>\n",
       "      <td>4.672222</td>\n",
       "      <td>17.866290</td>\n",
       "      <td>0.099257</td>\n",
       "      <td>82.0</td>\n",
       "      <td>0.455556</td>\n",
       "      <td>66.0</td>\n",
       "      <td>0.366667</td>\n",
       "      <td>210</td>\n",
       "      <td>210</td>\n",
       "      <td>1</td>\n",
       "    </tr>\n",
       "    <tr>\n",
       "      <th>2</th>\n",
       "      <td>2</td>\n",
       "      <td>1181.0</td>\n",
       "      <td>261.0</td>\n",
       "      <td>12.0</td>\n",
       "      <td>15.0</td>\n",
       "      <td>14.0</td>\n",
       "      <td>4.524904</td>\n",
       "      <td>22.171206</td>\n",
       "      <td>0.084947</td>\n",
       "      <td>144.0</td>\n",
       "      <td>0.551724</td>\n",
       "      <td>83.0</td>\n",
       "      <td>0.318008</td>\n",
       "      <td>291</td>\n",
       "      <td>285</td>\n",
       "      <td>2</td>\n",
       "    </tr>\n",
       "    <tr>\n",
       "      <th>3</th>\n",
       "      <td>3</td>\n",
       "      <td>2705.0</td>\n",
       "      <td>527.0</td>\n",
       "      <td>22.0</td>\n",
       "      <td>6.0</td>\n",
       "      <td>31.0</td>\n",
       "      <td>5.132827</td>\n",
       "      <td>7.026769</td>\n",
       "      <td>0.013334</td>\n",
       "      <td>245.0</td>\n",
       "      <td>0.464896</td>\n",
       "      <td>131.0</td>\n",
       "      <td>0.248577</td>\n",
       "      <td>547</td>\n",
       "      <td>528</td>\n",
       "      <td>4</td>\n",
       "    </tr>\n",
       "    <tr>\n",
       "      <th>4</th>\n",
       "      <td>4</td>\n",
       "      <td>2394.0</td>\n",
       "      <td>501.0</td>\n",
       "      <td>25.0</td>\n",
       "      <td>15.0</td>\n",
       "      <td>34.0</td>\n",
       "      <td>4.778443</td>\n",
       "      <td>31.795655</td>\n",
       "      <td>0.063464</td>\n",
       "      <td>216.0</td>\n",
       "      <td>0.431138</td>\n",
       "      <td>117.0</td>\n",
       "      <td>0.233533</td>\n",
       "      <td>591</td>\n",
       "      <td>562</td>\n",
       "      <td>4</td>\n",
       "    </tr>\n",
       "    <tr>\n",
       "      <th>...</th>\n",
       "      <td>...</td>\n",
       "      <td>...</td>\n",
       "      <td>...</td>\n",
       "      <td>...</td>\n",
       "      <td>...</td>\n",
       "      <td>...</td>\n",
       "      <td>...</td>\n",
       "      <td>...</td>\n",
       "      <td>...</td>\n",
       "      <td>...</td>\n",
       "      <td>...</td>\n",
       "      <td>...</td>\n",
       "      <td>...</td>\n",
       "      <td>...</td>\n",
       "      <td>...</td>\n",
       "      <td>...</td>\n",
       "    </tr>\n",
       "    <tr>\n",
       "      <th>1795</th>\n",
       "      <td>1795</td>\n",
       "      <td>1339.0</td>\n",
       "      <td>286.0</td>\n",
       "      <td>0.0</td>\n",
       "      <td>34.0</td>\n",
       "      <td>11.0</td>\n",
       "      <td>4.681818</td>\n",
       "      <td>31.891253</td>\n",
       "      <td>0.111508</td>\n",
       "      <td>114.0</td>\n",
       "      <td>0.398601</td>\n",
       "      <td>78.0</td>\n",
       "      <td>0.272727</td>\n",
       "      <td>303</td>\n",
       "      <td>293</td>\n",
       "      <td>3</td>\n",
       "    </tr>\n",
       "    <tr>\n",
       "      <th>1796</th>\n",
       "      <td>1796</td>\n",
       "      <td>1373.0</td>\n",
       "      <td>282.0</td>\n",
       "      <td>15.0</td>\n",
       "      <td>8.0</td>\n",
       "      <td>15.0</td>\n",
       "      <td>4.868794</td>\n",
       "      <td>12.757794</td>\n",
       "      <td>0.045240</td>\n",
       "      <td>152.0</td>\n",
       "      <td>0.539007</td>\n",
       "      <td>80.0</td>\n",
       "      <td>0.283688</td>\n",
       "      <td>339</td>\n",
       "      <td>333</td>\n",
       "      <td>3</td>\n",
       "    </tr>\n",
       "    <tr>\n",
       "      <th>1797</th>\n",
       "      <td>1797</td>\n",
       "      <td>605.0</td>\n",
       "      <td>132.0</td>\n",
       "      <td>7.0</td>\n",
       "      <td>2.0</td>\n",
       "      <td>5.0</td>\n",
       "      <td>4.583333</td>\n",
       "      <td>3.387097</td>\n",
       "      <td>0.025660</td>\n",
       "      <td>71.0</td>\n",
       "      <td>0.537879</td>\n",
       "      <td>34.0</td>\n",
       "      <td>0.257576</td>\n",
       "      <td>164</td>\n",
       "      <td>160</td>\n",
       "      <td>2</td>\n",
       "    </tr>\n",
       "    <tr>\n",
       "      <th>1798</th>\n",
       "      <td>1798</td>\n",
       "      <td>2737.0</td>\n",
       "      <td>561.0</td>\n",
       "      <td>22.0</td>\n",
       "      <td>5.0</td>\n",
       "      <td>27.0</td>\n",
       "      <td>4.878788</td>\n",
       "      <td>20.071942</td>\n",
       "      <td>0.035779</td>\n",
       "      <td>301.0</td>\n",
       "      <td>0.536542</td>\n",
       "      <td>168.0</td>\n",
       "      <td>0.299465</td>\n",
       "      <td>542</td>\n",
       "      <td>512</td>\n",
       "      <td>3</td>\n",
       "    </tr>\n",
       "    <tr>\n",
       "      <th>1799</th>\n",
       "      <td>1799</td>\n",
       "      <td>2462.0</td>\n",
       "      <td>520.0</td>\n",
       "      <td>8.0</td>\n",
       "      <td>14.0</td>\n",
       "      <td>25.0</td>\n",
       "      <td>4.734615</td>\n",
       "      <td>37.479167</td>\n",
       "      <td>0.072075</td>\n",
       "      <td>231.0</td>\n",
       "      <td>0.444231</td>\n",
       "      <td>165.0</td>\n",
       "      <td>0.317308</td>\n",
       "      <td>514</td>\n",
       "      <td>496</td>\n",
       "      <td>3</td>\n",
       "    </tr>\n",
       "  </tbody>\n",
       "</table>\n",
       "<p>1800 rows × 16 columns</p>\n",
       "</div>"
      ],
      "text/plain": [
       "      Unnamed: 0   chars  words  commas  apostrophes  punctuations  \\\n",
       "0              0  2639.0  527.0    15.0         13.0          21.0   \n",
       "1              1   841.0  180.0     5.0          2.0           3.0   \n",
       "2              2  1181.0  261.0    12.0         15.0          14.0   \n",
       "3              3  2705.0  527.0    22.0          6.0          31.0   \n",
       "4              4  2394.0  501.0    25.0         15.0          34.0   \n",
       "...          ...     ...    ...     ...          ...           ...   \n",
       "1795        1795  1339.0  286.0     0.0         34.0          11.0   \n",
       "1796        1796  1373.0  282.0    15.0          8.0          15.0   \n",
       "1797        1797   605.0  132.0     7.0          2.0           5.0   \n",
       "1798        1798  2737.0  561.0    22.0          5.0          27.0   \n",
       "1799        1799  2462.0  520.0     8.0         14.0          25.0   \n",
       "\n",
       "      avg_word_length        POS  POS/total_words  prompt_words  \\\n",
       "0            5.007590  32.791587         0.062223         220.0   \n",
       "1            4.672222  17.866290         0.099257          82.0   \n",
       "2            4.524904  22.171206         0.084947         144.0   \n",
       "3            5.132827   7.026769         0.013334         245.0   \n",
       "4            4.778443  31.795655         0.063464         216.0   \n",
       "...               ...        ...              ...           ...   \n",
       "1795         4.681818  31.891253         0.111508         114.0   \n",
       "1796         4.868794  12.757794         0.045240         152.0   \n",
       "1797         4.583333   3.387097         0.025660          71.0   \n",
       "1798         4.878788  20.071942         0.035779         301.0   \n",
       "1799         4.734615  37.479167         0.072075         231.0   \n",
       "\n",
       "      prompt_words/total_words  synonym_words  synonym_words/total_words  \\\n",
       "0                     0.417457          112.0                   0.212524   \n",
       "1                     0.455556           66.0                   0.366667   \n",
       "2                     0.551724           83.0                   0.318008   \n",
       "3                     0.464896          131.0                   0.248577   \n",
       "4                     0.431138          117.0                   0.233533   \n",
       "...                        ...            ...                        ...   \n",
       "1795                  0.398601           78.0                   0.272727   \n",
       "1796                  0.539007           80.0                   0.283688   \n",
       "1797                  0.537879           34.0                   0.257576   \n",
       "1798                  0.536542          168.0                   0.299465   \n",
       "1799                  0.444231          165.0                   0.317308   \n",
       "\n",
       "      unstemmed  stemmed  score  \n",
       "0           584      559      4  \n",
       "1           210      210      1  \n",
       "2           291      285      2  \n",
       "3           547      528      4  \n",
       "4           591      562      4  \n",
       "...         ...      ...    ...  \n",
       "1795        303      293      3  \n",
       "1796        339      333      3  \n",
       "1797        164      160      2  \n",
       "1798        542      512      3  \n",
       "1799        514      496      3  \n",
       "\n",
       "[1800 rows x 16 columns]"
      ]
     },
     "execution_count": 136,
     "metadata": {},
     "output_type": "execute_result"
    }
   ],
   "source": [
    "dataset"
   ]
  },
  {
   "cell_type": "markdown",
   "metadata": {},
   "source": [
    "excluding only `Prompt` features.\n",
    "\n",
    "Including chars, words, commas, apostrophes, punctuations, avg_word_length, sentences, questions, avg_word_sentence, unstemmed, stemmed,POS, POS/total_words"
   ]
  },
  {
   "cell_type": "code",
   "execution_count": 137,
   "metadata": {},
   "outputs": [
    {
     "data": {
      "text/plain": [
       "array([2.63900000e+03, 5.27000000e+02, 1.50000000e+01, 1.30000000e+01,\n",
       "       2.10000000e+01, 5.00759013e+00, 3.27915870e+01, 6.22231252e-02,\n",
       "       5.84000000e+02, 5.59000000e+02])"
      ]
     },
     "execution_count": 137,
     "metadata": {},
     "output_type": "execute_result"
    }
   ],
   "source": [
    "X = dataset.iloc[:,[1,2,3,4,5,6,7,8,13,14]].values.astype(float)\n",
    "y = dataset.iloc[:,15].values.astype(float)\n",
    "X[0]"
   ]
  },
  {
   "cell_type": "code",
   "execution_count": 138,
   "metadata": {},
   "outputs": [
    {
     "name": "stdout",
     "output_type": "stream",
     "text": [
      "[[3.]\n",
      " [5.]\n",
      " [3.]\n",
      " [4.]\n",
      " [4.]]\n"
     ]
    }
   ],
   "source": [
    "X.shape\n",
    "\n",
    "y = np.array(y).reshape(-1,1)\n",
    "y.shape\n",
    "\n",
    "### Split the train and test set\n",
    "from sklearn.model_selection import train_test_split\n",
    "X_train, X_test, y_train, y_test = train_test_split(X, y, test_size=0.2, random_state=0)\n",
    "# Have a look at the first few lines\n",
    "print(y_test[:5, :])"
   ]
  },
  {
   "cell_type": "markdown",
   "metadata": {},
   "source": [
    "### Model Training excluding `Prompt` features only"
   ]
  },
  {
   "cell_type": "code",
   "execution_count": 139,
   "metadata": {},
   "outputs": [
    {
     "data": {
      "text/plain": [
       "MultinomialNB()"
      ]
     },
     "execution_count": 139,
     "metadata": {},
     "output_type": "execute_result"
    }
   ],
   "source": [
    "from sklearn.preprocessing import StandardScaler, MinMaxScaler\n",
    "\n",
    "X_trainNB = X_train\n",
    "y_trainNB = y_train\n",
    "X_testNB = X_test\n",
    "y_testNB = y_test\n",
    "\n",
    "model_nb = naive_bayes.MultinomialNB()\n",
    "model_nb.fit(X_trainNB, y_trainNB.ravel())"
   ]
  },
  {
   "cell_type": "code",
   "execution_count": 140,
   "metadata": {},
   "outputs": [
    {
     "name": "stdout",
     "output_type": "stream",
     "text": [
      "[LibSVM]"
     ]
    },
    {
     "data": {
      "text/plain": [
       "SVR(gamma='auto', verbose=True)"
      ]
     },
     "execution_count": 140,
     "metadata": {},
     "output_type": "execute_result"
    }
   ],
   "source": [
    "from sklearn.preprocessing import StandardScaler\n",
    "sc_Xsvm = StandardScaler()\n",
    "sc_ysvm = StandardScaler()\n",
    "X_trainSVM = sc_Xsvm.fit_transform(X_train)\n",
    "y_trainSVM = sc_ysvm.fit_transform(y_train)\n",
    "X_testSVM = sc_Xsvm.transform(X_test)\n",
    "y_testSVM = sc_ysvm.transform(y_test)\n",
    "\n",
    "\n",
    "from sklearn.svm import SVR\n",
    "# most important SVR parameter is Kernel type. It can be #linear,polynomial or gaussian SVR. We have a non-linear condition #so we can select polynomial or gaussian but here we select RBF(a #gaussian type) kernel.\n",
    "# kernel{‘linear’, ‘poly’, ‘rbf’, ‘sigmoid’, ‘precomputed’}, default=’rbf’\n",
    "# maybe use poly and increase the degree\n",
    "model_svm = SVR(kernel='rbf', gamma='auto', verbose=True)\n",
    "#regressor = SVR(kernel='poly', degree=5, gamma='auto', verbose=True)\n",
    "model_svm.fit(X_trainSVM,y_trainSVM.ravel())"
   ]
  },
  {
   "cell_type": "code",
   "execution_count": 141,
   "metadata": {},
   "outputs": [
    {
     "data": {
      "text/plain": [
       "BayesianRidge()"
      ]
     },
     "execution_count": 141,
     "metadata": {},
     "output_type": "execute_result"
    }
   ],
   "source": [
    "from sklearn.preprocessing import StandardScaler\n",
    "sc_Xblrr = StandardScaler()\n",
    "sc_yblrr = StandardScaler()\n",
    "X_trainBLRR = sc_Xblrr.fit_transform(X_train)\n",
    "y_trainBLRR = sc_yblrr.fit_transform(y_train)\n",
    "X_testBLRR = sc_Xblrr.transform(X_test)\n",
    "y_testBLRR = sc_yblrr.transform(y_test)\n",
    "\n",
    "from sklearn import linear_model\n",
    "model_blrr = linear_model.BayesianRidge()\n",
    "model_blrr.fit(X_trainBLRR, y_trainBLRR.ravel())"
   ]
  },
  {
   "cell_type": "markdown",
   "metadata": {},
   "source": [
    "## Predict excluding `Prompt` features"
   ]
  },
  {
   "cell_type": "code",
   "execution_count": 142,
   "metadata": {},
   "outputs": [
    {
     "name": "stdout",
     "output_type": "stream",
     "text": [
      "[[  3   3   0   1   0   0]\n",
      " [  6   7   8   1   0   1]\n",
      " [  2  21 101  30   2   4]\n",
      " [  0   7  59  74   9   7]\n",
      " [  0   0   0   6   2   5]\n",
      " [  0   0   0   0   1   0]]\n"
     ]
    }
   ],
   "source": [
    "#NB\n",
    "y_predNB = model_nb.predict(X_testNB)\n",
    "#y_1_predNB = sc_ynb.inverse_transform(y_1_predNB).round()\n",
    "\n",
    "cm = confusion_matrix(y_test, y_predNB)\n",
    "\n",
    "print(cm)"
   ]
  },
  {
   "cell_type": "code",
   "execution_count": 143,
   "metadata": {},
   "outputs": [
    {
     "name": "stdout",
     "output_type": "stream",
     "text": [
      "[[  0   5   2   0   0   0]\n",
      " [  0   9  13   1   0   0]\n",
      " [  0   2 123  35   0   0]\n",
      " [  0   0  42 114   0   0]\n",
      " [  0   0   0  11   2   0]\n",
      " [  0   0   0   0   1   0]]\n"
     ]
    }
   ],
   "source": [
    "#SVM\n",
    "y_predSVM = model_svm.predict(X_testSVM)\n",
    "y_predSVM = sc_ysvm.inverse_transform(y_predSVM).round()\n",
    "\n",
    "cm = confusion_matrix(y_test, y_predSVM)\n",
    "#np.set_printoptions(threshold=np.inf)\n",
    "print(cm)"
   ]
  },
  {
   "cell_type": "code",
   "execution_count": 144,
   "metadata": {},
   "outputs": [
    {
     "name": "stdout",
     "output_type": "stream",
     "text": [
      "[[  0   6   1   0   0   0]\n",
      " [  0   9  14   0   0   0]\n",
      " [  0   5 125  30   0   0]\n",
      " [  0   0  53 102   1   0]\n",
      " [  0   0   0   6   7   0]\n",
      " [  0   0   0   0   1   0]]\n"
     ]
    }
   ],
   "source": [
    "#BLRR\n",
    "y_predBLRR = model_blrr.predict(X_testBLRR)\n",
    "y_predBLRR = sc_yblrr.inverse_transform(y_predBLRR).round()\n",
    "\n",
    "cm = confusion_matrix(y_test, y_predBLRR)\n",
    "print(cm)"
   ]
  },
  {
   "cell_type": "code",
   "execution_count": 145,
   "metadata": {},
   "outputs": [
    {
     "data": {
      "text/html": [
       "<div>\n",
       "<style scoped>\n",
       "    .dataframe tbody tr th:only-of-type {\n",
       "        vertical-align: middle;\n",
       "    }\n",
       "\n",
       "    .dataframe tbody tr th {\n",
       "        vertical-align: top;\n",
       "    }\n",
       "\n",
       "    .dataframe thead th {\n",
       "        text-align: right;\n",
       "    }\n",
       "</style>\n",
       "<table border=\"1\" class=\"dataframe\">\n",
       "  <thead>\n",
       "    <tr style=\"text-align: right;\">\n",
       "      <th></th>\n",
       "      <th>Actual</th>\n",
       "      <th>NB</th>\n",
       "      <th>SVM</th>\n",
       "      <th>BLRR</th>\n",
       "    </tr>\n",
       "  </thead>\n",
       "  <tbody>\n",
       "    <tr>\n",
       "      <th>0</th>\n",
       "      <td>3.0</td>\n",
       "      <td>6.0</td>\n",
       "      <td>4.0</td>\n",
       "      <td>4.0</td>\n",
       "    </tr>\n",
       "    <tr>\n",
       "      <th>1</th>\n",
       "      <td>5.0</td>\n",
       "      <td>4.0</td>\n",
       "      <td>4.0</td>\n",
       "      <td>4.0</td>\n",
       "    </tr>\n",
       "    <tr>\n",
       "      <th>2</th>\n",
       "      <td>3.0</td>\n",
       "      <td>3.0</td>\n",
       "      <td>3.0</td>\n",
       "      <td>3.0</td>\n",
       "    </tr>\n",
       "    <tr>\n",
       "      <th>3</th>\n",
       "      <td>4.0</td>\n",
       "      <td>3.0</td>\n",
       "      <td>4.0</td>\n",
       "      <td>4.0</td>\n",
       "    </tr>\n",
       "    <tr>\n",
       "      <th>4</th>\n",
       "      <td>4.0</td>\n",
       "      <td>4.0</td>\n",
       "      <td>4.0</td>\n",
       "      <td>5.0</td>\n",
       "    </tr>\n",
       "  </tbody>\n",
       "</table>\n",
       "</div>"
      ],
      "text/plain": [
       "   Actual   NB  SVM  BLRR\n",
       "0     3.0  6.0  4.0   4.0\n",
       "1     5.0  4.0  4.0   4.0\n",
       "2     3.0  3.0  3.0   3.0\n",
       "3     4.0  3.0  4.0   4.0\n",
       "4     4.0  4.0  4.0   5.0"
      ]
     },
     "execution_count": 145,
     "metadata": {},
     "output_type": "execute_result"
    }
   ],
   "source": [
    "actual = pd.Series(y_test.ravel())\n",
    "predNB = pd.Series(y_predNB)\n",
    "predSVM = pd.Series(y_predSVM)\n",
    "predBLRR = pd.Series(y_predBLRR)\n",
    "\n",
    "data = {\"Actual\": actual,\n",
    "        \"NB\": predNB, \n",
    "        \"SVM\": predSVM, \n",
    "        \"BLRR\": predBLRR} \n",
    "results = pd.concat(data, axis=1)\n",
    "results.head(5)"
   ]
  },
  {
   "cell_type": "code",
   "execution_count": 146,
   "metadata": {},
   "outputs": [
    {
     "data": {
      "text/html": [
       "<div>\n",
       "<style scoped>\n",
       "    .dataframe tbody tr th:only-of-type {\n",
       "        vertical-align: middle;\n",
       "    }\n",
       "\n",
       "    .dataframe tbody tr th {\n",
       "        vertical-align: top;\n",
       "    }\n",
       "\n",
       "    .dataframe thead th {\n",
       "        text-align: right;\n",
       "    }\n",
       "</style>\n",
       "<table border=\"1\" class=\"dataframe\">\n",
       "  <thead>\n",
       "    <tr style=\"text-align: right;\">\n",
       "      <th></th>\n",
       "      <th>Actual</th>\n",
       "      <th>NB</th>\n",
       "      <th>SVM</th>\n",
       "      <th>BLRR</th>\n",
       "      <th>Ensemble</th>\n",
       "    </tr>\n",
       "  </thead>\n",
       "  <tbody>\n",
       "    <tr>\n",
       "      <th>0</th>\n",
       "      <td>3.0</td>\n",
       "      <td>6.0</td>\n",
       "      <td>4.0</td>\n",
       "      <td>4.0</td>\n",
       "      <td>4.0</td>\n",
       "    </tr>\n",
       "    <tr>\n",
       "      <th>1</th>\n",
       "      <td>5.0</td>\n",
       "      <td>4.0</td>\n",
       "      <td>4.0</td>\n",
       "      <td>4.0</td>\n",
       "      <td>4.0</td>\n",
       "    </tr>\n",
       "    <tr>\n",
       "      <th>2</th>\n",
       "      <td>3.0</td>\n",
       "      <td>3.0</td>\n",
       "      <td>3.0</td>\n",
       "      <td>3.0</td>\n",
       "      <td>3.0</td>\n",
       "    </tr>\n",
       "    <tr>\n",
       "      <th>3</th>\n",
       "      <td>4.0</td>\n",
       "      <td>3.0</td>\n",
       "      <td>4.0</td>\n",
       "      <td>4.0</td>\n",
       "      <td>4.0</td>\n",
       "    </tr>\n",
       "    <tr>\n",
       "      <th>4</th>\n",
       "      <td>4.0</td>\n",
       "      <td>4.0</td>\n",
       "      <td>4.0</td>\n",
       "      <td>5.0</td>\n",
       "      <td>4.0</td>\n",
       "    </tr>\n",
       "  </tbody>\n",
       "</table>\n",
       "</div>"
      ],
      "text/plain": [
       "   Actual   NB  SVM  BLRR  Ensemble\n",
       "0     3.0  6.0  4.0   4.0       4.0\n",
       "1     5.0  4.0  4.0   4.0       4.0\n",
       "2     3.0  3.0  3.0   3.0       3.0\n",
       "3     4.0  3.0  4.0   4.0       4.0\n",
       "4     4.0  4.0  4.0   5.0       4.0"
      ]
     },
     "execution_count": 146,
     "metadata": {},
     "output_type": "execute_result"
    }
   ],
   "source": [
    "results['Ensemble'] = np.where(\n",
    "                            (results['NB'] == results['BLRR']) |\n",
    "                            (results['NB'] == results['SVM']),\n",
    "                            results['NB'],\n",
    "                            results['BLRR']\n",
    "                        )\n",
    "results.head(5)"
   ]
  },
  {
   "cell_type": "markdown",
   "metadata": {},
   "source": [
    "## Evaluation Excluding `Prompt` features"
   ]
  },
  {
   "cell_type": "code",
   "execution_count": 147,
   "metadata": {},
   "outputs": [],
   "source": [
    "from sklearn.metrics import classification_report\n",
    "from sklearn.metrics import cohen_kappa_score\n"
   ]
  },
  {
   "cell_type": "markdown",
   "metadata": {},
   "source": [
    "## NB"
   ]
  },
  {
   "cell_type": "code",
   "execution_count": 148,
   "metadata": {},
   "outputs": [
    {
     "name": "stdout",
     "output_type": "stream",
     "text": [
      "              precision    recall  f1-score   support\n",
      "\n",
      "         1.0       0.27      0.43      0.33         7\n",
      "         2.0       0.18      0.30      0.23        23\n",
      "         3.0       0.60      0.63      0.62       160\n",
      "         4.0       0.66      0.47      0.55       156\n",
      "         5.0       0.14      0.15      0.15        13\n",
      "         6.0       0.00      0.00      0.00         1\n",
      "\n",
      "    accuracy                           0.52       360\n",
      "   macro avg       0.31      0.33      0.31       360\n",
      "weighted avg       0.58      0.52      0.54       360\n",
      "\n",
      "0.49404292251854187\n"
     ]
    }
   ],
   "source": [
    "rpt = classification_report(y_test, y_predNB)\n",
    "print(rpt)\n",
    "\n",
    "print(cohen_kappa_score(y_test, y_predNB, weights=\"quadratic\"))"
   ]
  },
  {
   "cell_type": "markdown",
   "metadata": {},
   "source": [
    "### SVM"
   ]
  },
  {
   "cell_type": "code",
   "execution_count": 149,
   "metadata": {},
   "outputs": [
    {
     "name": "stdout",
     "output_type": "stream",
     "text": [
      "              precision    recall  f1-score   support\n",
      "\n",
      "         1.0       0.00      0.00      0.00         7\n",
      "         2.0       0.56      0.39      0.46        23\n",
      "         3.0       0.68      0.77      0.72       160\n",
      "         4.0       0.71      0.73      0.72       156\n",
      "         5.0       0.67      0.15      0.25        13\n",
      "         6.0       0.00      0.00      0.00         1\n",
      "\n",
      "    accuracy                           0.69       360\n",
      "   macro avg       0.44      0.34      0.36       360\n",
      "weighted avg       0.67      0.69      0.67       360\n",
      "\n",
      "0.6364668179997329\n"
     ]
    },
    {
     "name": "stderr",
     "output_type": "stream",
     "text": [
      "C:\\Users\\User\\AppData\\Local\\Programs\\Python\\Python38-32\\lib\\site-packages\\sklearn\\metrics\\_classification.py:1221: UndefinedMetricWarning: Precision and F-score are ill-defined and being set to 0.0 in labels with no predicted samples. Use `zero_division` parameter to control this behavior.\n",
      "  _warn_prf(average, modifier, msg_start, len(result))\n"
     ]
    }
   ],
   "source": [
    "rpt = classification_report(y_test, y_predSVM)\n",
    "print(rpt)\n",
    "\n",
    "print(cohen_kappa_score(y_test, y_predSVM, weights=\"quadratic\"))"
   ]
  },
  {
   "cell_type": "markdown",
   "metadata": {},
   "source": [
    "### BLRR"
   ]
  },
  {
   "cell_type": "code",
   "execution_count": 150,
   "metadata": {},
   "outputs": [
    {
     "name": "stdout",
     "output_type": "stream",
     "text": [
      "              precision    recall  f1-score   support\n",
      "\n",
      "         1.0       0.00      0.00      0.00         7\n",
      "         2.0       0.45      0.39      0.42        23\n",
      "         3.0       0.65      0.78      0.71       160\n",
      "         4.0       0.74      0.65      0.69       156\n",
      "         5.0       0.78      0.54      0.64        13\n",
      "         6.0       0.00      0.00      0.00         1\n",
      "\n",
      "    accuracy                           0.68       360\n",
      "   macro avg       0.44      0.39      0.41       360\n",
      "weighted avg       0.66      0.68      0.67       360\n",
      "\n",
      "0.6573169183906586\n"
     ]
    }
   ],
   "source": [
    "rpt = classification_report(y_test, y_predBLRR)\n",
    "print(rpt)\n",
    "\n",
    "print(cohen_kappa_score(y_test, y_predBLRR, weights=\"quadratic\"))"
   ]
  },
  {
   "cell_type": "markdown",
   "metadata": {},
   "source": [
    "### Ensemble"
   ]
  },
  {
   "cell_type": "code",
   "execution_count": 151,
   "metadata": {},
   "outputs": [
    {
     "name": "stdout",
     "output_type": "stream",
     "text": [
      "              precision    recall  f1-score   support\n",
      "\n",
      "         1.0       0.00      0.00      0.00         7\n",
      "         2.0       0.44      0.35      0.39        23\n",
      "         3.0       0.66      0.78      0.71       160\n",
      "         4.0       0.73      0.69      0.71       156\n",
      "         5.0       0.86      0.46      0.60        13\n",
      "         6.0       0.00      0.00      0.00         1\n",
      "\n",
      "    accuracy                           0.68       360\n",
      "   macro avg       0.45      0.38      0.40       360\n",
      "weighted avg       0.67      0.68      0.67       360\n",
      "\n",
      "0.6562216755146963\n"
     ]
    }
   ],
   "source": [
    "rpt = classification_report(y_test,results['Ensemble'])\n",
    "print(rpt)\n",
    "\n",
    "print(cohen_kappa_score(y_test, results['Ensemble'], weights=\"quadratic\"))"
   ]
  },
  {
   "cell_type": "markdown",
   "metadata": {},
   "source": [
    "#### QWK Scores result with full features:\n",
    "\n",
    "Naive Bayes: 0.5172740179839092\n",
    "\n",
    "SVM: 0.6011377166291838\n",
    "\n",
    "BLRR: 0.6261591962905719\n",
    "\n",
    "Ensemble: 0.6060822202049021\n",
    "#### QWK Scores result with `Prompt` features only:\n",
    "\n",
    "Naive Bayes: 0.49404292251854187\n",
    "\n",
    "SVM: 0.6364668179997329\n",
    "\n",
    "BLRR: 0.6573169183906586\n",
    "\n",
    "Ensemble: 0.6562216755146963\n",
    "\n",
    "#### Conclusion\n",
    "\n",
    "Without `Prompt` features, the QWK score for NB dropped by a small margin but BLRR and SVM improve in a small margin.\n"
   ]
  },
  {
   "cell_type": "markdown",
   "metadata": {},
   "source": [
    "### Final Conclusion - Influence\n",
    "Below are a table conclude the result of model trained by excluding features\n",
    "\n",
    "\n",
    "| Excluded Features | Naive Bayes| SVM | BLRR | Ensemble | \n",
    "| --- | --- | --- | --- | --- | \n",
    "| Length | 0.444 | 0.565 | 0.601 | 0.561 | \n",
    "| PoS | 0.511 | 0.583 | 0.617 | 0.604 | \n",
    "| BoW | 0.546 | 0.599 | 0.604 | 0.632 | \n",
    "| Prompt | 0.494 | 0.636 | 0.657 | 0.656 | \n",
    "| All features | 0.517 | 0.601 | 0.626 | 0.606 |\n",
    "\n",
    "\n",
    "Differences between all features and excluded features\n",
    "\n",
    "| Excluded Features | Naive Bayes| SVM | BLRR | Ensemble | Total Diff (absolute value) | Total Diff |\n",
    "| --- | --- | --- | --- | --- | --- | --- |\n",
    "| Length | 0.073 | 0.036 | 0.025 | 0.045 | 0.179 | 0.179 |\n",
    "| PoS | 0.006 | 0.018 | 0.009 | 0.002 | 0.035 | 0.035 |\n",
    "| BoW | -0.029 | 0.002 | 0.022 | -0.026 | 0.079 | -0.031 |\n",
    "| Prompt | 0.023 | -0.035 | -0.031 | -0.050 | 0.139 | -0.093 |\n",
    "\n",
    "\n",
    "Lower in differences should mean lower in influence on the model."
   ]
  },
  {
   "cell_type": "code",
   "execution_count": null,
   "metadata": {},
   "outputs": [],
   "source": []
  },
  {
   "cell_type": "markdown",
   "metadata": {},
   "source": [
    "`Length` has the most influence on Naive Bayes, SVM Model.\n",
    "\n",
    "`Prompt` has overfitting in SVM and BLRR model\n",
    "\n",
    "`PoS` has the least influence among all model\n",
    "\n",
    "`BoW` overfitting NB model"
   ]
  },
  {
   "cell_type": "code",
   "execution_count": null,
   "metadata": {},
   "outputs": [],
   "source": []
  }
 ],
 "metadata": {
  "kernelspec": {
   "display_name": "Python 3",
   "language": "python",
   "name": "python3"
  },
  "language_info": {
   "codemirror_mode": {
    "name": "ipython",
    "version": 3
   },
   "file_extension": ".py",
   "mimetype": "text/x-python",
   "name": "python",
   "nbconvert_exporter": "python",
   "pygments_lexer": "ipython3",
   "version": "3.8.6"
  }
 },
 "nbformat": 4,
 "nbformat_minor": 4
}
