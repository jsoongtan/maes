{
 "cells": [
  {
   "cell_type": "markdown",
   "metadata": {},
   "source": [
    "## Import Libraries"
   ]
  },
  {
   "cell_type": "code",
   "execution_count": 1,
   "metadata": {},
   "outputs": [],
   "source": [
    "import time\n",
    "start = time.time()\n",
    "import numpy as np\n",
    "import pandas as pd\n",
    "from collections import defaultdict\n",
    "\n",
    "from nltk import pos_tag\n",
    "from nltk.tokenize import word_tokenize\n",
    "from nltk.corpus import stopwords\n",
    "from nltk.corpus import wordnet as wn\n",
    "from nltk.stem import WordNetLemmatizer\n",
    "from sklearn.preprocessing import StandardScaler, MinMaxScaler\n",
    "from sklearn.preprocessing import LabelEncoder\n",
    "from sklearn.feature_extraction.text import TfidfVectorizer\n",
    "from sklearn import model_selection, naive_bayes, svm #SVR is in SVM\n",
    "from sklearn.metrics import accuracy_score, confusion_matrix\n",
    "from sklearn.svm import SVR\n",
    "from sklearn import linear_model\n",
    "from sklearn.metrics import classification_report\n",
    "from sklearn.metrics import cohen_kappa_score\n",
    "from sklearn.model_selection import train_test_split"
   ]
  },
  {
   "cell_type": "markdown",
   "metadata": {},
   "source": [
    "## Function to get Naive Bayes QWK score"
   ]
  },
  {
   "cell_type": "code",
   "execution_count": 2,
   "metadata": {},
   "outputs": [],
   "source": [
    "def get_nb_qwk(X_train, X_test, y_train, y_test):\n",
    "    X_trainNB = X_train\n",
    "    y_trainNB = y_train\n",
    "    X_testNB = X_test\n",
    "    y_testNB = y_test\n",
    "    model_nbl = naive_bayes.MultinomialNB()\n",
    "    model_nbl.fit(X_trainNB, y_trainNB.ravel())\n",
    "    \n",
    "    y_predNBL = model_nbl.predict(X_testNB)\n",
    "    return cohen_kappa_score(y_test, y_predNBL, weights=\"quadratic\"), y_predNBL"
   ]
  },
  {
   "cell_type": "markdown",
   "metadata": {},
   "source": [
    "## Function to get SVM QWK score"
   ]
  },
  {
   "cell_type": "code",
   "execution_count": 3,
   "metadata": {},
   "outputs": [],
   "source": [
    "def get_svm_qwk(X_train, X_test, y_train, y_test):\n",
    "    sc_Xsvm = StandardScaler()\n",
    "    sc_ysvm = StandardScaler()\n",
    "    X_trainSVM = sc_Xsvm.fit_transform(X_train)\n",
    "    y_trainSVM = sc_ysvm.fit_transform(y_train)\n",
    "    X_testSVM = sc_Xsvm.transform(X_test)\n",
    "    y_testSVM = sc_ysvm.transform(y_test)\n",
    "    \n",
    "    model_svml = SVR(kernel='rbf', gamma='auto', verbose=True)\n",
    "    model_svml.fit(X_trainSVM,y_trainSVM.ravel())\n",
    "    \n",
    "    y_predSVML = model_svml.predict(X_testSVM)\n",
    "    y_predSVML = sc_ysvm.inverse_transform(y_predSVML).round()\n",
    "    return cohen_kappa_score(y_test, y_predSVML, weights=\"quadratic\"), y_predSVML"
   ]
  },
  {
   "cell_type": "markdown",
   "metadata": {},
   "source": [
    "## Function to get BLRR QWK score"
   ]
  },
  {
   "cell_type": "code",
   "execution_count": 4,
   "metadata": {},
   "outputs": [],
   "source": [
    "def get_blrr_qwk(X_train, X_test, y_train, y_test):\n",
    "    sc_Xblrr = StandardScaler()\n",
    "    sc_yblrr = StandardScaler()\n",
    "    X_trainBLRR = sc_Xblrr.fit_transform(X_train)\n",
    "    y_trainBLRR = sc_yblrr.fit_transform(y_train)\n",
    "    X_testBLRR = sc_Xblrr.transform(X_test)\n",
    "    y_testBLRR = sc_yblrr.transform(y_test)\n",
    "    model_blrrl = linear_model.BayesianRidge()\n",
    "    model_blrrl.fit(X_trainBLRR, y_trainBLRR.ravel())\n",
    "    y_predBLRRL = model_blrrl.predict(X_testBLRR)\n",
    "    y_predBLRRL = sc_yblrr.inverse_transform(y_predBLRRL).round()\n",
    "    return cohen_kappa_score(y_test, y_predBLRRL, weights=\"quadratic\"), y_predBLRRL"
   ]
  },
  {
   "cell_type": "markdown",
   "metadata": {},
   "source": [
    "## Function to get Ensemble QWK score"
   ]
  },
  {
   "cell_type": "code",
   "execution_count": 5,
   "metadata": {},
   "outputs": [],
   "source": [
    "def get_ensemble_qwk(y_test, y_predNBL, y_predSVML, y_predBLRRL):\n",
    "    actual = pd.Series(y_test.ravel())\n",
    "    predNBL = pd.Series(y_predNBL)\n",
    "    predSVML = pd.Series(y_predSVML)\n",
    "    predBLRRL = pd.Series(y_predBLRRL)\n",
    "\n",
    "    data = {\"Actual\": actual,\n",
    "            \"NBL\": predNBL, \n",
    "            \"SVML\": predSVML, \n",
    "            \"BLRRL\": predBLRRL} \n",
    "    results = pd.concat(data, axis=1)\n",
    "    results['Ensemble'] = np.where(\n",
    "                            (results['NBL'] == results['BLRRL']) |\n",
    "                            (results['NBL'] == results['SVML']),\n",
    "                            results['NBL'],\n",
    "                            results['BLRRL']\n",
    "                        )\n",
    "    \n",
    "    return cohen_kappa_score(y_test, results['Ensemble'], weights=\"quadratic\"),results['Ensemble']"
   ]
  },
  {
   "cell_type": "markdown",
   "metadata": {},
   "source": [
    "## Function to get features from dataset"
   ]
  },
  {
   "cell_type": "code",
   "execution_count": 6,
   "metadata": {},
   "outputs": [],
   "source": [
    "def get_train_test(dataset,featuretype,single_or_exclude):\n",
    "    if featuretype == 'length' and single_or_exclude == 0:\n",
    "        X = dataset.iloc[:,1:7].values.astype(float)\n",
    "        y = dataset.iloc[:,15].values.astype(float)\n",
    "        y = np.array(y).reshape(-1,1)\n",
    "        X_train, X_test, y_train, y_test = train_test_split(X, y, test_size=0.2, random_state=0)\n",
    "        return X_train, X_test, y_train, y_test\n",
    "    elif featuretype == 'pos' and single_or_exclude == 0:\n",
    "        X = dataset.iloc[:,7:9].values.astype(float)\n",
    "        y = dataset.iloc[:,15].values.astype(float)\n",
    "        y = np.array(y).reshape(-1,1)\n",
    "        X_train, X_test, y_train, y_test = train_test_split(X, y, test_size=0.2, random_state=0)\n",
    "        return X_train, X_test, y_train, y_test\n",
    "    elif featuretype == 'bow' and single_or_exclude == 0:\n",
    "        X = dataset.iloc[:,13:15].values.astype(float)\n",
    "        y = dataset.iloc[:,15].values.astype(float)\n",
    "        y = np.array(y).reshape(-1,1)\n",
    "        X_train, X_test, y_train, y_test = train_test_split(X, y, test_size=0.2, random_state=0)\n",
    "        return X_train, X_test, y_train, y_test\n",
    "    elif featuretype == 'prompt' and single_or_exclude == 0:\n",
    "        X = dataset.iloc[:,9:13].values.astype(float)\n",
    "        y = dataset.iloc[:,15].values.astype(float)\n",
    "        y = np.array(y).reshape(-1,1)\n",
    "        X_train, X_test, y_train, y_test = train_test_split(X, y, test_size=0.2, random_state=0)\n",
    "        return X_train, X_test, y_train, y_test\n",
    "    elif featuretype == 'length' and single_or_exclude == 1:\n",
    "        X = dataset.iloc[:,10:15].values.astype(float)\n",
    "        y = dataset.iloc[:,15].values.astype(float)\n",
    "        y = np.array(y).reshape(-1,1)\n",
    "        X_train, X_test, y_train, y_test = train_test_split(X, y, test_size=0.2, random_state=0)\n",
    "        return X_train, X_test, y_train, y_test\n",
    "    elif featuretype == 'pos' and single_or_exclude == 1:\n",
    "        X = dataset.iloc[:,[1,2,3,4,5,6,9,10,11,12,13,14]].values.astype(float)\n",
    "        y = dataset.iloc[:,15].values.astype(float)\n",
    "        y = np.array(y).reshape(-1,1)\n",
    "        X_train, X_test, y_train, y_test = train_test_split(X, y, test_size=0.2, random_state=0)\n",
    "        return X_train, X_test, y_train, y_test\n",
    "    elif featuretype == 'bow' and single_or_exclude == 1:\n",
    "        X = dataset.iloc[:,1:13].values.astype(float)\n",
    "        y = dataset.iloc[:,15].values.astype(float)\n",
    "        y = np.array(y).reshape(-1,1)\n",
    "        X_train, X_test, y_train, y_test = train_test_split(X, y, test_size=0.2, random_state=0)\n",
    "        return X_train, X_test, y_train, y_test\n",
    "    elif featuretype == 'prompt' and single_or_exclude == 1:\n",
    "        X = dataset.iloc[:,[1,2,3,4,5,6,7,8,13,14]].values.astype(float)\n",
    "        y = dataset.iloc[:,15].values.astype(float)\n",
    "        y = np.array(y).reshape(-1,1)\n",
    "        X_train, X_test, y_train, y_test = train_test_split(X, y, test_size=0.2, random_state=0)\n",
    "        return X_train, X_test, y_train, y_test\n",
    "    elif featuretype == 'all':\n",
    "        X = dataset.iloc[:,1:15].values.astype(float)\n",
    "        y = dataset.iloc[:,15].values.astype(float)\n",
    "        y = np.array(y).reshape(-1,1)\n",
    "        X_train, X_test, y_train, y_test = train_test_split(X, y, test_size=0.2, random_state=0)\n",
    "        return X_train, X_test, y_train, y_test"
   ]
  },
  {
   "cell_type": "markdown",
   "metadata": {},
   "source": [
    "## Function to get all QWK score"
   ]
  },
  {
   "cell_type": "code",
   "execution_count": 7,
   "metadata": {},
   "outputs": [],
   "source": [
    "def get_qwk_all(Featuretype, X_train, X_test, y_train, y_test):\n",
    "    # Getting the QWK scores for all methods\n",
    "    nb_qwk, y_predNB = get_nb_qwk(X_train, X_test, y_train, y_test)\n",
    "    svm_qwk, y_predSVM = get_svm_qwk(X_train, X_test, y_train, y_test)\n",
    "    blrr_qwk, y_predBLRR = get_blrr_qwk(X_train, X_test, y_train, y_test)\n",
    "    ensemble_qwk, y_predEnsemble = get_ensemble_qwk(y_test, y_predNB, y_predSVM, y_predBLRR)\n",
    "    return Featuretype, nb_qwk, svm_qwk, blrr_qwk, ensemble_qwk"
   ]
  },
  {
   "cell_type": "markdown",
   "metadata": {},
   "source": [
    "## Get qwk for single feature type "
   ]
  },
  {
   "cell_type": "code",
   "execution_count": 8,
   "metadata": {},
   "outputs": [
    {
     "name": "stdout",
     "output_type": "stream",
     "text": [
      "[LibSVM][LibSVM][LibSVM][LibSVM]"
     ]
    }
   ],
   "source": [
    "dataset = pd.read_csv('maes_features.csv')\n",
    "#length only\n",
    "X_train, X_test, y_train, y_test = get_train_test(dataset,'length',0)\n",
    "onlylength = get_qwk_all('Only Length',X_train, X_test, y_train, y_test )\n",
    "\n",
    "#pos only\n",
    "X_train, X_test, y_train, y_test = get_train_test(dataset,'pos',0)\n",
    "onlypos = get_qwk_all('Only PoS',X_train, X_test, y_train, y_test )\n",
    "\n",
    "#bow only\n",
    "X_train, X_test, y_train, y_test = get_train_test(dataset,'bow',0)\n",
    "onlybow = get_qwk_all('Only BoW',X_train, X_test, y_train, y_test )\n",
    "\n",
    "#prompt only\n",
    "X_train, X_test, y_train, y_test = get_train_test(dataset,'prompt',0)\n",
    "onlyprompt = get_qwk_all('Only Prompt',X_train, X_test, y_train, y_test )"
   ]
  },
  {
   "cell_type": "markdown",
   "metadata": {},
   "source": [
    "## Get qwk for excluding one feature"
   ]
  },
  {
   "cell_type": "code",
   "execution_count": 9,
   "metadata": {},
   "outputs": [
    {
     "name": "stdout",
     "output_type": "stream",
     "text": [
      "[LibSVM][LibSVM][LibSVM][LibSVM]"
     ]
    }
   ],
   "source": [
    "#excluding length\n",
    "X_train, X_test, y_train, y_test = get_train_test(dataset,'length',1)\n",
    "exclength = get_qwk_all('Excluding Length',X_train, X_test, y_train, y_test )\n",
    "\n",
    "#excluding pos\n",
    "X_train, X_test, y_train, y_test = get_train_test(dataset,'pos',1)\n",
    "excpos = get_qwk_all('Excluding PoS',X_train, X_test, y_train, y_test )\n",
    "\n",
    "#excluding bow\n",
    "X_train, X_test, y_train, y_test = get_train_test(dataset,'bow',1)\n",
    "excbow = get_qwk_all('Excluding BoW',X_train, X_test, y_train, y_test )\n",
    "\n",
    "#excluding prompt\n",
    "X_train, X_test, y_train, y_test = get_train_test(dataset,'prompt',1)\n",
    "excprompt = get_qwk_all('Excluding Prompt',X_train, X_test, y_train, y_test )"
   ]
  },
  {
   "cell_type": "markdown",
   "metadata": {},
   "source": [
    "## Making table for comparison"
   ]
  },
  {
   "cell_type": "code",
   "execution_count": 10,
   "metadata": {},
   "outputs": [
    {
     "name": "stdout",
     "output_type": "stream",
     "text": [
      "[LibSVM]"
     ]
    }
   ],
   "source": [
    "table = []\n",
    "table.append(onlylength)\n",
    "table.append(onlypos)\n",
    "table.append(onlybow)\n",
    "table.append(onlyprompt)\n",
    "table.append(exclength)\n",
    "table.append(excpos)\n",
    "table.append(excbow)\n",
    "table.append(excprompt)\n",
    "#all features\n",
    "X_train, X_test, y_train, y_test = get_train_test(dataset,'all',0)\n",
    "table.append(get_qwk_all('All features',X_train, X_test, y_train, y_test ))"
   ]
  },
  {
   "cell_type": "code",
   "execution_count": 11,
   "metadata": {},
   "outputs": [
    {
     "data": {
      "text/html": [
       "<div>\n",
       "<style scoped>\n",
       "    .dataframe tbody tr th:only-of-type {\n",
       "        vertical-align: middle;\n",
       "    }\n",
       "\n",
       "    .dataframe tbody tr th {\n",
       "        vertical-align: top;\n",
       "    }\n",
       "\n",
       "    .dataframe thead th {\n",
       "        text-align: right;\n",
       "    }\n",
       "</style>\n",
       "<table border=\"1\" class=\"dataframe\">\n",
       "  <thead>\n",
       "    <tr style=\"text-align: right;\">\n",
       "      <th></th>\n",
       "      <th>Type</th>\n",
       "      <th>NB</th>\n",
       "      <th>SVM</th>\n",
       "      <th>BLRR</th>\n",
       "      <th>Ensemble</th>\n",
       "    </tr>\n",
       "  </thead>\n",
       "  <tbody>\n",
       "    <tr>\n",
       "      <th>0</th>\n",
       "      <td>Only Length</td>\n",
       "      <td>0.504200</td>\n",
       "      <td>0.580145</td>\n",
       "      <td>0.603662</td>\n",
       "      <td>0.598689</td>\n",
       "    </tr>\n",
       "    <tr>\n",
       "      <th>1</th>\n",
       "      <td>Only PoS</td>\n",
       "      <td>0.014533</td>\n",
       "      <td>0.597624</td>\n",
       "      <td>0.564780</td>\n",
       "      <td>0.572198</td>\n",
       "    </tr>\n",
       "    <tr>\n",
       "      <th>2</th>\n",
       "      <td>Only BoW</td>\n",
       "      <td>0.000000</td>\n",
       "      <td>0.590307</td>\n",
       "      <td>0.573816</td>\n",
       "      <td>0.569452</td>\n",
       "    </tr>\n",
       "    <tr>\n",
       "      <th>3</th>\n",
       "      <td>Only Prompt</td>\n",
       "      <td>0.245569</td>\n",
       "      <td>0.569083</td>\n",
       "      <td>0.543177</td>\n",
       "      <td>0.542645</td>\n",
       "    </tr>\n",
       "    <tr>\n",
       "      <th>4</th>\n",
       "      <td>Excluding Length</td>\n",
       "      <td>0.443869</td>\n",
       "      <td>0.564516</td>\n",
       "      <td>0.601342</td>\n",
       "      <td>0.561465</td>\n",
       "    </tr>\n",
       "    <tr>\n",
       "      <th>5</th>\n",
       "      <td>Excluding PoS</td>\n",
       "      <td>0.510908</td>\n",
       "      <td>0.582942</td>\n",
       "      <td>0.617268</td>\n",
       "      <td>0.603770</td>\n",
       "    </tr>\n",
       "    <tr>\n",
       "      <th>6</th>\n",
       "      <td>Excluding BoW</td>\n",
       "      <td>0.545798</td>\n",
       "      <td>0.598798</td>\n",
       "      <td>0.604046</td>\n",
       "      <td>0.632497</td>\n",
       "    </tr>\n",
       "    <tr>\n",
       "      <th>7</th>\n",
       "      <td>Excluding Prompt</td>\n",
       "      <td>0.494043</td>\n",
       "      <td>0.636467</td>\n",
       "      <td>0.657317</td>\n",
       "      <td>0.656222</td>\n",
       "    </tr>\n",
       "    <tr>\n",
       "      <th>8</th>\n",
       "      <td>All features</td>\n",
       "      <td>0.517274</td>\n",
       "      <td>0.601138</td>\n",
       "      <td>0.626159</td>\n",
       "      <td>0.606082</td>\n",
       "    </tr>\n",
       "  </tbody>\n",
       "</table>\n",
       "</div>"
      ],
      "text/plain": [
       "               Type        NB       SVM      BLRR  Ensemble\n",
       "0       Only Length  0.504200  0.580145  0.603662  0.598689\n",
       "1          Only PoS  0.014533  0.597624  0.564780  0.572198\n",
       "2          Only BoW  0.000000  0.590307  0.573816  0.569452\n",
       "3       Only Prompt  0.245569  0.569083  0.543177  0.542645\n",
       "4  Excluding Length  0.443869  0.564516  0.601342  0.561465\n",
       "5     Excluding PoS  0.510908  0.582942  0.617268  0.603770\n",
       "6     Excluding BoW  0.545798  0.598798  0.604046  0.632497\n",
       "7  Excluding Prompt  0.494043  0.636467  0.657317  0.656222\n",
       "8      All features  0.517274  0.601138  0.626159  0.606082"
      ]
     },
     "execution_count": 11,
     "metadata": {},
     "output_type": "execute_result"
    }
   ],
   "source": [
    "table_df = pd.DataFrame(table, columns=['Type', 'NB', 'SVM', 'BLRR', 'Ensemble'])\n",
    "table_df"
   ]
  },
  {
   "cell_type": "markdown",
   "metadata": {},
   "source": [
    "### Final Conclusion - training model based on single type of feature\n",
    "Below are a table conclude the result of model trained by single type of feature.\n",
    "\n",
    "\n",
    "| Only Feature Used | Naive Bayes| SVM | BLRR | Ensemble | \n",
    "| --- | --- | --- | --- | --- | \n",
    "| Length | 0.504 | 0.580 | 0.604 | 0.599 | \n",
    "| PoS | 0.483 | 0.584 | 0.536 | 0.557 | \n",
    "| BoW | 0.0 | 0.590 | 0.574 | 0.569 | \n",
    "| Prompt | 0.246 | 0.569 | 0.543 | 0.542 | \n",
    "| All features | 0.517 | 0.601 | 0.626 | 0.606 |\n",
    "\n",
    "Differences between all features and only features\n",
    "\n",
    "| Only Features | Naive Bayes| SVM | BLRR | Ensemble | Total Diff (absolute value)  |\n",
    "| --- | --- | --- | --- | --- | --- |\n",
    "| Length | 0.013 | 0.021 | 0.022 | 0.007 | 0.063 |\n",
    "| PoS | 0.034 | 0.017 | 0.090 | 0.049 | 0.190 |\n",
    "| BoW | 0.517 | 0.011 | 0.052 | 0.037 | 0.617 |\n",
    "| Prompt | 0.271 | 0.032 | 0.083 | 0.064 | 0.450 |\n",
    "\n",
    "Higher in differences should mean lower in influence on the model.\n"
   ]
  },
  {
   "cell_type": "markdown",
   "metadata": {},
   "source": [
    "`BoW` has no influence at all on Naive Bayes Model.\n",
    "\n",
    "`Prompt` has the least influence on SVM and second least influence in BLRR.\n",
    "\n",
    "`Length` has the most influences among all model."
   ]
  },
  {
   "cell_type": "markdown",
   "metadata": {},
   "source": [
    "### Final Conclusion - Influence\n",
    "Below are a table conclude the result of model trained by excluding features\n",
    "\n",
    "\n",
    "| Excluded Features | Naive Bayes| SVM | BLRR | Ensemble | \n",
    "| --- | --- | --- | --- | --- | \n",
    "| Length | 0.444 | 0.565 | 0.601 | 0.561 | \n",
    "| PoS | 0.511 | 0.583 | 0.617 | 0.604 | \n",
    "| BoW | 0.546 | 0.599 | 0.604 | 0.632 | \n",
    "| Prompt | 0.494 | 0.636 | 0.657 | 0.656 | \n",
    "| All features | 0.517 | 0.601 | 0.626 | 0.606 |\n",
    "\n",
    "\n",
    "Differences between all features and excluded features\n",
    "\n",
    "| Excluded Features | Naive Bayes| SVM | BLRR | Ensemble | Total Diff (absolute value) | Total Diff |\n",
    "| --- | --- | --- | --- | --- | --- | --- |\n",
    "| Length | 0.073 | 0.036 | 0.025 | 0.045 | 0.179 | 0.179 |\n",
    "| PoS | 0.006 | 0.018 | 0.009 | 0.002 | 0.035 | 0.035 |\n",
    "| BoW | -0.029 | 0.002 | 0.022 | -0.026 | 0.079 | -0.031 |\n",
    "| Prompt | 0.023 | -0.035 | -0.031 | -0.050 | 0.139 | -0.093 |\n",
    "\n",
    "\n",
    "Lower in differences should mean lower in influence on the model."
   ]
  },
  {
   "cell_type": "markdown",
   "metadata": {},
   "source": [
    "`Length` has the most influence on Naive Bayes, SVM Model.\n",
    "\n",
    "`Prompt` has overfitting in SVM and BLRR model\n",
    "\n",
    "`PoS` has the least influence among all model\n",
    "\n",
    "`BoW` overfitting NB model"
   ]
  }
 ],
 "metadata": {
  "kernelspec": {
   "display_name": "Python 3",
   "language": "python",
   "name": "python3"
  },
  "language_info": {
   "codemirror_mode": {
    "name": "ipython",
    "version": 3
   },
   "file_extension": ".py",
   "mimetype": "text/x-python",
   "name": "python",
   "nbconvert_exporter": "python",
   "pygments_lexer": "ipython3",
   "version": "3.8.6"
  }
 },
 "nbformat": 4,
 "nbformat_minor": 4
}
