{
 "cells": [
  {
   "cell_type": "markdown",
   "metadata": {},
   "source": [
    "# M - Automated Essay Scoring\n",
    "_School of Information Technology_<br>\n",
    "_Monash University Malaysia_<br>\n",
    "(c) Copyright 2020, Ian Tan & Jun Qing Lim"
   ]
  },
  {
   "cell_type": "markdown",
   "metadata": {},
   "source": [
    "Steps\n",
    "\n",
    "- Read dataset (ASAP)\n",
    "- Extract features (into file) using EASE\n",
    "- Conduct machine learning (Sci-kit Learn libraries)\n",
    "    - Naive Bayes\n",
    "    - SVR\n",
    "    - BLRR (later)\n",
    "- Evaluate (QWK)"
   ]
  },
  {
   "cell_type": "markdown",
   "metadata": {},
   "source": [
    "## Import Libraries"
   ]
  },
  {
   "cell_type": "code",
   "execution_count": 1,
   "metadata": {},
   "outputs": [],
   "source": [
    "import time\n",
    "start = time.time()"
   ]
  },
  {
   "cell_type": "code",
   "execution_count": 2,
   "metadata": {},
   "outputs": [],
   "source": [
    "import numpy as np\n",
    "import pandas as pd\n",
    "from collections import defaultdict\n",
    "\n",
    "from nltk import pos_tag\n",
    "from nltk.tokenize import word_tokenize\n",
    "from nltk.corpus import stopwords\n",
    "from nltk.corpus import wordnet as wn\n",
    "from nltk.stem import WordNetLemmatizer\n",
    "\n",
    "from sklearn.preprocessing import LabelEncoder\n",
    "from sklearn.feature_extraction.text import TfidfVectorizer\n",
    "from sklearn import model_selection, naive_bayes, svm #SVR is in SVM\n",
    "from sklearn.metrics import accuracy_score, confusion_matrix"
   ]
  },
  {
   "cell_type": "markdown",
   "metadata": {},
   "source": [
    "### Import the EASE functions, which is located in the ease folder."
   ]
  },
  {
   "cell_type": "code",
   "execution_count": 3,
   "metadata": {},
   "outputs": [],
   "source": [
    "import sys\n",
    "sys.path.insert(1, 'ease')\n",
    "import create\n",
    "import grade \n",
    "import model_creator \n",
    "import predictor_extractor \n",
    "import predictor_set \n",
    "import util_functions\n",
    "import essay_set\n",
    "import feature_extractor\n",
    "\n",
    "from essay_set import EssaySet\n",
    "from feature_extractor import FeatureExtractor"
   ]
  },
  {
   "cell_type": "markdown",
   "metadata": {},
   "source": [
    "## Read Dataset"
   ]
  },
  {
   "cell_type": "markdown",
   "metadata": {},
   "source": [
    "AES (Hewlett Foundation dataset from Kaggle) in the folder `asap-aes`.  For this, we use the `training_set_rel3` for training and testing.  Note that the `test_set` and the `valid_set` cannot be used as they don't contain the scores and are meant for the competition to score the entries."
   ]
  },
  {
   "cell_type": "code",
   "execution_count": 4,
   "metadata": {},
   "outputs": [],
   "source": [
    "data_set = pd.read_csv(\"asap-aes/training_set_rel3.tsv\", sep='\\t', encoding=\"latin-1\")"
   ]
  },
  {
   "cell_type": "code",
   "execution_count": 5,
   "metadata": {},
   "outputs": [],
   "source": [
    "data_set['essay'] = [entry.lower() for entry in data_set['essay']] # lower case for all words in essay"
   ]
  },
  {
   "cell_type": "markdown",
   "metadata": {},
   "source": [
    "There are 8 different essay sets.  As an overview:\n",
    "- Sets 1 & 2 are of persuasive/narrative in the form of letters\n",
    "- Sets 3, 4, 5 & 6 are source dependent response to a given essay\n",
    "- Sets 7 & 8 are of persuasive/narrative in the form of story writing essays\n",
    "\n",
    "These format makes it good for transfer learning."
   ]
  },
  {
   "cell_type": "code",
   "execution_count": 6,
   "metadata": {},
   "outputs": [],
   "source": [
    "data_set_1 = data_set[data_set['essay_set'] == 1]\n",
    "data_set_2 = data_set[data_set['essay_set'] == 2]\n",
    "#data_set_3 = data_set[data_set['essay_set'] == 3]\n",
    "#data_set_4 = data_set[data_set['essay_set'] == 4]\n",
    "#data_set_5 = data_set[data_set['essay_set'] == 5]\n",
    "#data_set_6 = data_set[data_set['essay_set'] == 6]\n",
    "#data_set_7 = data_set[data_set['essay_set'] == 7]\n",
    "#data_set_8 = data_set[data_set['essay_set'] == 8]"
   ]
  },
  {
   "cell_type": "markdown",
   "metadata": {},
   "source": [
    "As each set will retain the original index, we want each of them to have their own indexing so that it is easier to match the essay and the scores."
   ]
  },
  {
   "cell_type": "code",
   "execution_count": 7,
   "metadata": {},
   "outputs": [],
   "source": [
    "data_set_1 = data_set_1.reset_index() # resets index\n",
    "data_set_2 = data_set_2.reset_index()\n",
    "#data_set_3 = data_set_3.reset_index()\n",
    "#data_set_4 = data_set_4.reset_index()\n",
    "#data_set_5 = data_set_5.reset_index()\n",
    "#data_set_6 = data_set_6.reset_index()\n",
    "#data_set_7 = data_set_7.reset_index()\n",
    "#data_set_8 = data_set_8.reset_index()"
   ]
  },
  {
   "cell_type": "markdown",
   "metadata": {},
   "source": [
    "We use just the `essay` content and the respective `scores`."
   ]
  },
  {
   "cell_type": "code",
   "execution_count": 8,
   "metadata": {},
   "outputs": [],
   "source": [
    "# If you want for the whole dataset.\n",
    "# Commented out as we will work on individual datasets\n",
    "#essays = data_set['essay']\n",
    "#scores = data_set['domain1_score']"
   ]
  },
  {
   "cell_type": "code",
   "execution_count": 9,
   "metadata": {},
   "outputs": [],
   "source": [
    "essays_1 = data_set_1['essay']\n",
    "scores_1 = data_set_1['domain1_score']\n",
    "essays_2 = data_set_2['essay']\n",
    "scores_2 = data_set_2['domain1_score']\n",
    "#essays_3 = data_set_3['essay']\n",
    "#scores_3 = data_set_3['domain1_score']\n",
    "#essays_4 = data_set_4['essay']\n",
    "#scores_4 = data_set_4['domain1_score']\n",
    "#essays_5 = data_set_5['essay']\n",
    "#scores_5 = data_set_5['domain1_score']\n",
    "#essays_6 = data_set_6['essay']\n",
    "#scores_6 = data_set_6['domain1_score']\n",
    "#essays_7 = data_set_7['essay']\n",
    "#scores_7 = data_set_7['domain1_score']\n",
    "#essays_8 = data_set_8['essay']\n",
    "#scores_8 = data_set_8['domain1_score']"
   ]
  },
  {
   "cell_type": "markdown",
   "metadata": {},
   "source": [
    "Rename the `domain1_score` column to `score`."
   ]
  },
  {
   "cell_type": "code",
   "execution_count": 10,
   "metadata": {},
   "outputs": [],
   "source": [
    "scores_1.columns = \"score\"\n",
    "scores_2.columns = \"score\"\n",
    "#scores_3.columns = \"score\"\n",
    "#scores_4.columns = \"score\"\n",
    "#scores_5.columns = \"score\"\n",
    "#scores_6.columns = \"score\"\n",
    "#scores_7.columns = \"score\"\n",
    "#scores_8.columns = \"score\""
   ]
  },
  {
   "cell_type": "markdown",
   "metadata": {},
   "source": [
    "THE ABOVE NEEDS TO BE PUT INTO A LOOP BUT I LEFT IT AS IS BECAUSE YOU CAN PICK AND CHOOSE EASILY INSTEAD."
   ]
  },
  {
   "cell_type": "markdown",
   "metadata": {},
   "source": [
    "## Prepare Data"
   ]
  },
  {
   "cell_type": "markdown",
   "metadata": {},
   "source": [
    "### Create the essay sets"
   ]
  },
  {
   "cell_type": "markdown",
   "metadata": {},
   "source": [
    "Again, these can be looped but I kept them separated for ease of readability and commenting out those that we don't need.  Each set takes a long time to process, and hence please be patient with this part."
   ]
  },
  {
   "cell_type": "code",
   "execution_count": 11,
   "metadata": {},
   "outputs": [],
   "source": [
    "e_set_1 = EssaySet()\n",
    "e_set_2 = EssaySet()\n",
    "#e_set_3 = EssaySet()\n",
    "#e_set_4 = EssaySet()\n",
    "#e_set_5 = EssaySet()\n",
    "#e_set_6 = EssaySet()\n",
    "#e_set_7 = EssaySet()\n",
    "#e_set_8 = EssaySet()"
   ]
  },
  {
   "cell_type": "code",
   "execution_count": 12,
   "metadata": {},
   "outputs": [],
   "source": [
    "for i in range(len(essays_1)):\n",
    "    e_set_1.add_essay(essays_1[i], scores_1[i])"
   ]
  },
  {
   "cell_type": "code",
   "execution_count": 13,
   "metadata": {},
   "outputs": [],
   "source": [
    "for i in range(len(essays_2)):\n",
    "    e_set_2.add_essay(essays_2[i], scores_2[i])"
   ]
  },
  {
   "cell_type": "markdown",
   "metadata": {},
   "source": [
    "Left out for sets 3 - 6 for now."
   ]
  },
  {
   "cell_type": "code",
   "execution_count": 14,
   "metadata": {},
   "outputs": [
    {
     "data": {
      "text/plain": [
       "'\\nfor i in range(len(essays_7)):\\n    e_set_7.add_essay(essays_7[i], scores_7[i])\\n'"
      ]
     },
     "execution_count": 14,
     "metadata": {},
     "output_type": "execute_result"
    }
   ],
   "source": [
    "\"\"\"\n",
    "for i in range(len(essays_7)):\n",
    "    e_set_7.add_essay(essays_7[i], scores_7[i])\n",
    "\"\"\""
   ]
  },
  {
   "cell_type": "code",
   "execution_count": 15,
   "metadata": {},
   "outputs": [
    {
     "data": {
      "text/plain": [
       "'\\nfor i in range(len(essays_8)):\\n    e_set_8.add_essay(essays_8[i], scores_8[i])\\n'"
      ]
     },
     "execution_count": 15,
     "metadata": {},
     "output_type": "execute_result"
    }
   ],
   "source": [
    "\"\"\"\n",
    "for i in range(len(essays_8)):\n",
    "    e_set_8.add_essay(essays_8[i], scores_8[i])\n",
    "\"\"\""
   ]
  },
  {
   "cell_type": "markdown",
   "metadata": {},
   "source": [
    "## Extract Features"
   ]
  },
  {
   "cell_type": "code",
   "execution_count": 16,
   "metadata": {},
   "outputs": [],
   "source": [
    "f_extractor = FeatureExtractor()"
   ]
  },
  {
   "cell_type": "markdown",
   "metadata": {},
   "source": [
    "Change the next two variable assignment to change the evaluation of the essay sets.\n",
    "\n",
    "Would be better to do this above.\n",
    "\n",
    "**SETUP HERE**"
   ]
  },
  {
   "cell_type": "code",
   "execution_count": 17,
   "metadata": {},
   "outputs": [],
   "source": [
    "e_set = e_set_2\n",
    "score = scores_2\n"
   ]
  },
  {
   "cell_type": "code",
   "execution_count": 18,
   "metadata": {},
   "outputs": [],
   "source": [
    "length = f_extractor.gen_length_feats(e_set)\n",
    "length_df = pd.DataFrame(\n",
    "    length, \n",
    "    columns = [\n",
    "        'chars', \n",
    "        'words', \n",
    "        'commas', \n",
    "        'apostrophes', \n",
    "        'punctuations', \n",
    "        'avg_word_length',\n",
    "        # new stuff, will need to compare original with new and separate punctuations\n",
    "        'POS', \n",
    "        'POS/total_words'\n",
    "    ]\n",
    ")"
   ]
  },
  {
   "cell_type": "markdown",
   "metadata": {},
   "source": [
    "_*Exclude the prompts for the time being*_\n",
    "\n",
    "To be included next."
   ]
  },
  {
   "cell_type": "code",
   "execution_count": 19,
   "metadata": {},
   "outputs": [],
   "source": [
    "# Merge this with the score based on the index\n",
    "# We use the shallow features first\n",
    "features = length_df\n",
    "dataset = features.merge(score, left_index=True, right_index=True)\n",
    "dataset.columns = ['chars', 'words', 'commas', 'apostrophes', 'punctuations',\n",
    "                   'avg_word_length',\n",
    "                   'POS', 'POS/total_words', 'score']\n",
    "#X_1 = dataset.iloc[:,0:10].values.astype(float)\n",
    "#y_1 = dataset.iloc[:,11].values.astype(float)"
   ]
  },
  {
   "cell_type": "markdown",
   "metadata": {},
   "source": [
    "## Determine Essay Prompts"
   ]
  },
  {
   "cell_type": "code",
   "execution_count": 20,
   "metadata": {},
   "outputs": [],
   "source": [
    "essay_prompts = []\n",
    "\n",
    "for i in range(1,9):\n",
    "    file = \"prompts/set\" + str(i) + \".txt\"\n",
    "    f = open(file, \"r\", encoding=\"latin-1\") # there are some 0x9x characters, hence need to specify encoding\n",
    "    essay_prompts.append(f.read())\n",
    "    \n",
    "def get_essay_prompt(essay_set):\n",
    "    return essay_prompts[essay_set-1]"
   ]
  },
  {
   "cell_type": "code",
   "execution_count": 21,
   "metadata": {},
   "outputs": [
    {
     "data": {
      "text/plain": [
       "8"
      ]
     },
     "execution_count": 21,
     "metadata": {},
     "output_type": "execute_result"
    }
   ],
   "source": [
    "len(essay_prompts)"
   ]
  },
  {
   "cell_type": "markdown",
   "metadata": {},
   "source": [
    "**SETUP HERE**"
   ]
  },
  {
   "cell_type": "code",
   "execution_count": 22,
   "metadata": {},
   "outputs": [
    {
     "data": {
      "text/plain": [
       "<essay_set.EssaySet at 0x16e12058>"
      ]
     },
     "execution_count": 22,
     "metadata": {},
     "output_type": "execute_result"
    }
   ],
   "source": [
    "# Unsure how this works\n",
    "e_set.update_prompt(get_essay_prompt(2))\n",
    "\n",
    "# Need more explanation on how this works - look into EASE\n",
    "prompts = f_extractor.gen_prompt_feats(e_set)\n",
    "prompts_df = pd.DataFrame(prompts, columns = [\n",
    "    'prompt_words', 'prompt_words/total_words', 'synonym_words', 'synonym_words/total_words'\n",
    "])\n",
    "e_set # To check"
   ]
  },
  {
   "cell_type": "code",
   "execution_count": 23,
   "metadata": {},
   "outputs": [],
   "source": [
    "# Another process that takes sometime to process\n",
    "unstemmed = util_functions.get_vocab_essays_count(e_set._text, e_set._score)\n",
    "stemmed = util_functions.get_vocab_essays_count(e_set._clean_stem_text, e_set._score)\n",
    "\n",
    "bow = list(map(lambda a,b:[a,b], unstemmed, stemmed))\n",
    "bow_df = pd.DataFrame(bow, columns = ['unstemmed', 'stemmed'])"
   ]
  },
  {
   "cell_type": "code",
   "execution_count": 24,
   "metadata": {},
   "outputs": [
    {
     "data": {
      "text/html": [
       "<div>\n",
       "<style scoped>\n",
       "    .dataframe tbody tr th:only-of-type {\n",
       "        vertical-align: middle;\n",
       "    }\n",
       "\n",
       "    .dataframe tbody tr th {\n",
       "        vertical-align: top;\n",
       "    }\n",
       "\n",
       "    .dataframe thead th {\n",
       "        text-align: right;\n",
       "    }\n",
       "</style>\n",
       "<table border=\"1\" class=\"dataframe\">\n",
       "  <thead>\n",
       "    <tr style=\"text-align: right;\">\n",
       "      <th></th>\n",
       "      <th>chars</th>\n",
       "      <th>words</th>\n",
       "      <th>commas</th>\n",
       "      <th>apostrophes</th>\n",
       "      <th>punctuations</th>\n",
       "      <th>avg_word_length</th>\n",
       "      <th>POS</th>\n",
       "      <th>POS/total_words</th>\n",
       "      <th>prompt_words</th>\n",
       "      <th>prompt_words/total_words</th>\n",
       "      <th>synonym_words</th>\n",
       "      <th>synonym_words/total_words</th>\n",
       "      <th>unstemmed</th>\n",
       "      <th>stemmed</th>\n",
       "    </tr>\n",
       "  </thead>\n",
       "  <tbody>\n",
       "    <tr>\n",
       "      <th>0</th>\n",
       "      <td>2639.0</td>\n",
       "      <td>527.0</td>\n",
       "      <td>15.0</td>\n",
       "      <td>13.0</td>\n",
       "      <td>21.0</td>\n",
       "      <td>5.007590</td>\n",
       "      <td>32.791587</td>\n",
       "      <td>0.062223</td>\n",
       "      <td>220.0</td>\n",
       "      <td>0.417457</td>\n",
       "      <td>112.0</td>\n",
       "      <td>0.212524</td>\n",
       "      <td>584</td>\n",
       "      <td>559</td>\n",
       "    </tr>\n",
       "    <tr>\n",
       "      <th>1</th>\n",
       "      <td>841.0</td>\n",
       "      <td>180.0</td>\n",
       "      <td>5.0</td>\n",
       "      <td>2.0</td>\n",
       "      <td>3.0</td>\n",
       "      <td>4.672222</td>\n",
       "      <td>17.866290</td>\n",
       "      <td>0.099257</td>\n",
       "      <td>82.0</td>\n",
       "      <td>0.455556</td>\n",
       "      <td>66.0</td>\n",
       "      <td>0.366667</td>\n",
       "      <td>210</td>\n",
       "      <td>210</td>\n",
       "    </tr>\n",
       "    <tr>\n",
       "      <th>2</th>\n",
       "      <td>1181.0</td>\n",
       "      <td>261.0</td>\n",
       "      <td>12.0</td>\n",
       "      <td>15.0</td>\n",
       "      <td>14.0</td>\n",
       "      <td>4.524904</td>\n",
       "      <td>22.171206</td>\n",
       "      <td>0.084947</td>\n",
       "      <td>144.0</td>\n",
       "      <td>0.551724</td>\n",
       "      <td>83.0</td>\n",
       "      <td>0.318008</td>\n",
       "      <td>291</td>\n",
       "      <td>285</td>\n",
       "    </tr>\n",
       "    <tr>\n",
       "      <th>3</th>\n",
       "      <td>2705.0</td>\n",
       "      <td>527.0</td>\n",
       "      <td>22.0</td>\n",
       "      <td>6.0</td>\n",
       "      <td>31.0</td>\n",
       "      <td>5.132827</td>\n",
       "      <td>7.026769</td>\n",
       "      <td>0.013334</td>\n",
       "      <td>245.0</td>\n",
       "      <td>0.464896</td>\n",
       "      <td>131.0</td>\n",
       "      <td>0.248577</td>\n",
       "      <td>547</td>\n",
       "      <td>528</td>\n",
       "    </tr>\n",
       "    <tr>\n",
       "      <th>4</th>\n",
       "      <td>2394.0</td>\n",
       "      <td>501.0</td>\n",
       "      <td>25.0</td>\n",
       "      <td>15.0</td>\n",
       "      <td>34.0</td>\n",
       "      <td>4.778443</td>\n",
       "      <td>31.795655</td>\n",
       "      <td>0.063464</td>\n",
       "      <td>216.0</td>\n",
       "      <td>0.431138</td>\n",
       "      <td>117.0</td>\n",
       "      <td>0.233533</td>\n",
       "      <td>591</td>\n",
       "      <td>562</td>\n",
       "    </tr>\n",
       "  </tbody>\n",
       "</table>\n",
       "</div>"
      ],
      "text/plain": [
       "    chars  words  commas  apostrophes  punctuations  avg_word_length  \\\n",
       "0  2639.0  527.0    15.0         13.0          21.0         5.007590   \n",
       "1   841.0  180.0     5.0          2.0           3.0         4.672222   \n",
       "2  1181.0  261.0    12.0         15.0          14.0         4.524904   \n",
       "3  2705.0  527.0    22.0          6.0          31.0         5.132827   \n",
       "4  2394.0  501.0    25.0         15.0          34.0         4.778443   \n",
       "\n",
       "         POS  POS/total_words  prompt_words  prompt_words/total_words  \\\n",
       "0  32.791587         0.062223         220.0                  0.417457   \n",
       "1  17.866290         0.099257          82.0                  0.455556   \n",
       "2  22.171206         0.084947         144.0                  0.551724   \n",
       "3   7.026769         0.013334         245.0                  0.464896   \n",
       "4  31.795655         0.063464         216.0                  0.431138   \n",
       "\n",
       "   synonym_words  synonym_words/total_words  unstemmed  stemmed  \n",
       "0          112.0                   0.212524        584      559  \n",
       "1           66.0                   0.366667        210      210  \n",
       "2           83.0                   0.318008        291      285  \n",
       "3          131.0                   0.248577        547      528  \n",
       "4          117.0                   0.233533        591      562  "
      ]
     },
     "execution_count": 24,
     "metadata": {},
     "output_type": "execute_result"
    }
   ],
   "source": [
    "features = pd.concat([length_df, prompts_df, bow_df], axis=1, sort=False)\n",
    "features.head()"
   ]
  },
  {
   "cell_type": "code",
   "execution_count": 25,
   "metadata": {},
   "outputs": [
    {
     "data": {
      "text/html": [
       "<div>\n",
       "<style scoped>\n",
       "    .dataframe tbody tr th:only-of-type {\n",
       "        vertical-align: middle;\n",
       "    }\n",
       "\n",
       "    .dataframe tbody tr th {\n",
       "        vertical-align: top;\n",
       "    }\n",
       "\n",
       "    .dataframe thead th {\n",
       "        text-align: right;\n",
       "    }\n",
       "</style>\n",
       "<table border=\"1\" class=\"dataframe\">\n",
       "  <thead>\n",
       "    <tr style=\"text-align: right;\">\n",
       "      <th></th>\n",
       "      <th>chars</th>\n",
       "      <th>words</th>\n",
       "      <th>commas</th>\n",
       "      <th>apostrophes</th>\n",
       "      <th>punctuations</th>\n",
       "      <th>avg_word_length</th>\n",
       "      <th>POS</th>\n",
       "      <th>POS/total_words</th>\n",
       "      <th>prompt_words</th>\n",
       "      <th>prompt_words/total_words</th>\n",
       "      <th>synonym_words</th>\n",
       "      <th>synonym_words/total_words</th>\n",
       "      <th>unstemmed</th>\n",
       "      <th>stemmed</th>\n",
       "      <th>domain1_score</th>\n",
       "    </tr>\n",
       "  </thead>\n",
       "  <tbody>\n",
       "    <tr>\n",
       "      <th>0</th>\n",
       "      <td>2639.0</td>\n",
       "      <td>527.0</td>\n",
       "      <td>15.0</td>\n",
       "      <td>13.0</td>\n",
       "      <td>21.0</td>\n",
       "      <td>5.007590</td>\n",
       "      <td>32.791587</td>\n",
       "      <td>0.062223</td>\n",
       "      <td>220.0</td>\n",
       "      <td>0.417457</td>\n",
       "      <td>112.0</td>\n",
       "      <td>0.212524</td>\n",
       "      <td>584</td>\n",
       "      <td>559</td>\n",
       "      <td>4</td>\n",
       "    </tr>\n",
       "    <tr>\n",
       "      <th>1</th>\n",
       "      <td>841.0</td>\n",
       "      <td>180.0</td>\n",
       "      <td>5.0</td>\n",
       "      <td>2.0</td>\n",
       "      <td>3.0</td>\n",
       "      <td>4.672222</td>\n",
       "      <td>17.866290</td>\n",
       "      <td>0.099257</td>\n",
       "      <td>82.0</td>\n",
       "      <td>0.455556</td>\n",
       "      <td>66.0</td>\n",
       "      <td>0.366667</td>\n",
       "      <td>210</td>\n",
       "      <td>210</td>\n",
       "      <td>1</td>\n",
       "    </tr>\n",
       "    <tr>\n",
       "      <th>2</th>\n",
       "      <td>1181.0</td>\n",
       "      <td>261.0</td>\n",
       "      <td>12.0</td>\n",
       "      <td>15.0</td>\n",
       "      <td>14.0</td>\n",
       "      <td>4.524904</td>\n",
       "      <td>22.171206</td>\n",
       "      <td>0.084947</td>\n",
       "      <td>144.0</td>\n",
       "      <td>0.551724</td>\n",
       "      <td>83.0</td>\n",
       "      <td>0.318008</td>\n",
       "      <td>291</td>\n",
       "      <td>285</td>\n",
       "      <td>2</td>\n",
       "    </tr>\n",
       "    <tr>\n",
       "      <th>3</th>\n",
       "      <td>2705.0</td>\n",
       "      <td>527.0</td>\n",
       "      <td>22.0</td>\n",
       "      <td>6.0</td>\n",
       "      <td>31.0</td>\n",
       "      <td>5.132827</td>\n",
       "      <td>7.026769</td>\n",
       "      <td>0.013334</td>\n",
       "      <td>245.0</td>\n",
       "      <td>0.464896</td>\n",
       "      <td>131.0</td>\n",
       "      <td>0.248577</td>\n",
       "      <td>547</td>\n",
       "      <td>528</td>\n",
       "      <td>4</td>\n",
       "    </tr>\n",
       "    <tr>\n",
       "      <th>4</th>\n",
       "      <td>2394.0</td>\n",
       "      <td>501.0</td>\n",
       "      <td>25.0</td>\n",
       "      <td>15.0</td>\n",
       "      <td>34.0</td>\n",
       "      <td>4.778443</td>\n",
       "      <td>31.795655</td>\n",
       "      <td>0.063464</td>\n",
       "      <td>216.0</td>\n",
       "      <td>0.431138</td>\n",
       "      <td>117.0</td>\n",
       "      <td>0.233533</td>\n",
       "      <td>591</td>\n",
       "      <td>562</td>\n",
       "      <td>4</td>\n",
       "    </tr>\n",
       "  </tbody>\n",
       "</table>\n",
       "</div>"
      ],
      "text/plain": [
       "    chars  words  commas  apostrophes  punctuations  avg_word_length  \\\n",
       "0  2639.0  527.0    15.0         13.0          21.0         5.007590   \n",
       "1   841.0  180.0     5.0          2.0           3.0         4.672222   \n",
       "2  1181.0  261.0    12.0         15.0          14.0         4.524904   \n",
       "3  2705.0  527.0    22.0          6.0          31.0         5.132827   \n",
       "4  2394.0  501.0    25.0         15.0          34.0         4.778443   \n",
       "\n",
       "         POS  POS/total_words  prompt_words  prompt_words/total_words  \\\n",
       "0  32.791587         0.062223         220.0                  0.417457   \n",
       "1  17.866290         0.099257          82.0                  0.455556   \n",
       "2  22.171206         0.084947         144.0                  0.551724   \n",
       "3   7.026769         0.013334         245.0                  0.464896   \n",
       "4  31.795655         0.063464         216.0                  0.431138   \n",
       "\n",
       "   synonym_words  synonym_words/total_words  unstemmed  stemmed  domain1_score  \n",
       "0          112.0                   0.212524        584      559              4  \n",
       "1           66.0                   0.366667        210      210              1  \n",
       "2           83.0                   0.318008        291      285              2  \n",
       "3          131.0                   0.248577        547      528              4  \n",
       "4          117.0                   0.233533        591      562              4  "
      ]
     },
     "execution_count": 25,
     "metadata": {},
     "output_type": "execute_result"
    }
   ],
   "source": [
    "# Export features to a file for next stage (optional)\n",
    "dataset = features.merge(score, left_index=True, right_index=True)\n",
    "dataset.head()"
   ]
  },
  {
   "cell_type": "code",
   "execution_count": 26,
   "metadata": {},
   "outputs": [],
   "source": [
    "\"\"\"\n",
    "dataset.columns = ['chars', 'words', 'commas', 'apostrophes', 'punctuations',\n",
    "                   'avg_word_length', 'sentences', 'questions', 'avg_word_sentence',\n",
    "                   'POS', 'POS/total_words',\n",
    "                   'score']\n",
    "\"\"\"\n",
    "\n",
    "dataset.columns = ['chars', 'words', 'commas', 'apostrophes', 'punctuations',\n",
    "                   'avg_word_length',\n",
    "                   'POS', 'POS/total_words',\n",
    "                   'prompt_words', 'prompt_words/total_words', 'synonym_words',\n",
    "                   'synonym_words/total_words', 'unstemmed', 'stemmed',\n",
    "                   'score']\n",
    "dataset.head()\n",
    "dataset.to_csv('maes_features.csv')"
   ]
  },
  {
   "cell_type": "markdown",
   "metadata": {},
   "source": [
    "Can just use the features and score for the X and y but just to keep to certain convention if reading back from the CSV file above.\n",
    "\n",
    "**YOU CAN RUN FROM HERE ON BY READING THE FEATURES FOR THE TRAINING**"
   ]
  },
  {
   "cell_type": "code",
   "execution_count": 4,
   "metadata": {},
   "outputs": [],
   "source": [
    "dataset = pd.read_csv('maes_features.csv')\n",
    "# LENGTH :chars, words, commas, apostrophes, punctuations, avg_word_length, sentences, questions, avg_word_sentence \n",
    "# PROMPT :prompt_words, prompt_words/total_words, synonym_words, synonym_words/total_words\n",
    "# BoW: unstemmed, stemmed\n",
    "# POS (GRAMMATICAL): POS, POS/total_words"
   ]
  },
  {
   "cell_type": "code",
   "execution_count": 5,
   "metadata": {},
   "outputs": [],
   "source": [
    "\n",
    "\n",
    "def inverse_scale(test):\n",
    "    return test * (6 - 1) + 1"
   ]
  },
  {
   "cell_type": "code",
   "execution_count": 6,
   "metadata": {},
   "outputs": [],
   "source": [
    "cols_to_norm = ['chars', 'words', 'commas', 'apostrophes', 'punctuations', 'avg_word_length','POS','POS/total_words','prompt_words','prompt_words/total_words','synonym_words','synonym_words/total_words','score']\n",
    "dataset[cols_to_norm] = dataset[cols_to_norm].apply(lambda x: (x - x.min()) / (x.max() - x.min()))"
   ]
  },
  {
   "cell_type": "code",
   "execution_count": 7,
   "metadata": {},
   "outputs": [],
   "source": [
    "dataset['stemmed'] = np.log(1 + dataset['stemmed'])\n",
    "dataset['unstemmed'] = np.log(1 + dataset['unstemmed'])\n"
   ]
  },
  {
   "cell_type": "code",
   "execution_count": 8,
   "metadata": {},
   "outputs": [
    {
     "data": {
      "text/html": [
       "<div>\n",
       "<style scoped>\n",
       "    .dataframe tbody tr th:only-of-type {\n",
       "        vertical-align: middle;\n",
       "    }\n",
       "\n",
       "    .dataframe tbody tr th {\n",
       "        vertical-align: top;\n",
       "    }\n",
       "\n",
       "    .dataframe thead th {\n",
       "        text-align: right;\n",
       "    }\n",
       "</style>\n",
       "<table border=\"1\" class=\"dataframe\">\n",
       "  <thead>\n",
       "    <tr style=\"text-align: right;\">\n",
       "      <th></th>\n",
       "      <th>Unnamed: 0</th>\n",
       "      <th>chars</th>\n",
       "      <th>words</th>\n",
       "      <th>commas</th>\n",
       "      <th>apostrophes</th>\n",
       "      <th>punctuations</th>\n",
       "      <th>avg_word_length</th>\n",
       "      <th>POS</th>\n",
       "      <th>POS/total_words</th>\n",
       "      <th>prompt_words</th>\n",
       "      <th>prompt_words/total_words</th>\n",
       "      <th>synonym_words</th>\n",
       "      <th>synonym_words/total_words</th>\n",
       "      <th>unstemmed</th>\n",
       "      <th>stemmed</th>\n",
       "      <th>score</th>\n",
       "    </tr>\n",
       "  </thead>\n",
       "  <tbody>\n",
       "    <tr>\n",
       "      <th>0</th>\n",
       "      <td>0</td>\n",
       "      <td>0.413528</td>\n",
       "      <td>0.431718</td>\n",
       "      <td>0.208333</td>\n",
       "      <td>0.224490</td>\n",
       "      <td>0.032659</td>\n",
       "      <td>0.805052</td>\n",
       "      <td>0.465216</td>\n",
       "      <td>0.482895</td>\n",
       "      <td>0.317073</td>\n",
       "      <td>0.290328</td>\n",
       "      <td>0.298851</td>\n",
       "      <td>0.454360</td>\n",
       "      <td>6.371612</td>\n",
       "      <td>6.327937</td>\n",
       "      <td>0.6</td>\n",
       "    </tr>\n",
       "    <tr>\n",
       "      <th>1</th>\n",
       "      <td>1</td>\n",
       "      <td>0.112506</td>\n",
       "      <td>0.125991</td>\n",
       "      <td>0.069444</td>\n",
       "      <td>0.000000</td>\n",
       "      <td>0.004666</td>\n",
       "      <td>0.708027</td>\n",
       "      <td>0.253470</td>\n",
       "      <td>0.770305</td>\n",
       "      <td>0.106707</td>\n",
       "      <td>0.340438</td>\n",
       "      <td>0.166667</td>\n",
       "      <td>0.835261</td>\n",
       "      <td>5.351858</td>\n",
       "      <td>5.351858</td>\n",
       "      <td>0.0</td>\n",
       "    </tr>\n",
       "    <tr>\n",
       "      <th>2</th>\n",
       "      <td>2</td>\n",
       "      <td>0.169429</td>\n",
       "      <td>0.197357</td>\n",
       "      <td>0.166667</td>\n",
       "      <td>0.265306</td>\n",
       "      <td>0.021773</td>\n",
       "      <td>0.665406</td>\n",
       "      <td>0.314544</td>\n",
       "      <td>0.659249</td>\n",
       "      <td>0.201220</td>\n",
       "      <td>0.466925</td>\n",
       "      <td>0.215517</td>\n",
       "      <td>0.715020</td>\n",
       "      <td>5.676754</td>\n",
       "      <td>5.655992</td>\n",
       "      <td>0.2</td>\n",
       "    </tr>\n",
       "    <tr>\n",
       "      <th>3</th>\n",
       "      <td>3</td>\n",
       "      <td>0.424577</td>\n",
       "      <td>0.431718</td>\n",
       "      <td>0.305556</td>\n",
       "      <td>0.081633</td>\n",
       "      <td>0.048212</td>\n",
       "      <td>0.841284</td>\n",
       "      <td>0.099689</td>\n",
       "      <td>0.103477</td>\n",
       "      <td>0.355183</td>\n",
       "      <td>0.352722</td>\n",
       "      <td>0.353448</td>\n",
       "      <td>0.543450</td>\n",
       "      <td>6.306275</td>\n",
       "      <td>6.270988</td>\n",
       "      <td>0.6</td>\n",
       "    </tr>\n",
       "    <tr>\n",
       "      <th>4</th>\n",
       "      <td>4</td>\n",
       "      <td>0.372510</td>\n",
       "      <td>0.408811</td>\n",
       "      <td>0.347222</td>\n",
       "      <td>0.265306</td>\n",
       "      <td>0.052877</td>\n",
       "      <td>0.738757</td>\n",
       "      <td>0.451087</td>\n",
       "      <td>0.492528</td>\n",
       "      <td>0.310976</td>\n",
       "      <td>0.308321</td>\n",
       "      <td>0.313218</td>\n",
       "      <td>0.506276</td>\n",
       "      <td>6.383507</td>\n",
       "      <td>6.333280</td>\n",
       "      <td>0.6</td>\n",
       "    </tr>\n",
       "    <tr>\n",
       "      <th>...</th>\n",
       "      <td>...</td>\n",
       "      <td>...</td>\n",
       "      <td>...</td>\n",
       "      <td>...</td>\n",
       "      <td>...</td>\n",
       "      <td>...</td>\n",
       "      <td>...</td>\n",
       "      <td>...</td>\n",
       "      <td>...</td>\n",
       "      <td>...</td>\n",
       "      <td>...</td>\n",
       "      <td>...</td>\n",
       "      <td>...</td>\n",
       "      <td>...</td>\n",
       "      <td>...</td>\n",
       "      <td>...</td>\n",
       "    </tr>\n",
       "    <tr>\n",
       "      <th>1795</th>\n",
       "      <td>1795</td>\n",
       "      <td>0.195881</td>\n",
       "      <td>0.219383</td>\n",
       "      <td>0.000000</td>\n",
       "      <td>0.653061</td>\n",
       "      <td>0.017107</td>\n",
       "      <td>0.710803</td>\n",
       "      <td>0.452443</td>\n",
       "      <td>0.865379</td>\n",
       "      <td>0.155488</td>\n",
       "      <td>0.265527</td>\n",
       "      <td>0.201149</td>\n",
       "      <td>0.603128</td>\n",
       "      <td>5.717028</td>\n",
       "      <td>5.683580</td>\n",
       "      <td>0.4</td>\n",
       "    </tr>\n",
       "    <tr>\n",
       "      <th>1796</th>\n",
       "      <td>1796</td>\n",
       "      <td>0.201574</td>\n",
       "      <td>0.215859</td>\n",
       "      <td>0.208333</td>\n",
       "      <td>0.122449</td>\n",
       "      <td>0.023328</td>\n",
       "      <td>0.764897</td>\n",
       "      <td>0.180996</td>\n",
       "      <td>0.351097</td>\n",
       "      <td>0.213415</td>\n",
       "      <td>0.450199</td>\n",
       "      <td>0.206897</td>\n",
       "      <td>0.630213</td>\n",
       "      <td>5.828946</td>\n",
       "      <td>5.811141</td>\n",
       "      <td>0.4</td>\n",
       "    </tr>\n",
       "    <tr>\n",
       "      <th>1797</th>\n",
       "      <td>1797</td>\n",
       "      <td>0.072995</td>\n",
       "      <td>0.083700</td>\n",
       "      <td>0.097222</td>\n",
       "      <td>0.000000</td>\n",
       "      <td>0.007776</td>\n",
       "      <td>0.682310</td>\n",
       "      <td>0.048053</td>\n",
       "      <td>0.199138</td>\n",
       "      <td>0.089939</td>\n",
       "      <td>0.448715</td>\n",
       "      <td>0.074713</td>\n",
       "      <td>0.565688</td>\n",
       "      <td>5.105945</td>\n",
       "      <td>5.081404</td>\n",
       "      <td>0.2</td>\n",
       "    </tr>\n",
       "    <tr>\n",
       "      <th>1798</th>\n",
       "      <td>1798</td>\n",
       "      <td>0.429935</td>\n",
       "      <td>0.461674</td>\n",
       "      <td>0.305556</td>\n",
       "      <td>0.061224</td>\n",
       "      <td>0.041991</td>\n",
       "      <td>0.767788</td>\n",
       "      <td>0.284762</td>\n",
       "      <td>0.277669</td>\n",
       "      <td>0.440549</td>\n",
       "      <td>0.446957</td>\n",
       "      <td>0.459770</td>\n",
       "      <td>0.669200</td>\n",
       "      <td>6.297109</td>\n",
       "      <td>6.240276</td>\n",
       "      <td>0.4</td>\n",
       "    </tr>\n",
       "    <tr>\n",
       "      <th>1799</th>\n",
       "      <td>1799</td>\n",
       "      <td>0.383894</td>\n",
       "      <td>0.425551</td>\n",
       "      <td>0.111111</td>\n",
       "      <td>0.244898</td>\n",
       "      <td>0.038880</td>\n",
       "      <td>0.726077</td>\n",
       "      <td>0.531719</td>\n",
       "      <td>0.559355</td>\n",
       "      <td>0.333841</td>\n",
       "      <td>0.325542</td>\n",
       "      <td>0.451149</td>\n",
       "      <td>0.713290</td>\n",
       "      <td>6.244167</td>\n",
       "      <td>6.208590</td>\n",
       "      <td>0.4</td>\n",
       "    </tr>\n",
       "  </tbody>\n",
       "</table>\n",
       "<p>1800 rows × 16 columns</p>\n",
       "</div>"
      ],
      "text/plain": [
       "      Unnamed: 0     chars     words    commas  apostrophes  punctuations  \\\n",
       "0              0  0.413528  0.431718  0.208333     0.224490      0.032659   \n",
       "1              1  0.112506  0.125991  0.069444     0.000000      0.004666   \n",
       "2              2  0.169429  0.197357  0.166667     0.265306      0.021773   \n",
       "3              3  0.424577  0.431718  0.305556     0.081633      0.048212   \n",
       "4              4  0.372510  0.408811  0.347222     0.265306      0.052877   \n",
       "...          ...       ...       ...       ...          ...           ...   \n",
       "1795        1795  0.195881  0.219383  0.000000     0.653061      0.017107   \n",
       "1796        1796  0.201574  0.215859  0.208333     0.122449      0.023328   \n",
       "1797        1797  0.072995  0.083700  0.097222     0.000000      0.007776   \n",
       "1798        1798  0.429935  0.461674  0.305556     0.061224      0.041991   \n",
       "1799        1799  0.383894  0.425551  0.111111     0.244898      0.038880   \n",
       "\n",
       "      avg_word_length       POS  POS/total_words  prompt_words  \\\n",
       "0            0.805052  0.465216         0.482895      0.317073   \n",
       "1            0.708027  0.253470         0.770305      0.106707   \n",
       "2            0.665406  0.314544         0.659249      0.201220   \n",
       "3            0.841284  0.099689         0.103477      0.355183   \n",
       "4            0.738757  0.451087         0.492528      0.310976   \n",
       "...               ...       ...              ...           ...   \n",
       "1795         0.710803  0.452443         0.865379      0.155488   \n",
       "1796         0.764897  0.180996         0.351097      0.213415   \n",
       "1797         0.682310  0.048053         0.199138      0.089939   \n",
       "1798         0.767788  0.284762         0.277669      0.440549   \n",
       "1799         0.726077  0.531719         0.559355      0.333841   \n",
       "\n",
       "      prompt_words/total_words  synonym_words  synonym_words/total_words  \\\n",
       "0                     0.290328       0.298851                   0.454360   \n",
       "1                     0.340438       0.166667                   0.835261   \n",
       "2                     0.466925       0.215517                   0.715020   \n",
       "3                     0.352722       0.353448                   0.543450   \n",
       "4                     0.308321       0.313218                   0.506276   \n",
       "...                        ...            ...                        ...   \n",
       "1795                  0.265527       0.201149                   0.603128   \n",
       "1796                  0.450199       0.206897                   0.630213   \n",
       "1797                  0.448715       0.074713                   0.565688   \n",
       "1798                  0.446957       0.459770                   0.669200   \n",
       "1799                  0.325542       0.451149                   0.713290   \n",
       "\n",
       "      unstemmed   stemmed  score  \n",
       "0      6.371612  6.327937    0.6  \n",
       "1      5.351858  5.351858    0.0  \n",
       "2      5.676754  5.655992    0.2  \n",
       "3      6.306275  6.270988    0.6  \n",
       "4      6.383507  6.333280    0.6  \n",
       "...         ...       ...    ...  \n",
       "1795   5.717028  5.683580    0.4  \n",
       "1796   5.828946  5.811141    0.4  \n",
       "1797   5.105945  5.081404    0.2  \n",
       "1798   6.297109  6.240276    0.4  \n",
       "1799   6.244167  6.208590    0.4  \n",
       "\n",
       "[1800 rows x 16 columns]"
      ]
     },
     "execution_count": 8,
     "metadata": {},
     "output_type": "execute_result"
    }
   ],
   "source": [
    "dataset"
   ]
  },
  {
   "cell_type": "markdown",
   "metadata": {},
   "source": [
    "Reshape the data and label"
   ]
  },
  {
   "cell_type": "code",
   "execution_count": 9,
   "metadata": {},
   "outputs": [
    {
     "data": {
      "text/plain": [
       "array([[0.41352754, 0.43171806, 0.20833333, ..., 0.45436   , 6.37161185,\n",
       "        6.32793678],\n",
       "       [0.11250628, 0.12599119, 0.06944444, ..., 0.8352608 , 5.35185813,\n",
       "        5.35185813],\n",
       "       [0.1694291 , 0.19735683, 0.16666667, ..., 0.71502012, 5.6767538 ,\n",
       "        5.65599181],\n",
       "       ...,\n",
       "       [0.07299514, 0.08370044, 0.09722222, ..., 0.56568756, 5.10594547,\n",
       "        5.08140436],\n",
       "       [0.42993471, 0.46167401, 0.30555556, ..., 0.66920016, 6.29710932,\n",
       "        6.24027585],\n",
       "       [0.38389419, 0.42555066, 0.11111111, ..., 0.71329043, 6.2441669 ,\n",
       "        6.20859003]])"
      ]
     },
     "execution_count": 9,
     "metadata": {},
     "output_type": "execute_result"
    }
   ],
   "source": [
    "X = dataset.iloc[:,1:15].values.astype(float)\n",
    "y = dataset.iloc[:,15].values.astype(float)\n",
    "X"
   ]
  },
  {
   "cell_type": "code",
   "execution_count": 10,
   "metadata": {},
   "outputs": [
    {
     "data": {
      "text/plain": [
       "(1800, 14)"
      ]
     },
     "execution_count": 10,
     "metadata": {},
     "output_type": "execute_result"
    }
   ],
   "source": [
    "X.shape"
   ]
  },
  {
   "cell_type": "code",
   "execution_count": 11,
   "metadata": {},
   "outputs": [
    {
     "data": {
      "text/plain": [
       "(1800, 1)"
      ]
     },
     "execution_count": 11,
     "metadata": {},
     "output_type": "execute_result"
    }
   ],
   "source": [
    "y = np.array(y).reshape(-1,1)\n",
    "y.shape"
   ]
  },
  {
   "cell_type": "markdown",
   "metadata": {},
   "source": [
    "#### K Fold CV"
   ]
  },
  {
   "cell_type": "code",
   "execution_count": 12,
   "metadata": {},
   "outputs": [],
   "source": [
    "from sklearn.model_selection import KFold"
   ]
  },
  {
   "cell_type": "code",
   "execution_count": 13,
   "metadata": {},
   "outputs": [],
   "source": [
    "kf = KFold(n_splits=5, random_state=13, shuffle=True)\n",
    "kf.get_n_splits(X)\n",
    "\n",
    "for train_index, test_index in kf.split(X):\n",
    "    ## print(\"TRAIN:\", train_index, \"TEST:\", test_index)\n",
    "     X_train, X_test = X[train_index], X[test_index]\n",
    "     y_train, y_test = y[train_index], y[test_index]\n"
   ]
  },
  {
   "cell_type": "code",
   "execution_count": 14,
   "metadata": {},
   "outputs": [
    {
     "name": "stdout",
     "output_type": "stream",
     "text": [
      "[[0. ]\n",
      " [0.6]\n",
      " [0.4]\n",
      " [0.4]\n",
      " [0.4]]\n"
     ]
    }
   ],
   "source": [
    "print(y_test[:5, :])"
   ]
  },
  {
   "cell_type": "markdown",
   "metadata": {},
   "source": [
    "## Model Training"
   ]
  },
  {
   "cell_type": "code",
   "execution_count": 15,
   "metadata": {},
   "outputs": [],
   "source": [
    "from sklearn.preprocessing import StandardScaler, MinMaxScaler"
   ]
  },
  {
   "cell_type": "markdown",
   "metadata": {},
   "source": [
    "### SVM Training"
   ]
  },
  {
   "cell_type": "markdown",
   "metadata": {},
   "source": [
    "Use standard scaler for the data"
   ]
  },
  {
   "cell_type": "code",
   "execution_count": 16,
   "metadata": {},
   "outputs": [
    {
     "name": "stdout",
     "output_type": "stream",
     "text": [
      "[LibSVM]"
     ]
    },
    {
     "data": {
      "text/plain": [
       "SVR(gamma='auto', verbose=True)"
      ]
     },
     "execution_count": 16,
     "metadata": {},
     "output_type": "execute_result"
    }
   ],
   "source": [
    "from sklearn.svm import SVR\n",
    "# most important SVR parameter is Kernel type. It can be #linear,polynomial or gaussian SVR. We have a non-linear condition #so we can select polynomial or gaussian but here we select RBF(a #gaussian type) kernel.\n",
    "# kernel{‘linear’, ‘poly’, ‘rbf’, ‘sigmoid’, ‘precomputed’}, default=’rbf’\n",
    "# maybe use poly and increase the degree\n",
    "model_svm = SVR(kernel='rbf', gamma='auto', verbose=True)\n",
    "#regressor = SVR(kernel='poly', degree=5, gamma='auto', verbose=True)\n",
    "model_svm.fit(X_train,y_train.ravel())"
   ]
  },
  {
   "cell_type": "markdown",
   "metadata": {},
   "source": [
    "At this stage, the Support Vector Machine (SVM) model is called `model_svm`"
   ]
  },
  {
   "cell_type": "markdown",
   "metadata": {},
   "source": [
    "### BLRR"
   ]
  },
  {
   "cell_type": "code",
   "execution_count": 17,
   "metadata": {},
   "outputs": [
    {
     "data": {
      "text/plain": [
       "BayesianRidge()"
      ]
     },
     "execution_count": 17,
     "metadata": {},
     "output_type": "execute_result"
    }
   ],
   "source": [
    "from sklearn import linear_model\n",
    "model_blrr = linear_model.BayesianRidge()\n",
    "model_blrr.fit(X_train, y_train.ravel())"
   ]
  },
  {
   "cell_type": "markdown",
   "metadata": {},
   "source": [
    "At this stage, the Bayesian Linear Ridge Regression (BLRR) model is called `model_blrr_1`"
   ]
  },
  {
   "cell_type": "markdown",
   "metadata": {},
   "source": [
    "## Prediction"
   ]
  },
  {
   "cell_type": "markdown",
   "metadata": {},
   "source": [
    "We will be using the respective validation set and will have to also pre-process the data."
   ]
  },
  {
   "cell_type": "markdown",
   "metadata": {},
   "source": [
    "### SVM"
   ]
  },
  {
   "cell_type": "code",
   "execution_count": 18,
   "metadata": {},
   "outputs": [
    {
     "name": "stdout",
     "output_type": "stream",
     "text": [
      "[[  0   2   0   1   0   0]\n",
      " [  3  10  16   0   0   0]\n",
      " [  0   0 116  37   0   0]\n",
      " [  0   0  37 121   1   0]\n",
      " [  0   0   1  12   2   0]\n",
      " [  0   0   0   1   0   0]]\n"
     ]
    }
   ],
   "source": [
    "y_predSVM = model_svm.predict(X_test)\n",
    "y_predSVM = inverse_scale(y_predSVM).round()\n",
    "\n",
    "cm = confusion_matrix(inverse_scale(y_test).round(), y_predSVM)\n",
    "#np.set_printoptions(threshold=np.inf)\n",
    "print(cm)"
   ]
  },
  {
   "cell_type": "markdown",
   "metadata": {},
   "source": [
    "### BLRR"
   ]
  },
  {
   "cell_type": "code",
   "execution_count": 21,
   "metadata": {},
   "outputs": [
    {
     "name": "stdout",
     "output_type": "stream",
     "text": [
      "[[  1   1   0   1   0   0]\n",
      " [  3  11  15   0   0   0]\n",
      " [  0   0 121  31   1   0]\n",
      " [  0   0  39 117   3   0]\n",
      " [  0   0   1  11   3   0]\n",
      " [  0   0   0   0   1   0]]\n"
     ]
    }
   ],
   "source": [
    "y_predBLRR = model_blrr.predict(X_test)\n",
    "y_predBLRR = inverse_scale(y_predBLRR).round()\n",
    "\n",
    "cm = confusion_matrix(inverse_scale(y_test).round(), y_predBLRR)\n",
    "print(cm)"
   ]
  },
  {
   "cell_type": "markdown",
   "metadata": {},
   "source": [
    "### Ensembling the 3 Algorithms"
   ]
  },
  {
   "cell_type": "code",
   "execution_count": 22,
   "metadata": {},
   "outputs": [
    {
     "ename": "NameError",
     "evalue": "name 'y_predNB' is not defined",
     "output_type": "error",
     "traceback": [
      "\u001b[1;31m---------------------------------------------------------------------------\u001b[0m",
      "\u001b[1;31mNameError\u001b[0m                                 Traceback (most recent call last)",
      "\u001b[1;32m<ipython-input-22-44f5a82374fd>\u001b[0m in \u001b[0;36m<module>\u001b[1;34m\u001b[0m\n\u001b[0;32m      1\u001b[0m \u001b[0mactual\u001b[0m \u001b[1;33m=\u001b[0m \u001b[0mpd\u001b[0m\u001b[1;33m.\u001b[0m\u001b[0mSeries\u001b[0m\u001b[1;33m(\u001b[0m\u001b[0my_test\u001b[0m\u001b[1;33m.\u001b[0m\u001b[0mravel\u001b[0m\u001b[1;33m(\u001b[0m\u001b[1;33m)\u001b[0m\u001b[1;33m)\u001b[0m\u001b[1;33m\u001b[0m\u001b[1;33m\u001b[0m\u001b[0m\n\u001b[1;32m----> 2\u001b[1;33m \u001b[0mpredNB\u001b[0m \u001b[1;33m=\u001b[0m \u001b[0mpd\u001b[0m\u001b[1;33m.\u001b[0m\u001b[0mSeries\u001b[0m\u001b[1;33m(\u001b[0m\u001b[0my_predNB\u001b[0m\u001b[1;33m)\u001b[0m\u001b[1;33m\u001b[0m\u001b[1;33m\u001b[0m\u001b[0m\n\u001b[0m\u001b[0;32m      3\u001b[0m \u001b[0mpredSVM\u001b[0m \u001b[1;33m=\u001b[0m \u001b[0mpd\u001b[0m\u001b[1;33m.\u001b[0m\u001b[0mSeries\u001b[0m\u001b[1;33m(\u001b[0m\u001b[0my_predSVM\u001b[0m\u001b[1;33m)\u001b[0m\u001b[1;33m\u001b[0m\u001b[1;33m\u001b[0m\u001b[0m\n\u001b[0;32m      4\u001b[0m \u001b[0mpredBLRR\u001b[0m \u001b[1;33m=\u001b[0m \u001b[0mpd\u001b[0m\u001b[1;33m.\u001b[0m\u001b[0mSeries\u001b[0m\u001b[1;33m(\u001b[0m\u001b[0my_predBLRR\u001b[0m\u001b[1;33m)\u001b[0m\u001b[1;33m\u001b[0m\u001b[1;33m\u001b[0m\u001b[0m\n\u001b[0;32m      5\u001b[0m \u001b[1;33m\u001b[0m\u001b[0m\n",
      "\u001b[1;31mNameError\u001b[0m: name 'y_predNB' is not defined"
     ]
    }
   ],
   "source": [
    "actual = pd.Series(y_test.ravel())\n",
    "predNB = pd.Series(y_predNB)\n",
    "predSVM = pd.Series(y_predSVM)\n",
    "predBLRR = pd.Series(y_predBLRR)\n",
    "\n",
    "data = {\"Actual\": actual,\n",
    "        \"NB\": predNB, \n",
    "        \"SVM\": predSVM, \n",
    "        \"BLRR\": predBLRR} \n",
    "results = pd.concat(data, axis=1)\n",
    "results"
   ]
  },
  {
   "cell_type": "code",
   "execution_count": 32,
   "metadata": {},
   "outputs": [
    {
     "data": {
      "text/html": [
       "<div>\n",
       "<style scoped>\n",
       "    .dataframe tbody tr th:only-of-type {\n",
       "        vertical-align: middle;\n",
       "    }\n",
       "\n",
       "    .dataframe tbody tr th {\n",
       "        vertical-align: top;\n",
       "    }\n",
       "\n",
       "    .dataframe thead th {\n",
       "        text-align: right;\n",
       "    }\n",
       "</style>\n",
       "<table border=\"1\" class=\"dataframe\">\n",
       "  <thead>\n",
       "    <tr style=\"text-align: right;\">\n",
       "      <th></th>\n",
       "      <th>Actual</th>\n",
       "      <th>NB</th>\n",
       "      <th>SVM</th>\n",
       "      <th>BLRR</th>\n",
       "      <th>Ensemble</th>\n",
       "    </tr>\n",
       "  </thead>\n",
       "  <tbody>\n",
       "    <tr>\n",
       "      <th>0</th>\n",
       "      <td>1.0</td>\n",
       "      <td>3.0</td>\n",
       "      <td>2.0</td>\n",
       "      <td>2.0</td>\n",
       "      <td>2.0</td>\n",
       "    </tr>\n",
       "    <tr>\n",
       "      <th>1</th>\n",
       "      <td>4.0</td>\n",
       "      <td>4.0</td>\n",
       "      <td>4.0</td>\n",
       "      <td>4.0</td>\n",
       "      <td>4.0</td>\n",
       "    </tr>\n",
       "    <tr>\n",
       "      <th>2</th>\n",
       "      <td>3.0</td>\n",
       "      <td>3.0</td>\n",
       "      <td>3.0</td>\n",
       "      <td>3.0</td>\n",
       "      <td>3.0</td>\n",
       "    </tr>\n",
       "    <tr>\n",
       "      <th>3</th>\n",
       "      <td>3.0</td>\n",
       "      <td>5.0</td>\n",
       "      <td>4.0</td>\n",
       "      <td>4.0</td>\n",
       "      <td>4.0</td>\n",
       "    </tr>\n",
       "    <tr>\n",
       "      <th>4</th>\n",
       "      <td>3.0</td>\n",
       "      <td>4.0</td>\n",
       "      <td>4.0</td>\n",
       "      <td>3.0</td>\n",
       "      <td>4.0</td>\n",
       "    </tr>\n",
       "    <tr>\n",
       "      <th>...</th>\n",
       "      <td>...</td>\n",
       "      <td>...</td>\n",
       "      <td>...</td>\n",
       "      <td>...</td>\n",
       "      <td>...</td>\n",
       "    </tr>\n",
       "    <tr>\n",
       "      <th>355</th>\n",
       "      <td>4.0</td>\n",
       "      <td>4.0</td>\n",
       "      <td>4.0</td>\n",
       "      <td>4.0</td>\n",
       "      <td>4.0</td>\n",
       "    </tr>\n",
       "    <tr>\n",
       "      <th>356</th>\n",
       "      <td>4.0</td>\n",
       "      <td>4.0</td>\n",
       "      <td>4.0</td>\n",
       "      <td>4.0</td>\n",
       "      <td>4.0</td>\n",
       "    </tr>\n",
       "    <tr>\n",
       "      <th>357</th>\n",
       "      <td>3.0</td>\n",
       "      <td>3.0</td>\n",
       "      <td>4.0</td>\n",
       "      <td>4.0</td>\n",
       "      <td>4.0</td>\n",
       "    </tr>\n",
       "    <tr>\n",
       "      <th>358</th>\n",
       "      <td>4.0</td>\n",
       "      <td>4.0</td>\n",
       "      <td>4.0</td>\n",
       "      <td>4.0</td>\n",
       "      <td>4.0</td>\n",
       "    </tr>\n",
       "    <tr>\n",
       "      <th>359</th>\n",
       "      <td>3.0</td>\n",
       "      <td>4.0</td>\n",
       "      <td>4.0</td>\n",
       "      <td>4.0</td>\n",
       "      <td>4.0</td>\n",
       "    </tr>\n",
       "  </tbody>\n",
       "</table>\n",
       "<p>360 rows × 5 columns</p>\n",
       "</div>"
      ],
      "text/plain": [
       "     Actual   NB  SVM  BLRR  Ensemble\n",
       "0       1.0  3.0  2.0   2.0       2.0\n",
       "1       4.0  4.0  4.0   4.0       4.0\n",
       "2       3.0  3.0  3.0   3.0       3.0\n",
       "3       3.0  5.0  4.0   4.0       4.0\n",
       "4       3.0  4.0  4.0   3.0       4.0\n",
       "..      ...  ...  ...   ...       ...\n",
       "355     4.0  4.0  4.0   4.0       4.0\n",
       "356     4.0  4.0  4.0   4.0       4.0\n",
       "357     3.0  3.0  4.0   4.0       4.0\n",
       "358     4.0  4.0  4.0   4.0       4.0\n",
       "359     3.0  4.0  4.0   4.0       4.0\n",
       "\n",
       "[360 rows x 5 columns]"
      ]
     },
     "execution_count": 32,
     "metadata": {},
     "output_type": "execute_result"
    }
   ],
   "source": [
    "results['Ensemble'] = np.where(\n",
    "                            (results['NB'] == results['BLRR']) |\n",
    "                            (results['NB'] == results['SVM']),\n",
    "                            results['NB'],\n",
    "                            results['BLRR']\n",
    "                        )\n",
    "results"
   ]
  },
  {
   "cell_type": "markdown",
   "metadata": {},
   "source": [
    "## Evaluation using QWK"
   ]
  },
  {
   "cell_type": "markdown",
   "metadata": {},
   "source": [
    "QWK scores for NB, SVR and BLRR"
   ]
  },
  {
   "cell_type": "code",
   "execution_count": 23,
   "metadata": {},
   "outputs": [],
   "source": [
    "from sklearn.metrics import classification_report\n",
    "from sklearn.metrics import cohen_kappa_score"
   ]
  },
  {
   "cell_type": "markdown",
   "metadata": {},
   "source": [
    "### Naive Bayes"
   ]
  },
  {
   "cell_type": "code",
   "execution_count": 34,
   "metadata": {},
   "outputs": [
    {
     "name": "stdout",
     "output_type": "stream",
     "text": [
      "              precision    recall  f1-score   support\n",
      "\n",
      "         1.0       0.09      0.33      0.14         3\n",
      "         2.0       0.29      0.21      0.24        29\n",
      "         3.0       0.60      0.63      0.61       153\n",
      "         4.0       0.64      0.51      0.57       159\n",
      "         5.0       0.16      0.27      0.20        15\n",
      "         6.0       0.06      1.00      0.12         1\n",
      "\n",
      "    accuracy                           0.53       360\n",
      "   macro avg       0.31      0.49      0.31       360\n",
      "weighted avg       0.57      0.53      0.54       360\n",
      "\n"
     ]
    }
   ],
   "source": [
    "rpt = classification_report(y_test, y_predNB)\n",
    "print(rpt)"
   ]
  },
  {
   "cell_type": "code",
   "execution_count": 35,
   "metadata": {},
   "outputs": [
    {
     "name": "stdout",
     "output_type": "stream",
     "text": [
      "0.538569524836475\n"
     ]
    }
   ],
   "source": [
    "print(cohen_kappa_score(y_test, y_predNB, weights=\"quadratic\"))"
   ]
  },
  {
   "cell_type": "markdown",
   "metadata": {},
   "source": [
    "### SVM"
   ]
  },
  {
   "cell_type": "code",
   "execution_count": 25,
   "metadata": {},
   "outputs": [
    {
     "name": "stdout",
     "output_type": "stream",
     "text": [
      "              precision    recall  f1-score   support\n",
      "\n",
      "         1.0       0.00      0.00      0.00         3\n",
      "         2.0       0.83      0.34      0.49        29\n",
      "         3.0       0.68      0.76      0.72       153\n",
      "         4.0       0.70      0.76      0.73       159\n",
      "         5.0       0.67      0.13      0.22        15\n",
      "         6.0       0.00      0.00      0.00         1\n",
      "\n",
      "    accuracy                           0.69       360\n",
      "   macro avg       0.48      0.33      0.36       360\n",
      "weighted avg       0.70      0.69      0.68       360\n",
      "\n"
     ]
    },
    {
     "name": "stderr",
     "output_type": "stream",
     "text": [
      "C:\\Users\\User\\AppData\\Local\\Programs\\Python\\Python38-32\\lib\\site-packages\\sklearn\\metrics\\_classification.py:1221: UndefinedMetricWarning: Precision and F-score are ill-defined and being set to 0.0 in labels with no predicted samples. Use `zero_division` parameter to control this behavior.\n",
      "  _warn_prf(average, modifier, msg_start, len(result))\n"
     ]
    }
   ],
   "source": [
    "rpt = classification_report(inverse_scale(y_test).round(), y_predSVM)\n",
    "print(rpt)"
   ]
  },
  {
   "cell_type": "code",
   "execution_count": 27,
   "metadata": {},
   "outputs": [
    {
     "name": "stdout",
     "output_type": "stream",
     "text": [
      "0.6295686532762594\n"
     ]
    }
   ],
   "source": [
    "print(cohen_kappa_score(inverse_scale(y_test).round(), y_predSVM, weights=\"quadratic\"))"
   ]
  },
  {
   "cell_type": "markdown",
   "metadata": {},
   "source": [
    "### BLRR"
   ]
  },
  {
   "cell_type": "code",
   "execution_count": 38,
   "metadata": {},
   "outputs": [
    {
     "name": "stdout",
     "output_type": "stream",
     "text": [
      "              precision    recall  f1-score   support\n",
      "\n",
      "         1.0       0.00      0.00      0.00         3\n",
      "         2.0       0.80      0.41      0.55        29\n",
      "         3.0       0.65      0.82      0.72       153\n",
      "         4.0       0.75      0.65      0.69       159\n",
      "         5.0       0.40      0.40      0.40        15\n",
      "         6.0       0.00      0.00      0.00         1\n",
      "\n",
      "    accuracy                           0.68       360\n",
      "   macro avg       0.43      0.38      0.39       360\n",
      "weighted avg       0.69      0.68      0.67       360\n",
      "\n"
     ]
    }
   ],
   "source": [
    "rpt = classification_report(y_test, y_predBLRR)\n",
    "print(rpt)"
   ]
  },
  {
   "cell_type": "code",
   "execution_count": 28,
   "metadata": {},
   "outputs": [
    {
     "name": "stdout",
     "output_type": "stream",
     "text": [
      "0.6571590479788441\n"
     ]
    }
   ],
   "source": [
    "print(cohen_kappa_score(inverse_scale(y_test).round(), y_predBLRR, weights=\"quadratic\"))"
   ]
  },
  {
   "cell_type": "markdown",
   "metadata": {},
   "source": [
    "### Ensemble"
   ]
  },
  {
   "cell_type": "code",
   "execution_count": 114,
   "metadata": {},
   "outputs": [
    {
     "name": "stdout",
     "output_type": "stream",
     "text": [
      "              precision    recall  f1-score   support\n",
      "\n",
      "         1.0       0.00      0.00      0.00         3\n",
      "         2.0       0.70      0.42      0.53        33\n",
      "         3.0       0.66      0.76      0.71       151\n",
      "         4.0       0.69      0.75      0.72       154\n",
      "         5.0       1.00      0.06      0.11        18\n",
      "         6.0       0.00      0.00      0.00         1\n",
      "\n",
      "    accuracy                           0.68       360\n",
      "   macro avg       0.51      0.33      0.34       360\n",
      "weighted avg       0.69      0.68      0.66       360\n",
      "\n"
     ]
    }
   ],
   "source": [
    "rpt = classification_report(y_test,results['Ensemble'])\n",
    "print(rpt)"
   ]
  },
  {
   "cell_type": "code",
   "execution_count": 35,
   "metadata": {},
   "outputs": [
    {
     "name": "stdout",
     "output_type": "stream",
     "text": [
      "0.6962879640044994\n"
     ]
    }
   ],
   "source": [
    "print(cohen_kappa_score(y_test, results['Ensemble'], weights=\"quadratic\"))"
   ]
  },
  {
   "cell_type": "code",
   "execution_count": 58,
   "metadata": {},
   "outputs": [
    {
     "name": "stdout",
     "output_type": "stream",
     "text": [
      "Total time to execute the notebook is 271.73689579963684\n"
     ]
    }
   ],
   "source": [
    "end = time.time()\n",
    "print(\"Total time to execute the notebook is \" + str(end - start))"
   ]
  },
  {
   "cell_type": "markdown",
   "metadata": {},
   "source": [
    "QWK scores output are from -1 to 1, where -1 means that it is totally wrong while 1 is a perfect match (classification).  The aim is to get as close as possible to 1, with a score of 0.6 being generally accepted as a good score."
   ]
  },
  {
   "cell_type": "markdown",
   "metadata": {},
   "source": [
    "On the output of the QWK agreements, the score is just \"moderate agreement\".  Work now is to achieve substantial agreement.\n",
    "\n",
    "https://www.statisticshowto.com/cohens-kappa-statistic/\n",
    "\n",
    "In short, BLRR works better than SVM but a small margin but better than NB."
   ]
  },
  {
   "cell_type": "markdown",
   "metadata": {},
   "source": [
    "## Appendix"
   ]
  },
  {
   "cell_type": "markdown",
   "metadata": {},
   "source": [
    "### QWK Scores (Manual Code)"
   ]
  },
  {
   "cell_type": "code",
   "execution_count": null,
   "metadata": {},
   "outputs": [],
   "source": [
    "N = len(cm) # Just to get the same size as the confusion matrix from above\n",
    "w = np.zeros((N,N)) # create a matrix of N by N\n",
    "d = (N-1)**2 # the weighted portion\n",
    "for i in range(len(w)):\n",
    "    for j in range(len(w)):\n",
    "        w[i][j] = float(((i-j)**2)/d) \n",
    "w # The weighted matrix"
   ]
  },
  {
   "cell_type": "code",
   "execution_count": null,
   "metadata": {},
   "outputs": [],
   "source": [
    "N"
   ]
  },
  {
   "cell_type": "code",
   "execution_count": null,
   "metadata": {},
   "outputs": [],
   "source": [
    "np.unique(y_test)"
   ]
  },
  {
   "cell_type": "code",
   "execution_count": null,
   "metadata": {},
   "outputs": [],
   "source": [
    "np.unique(y_predNB)"
   ]
  },
  {
   "cell_type": "code",
   "execution_count": null,
   "metadata": {},
   "outputs": [],
   "source": [
    "act_hist=np.zeros([N])\n",
    "for item in y_test: \n",
    "    act_hist[item-1] += 1"
   ]
  },
  {
   "cell_type": "code",
   "execution_count": null,
   "metadata": {},
   "outputs": [],
   "source": [
    "pred_hist=np.zeros([N])\n",
    "for item in y_predNB: \n",
    "    pred_hist[item-1]+=1"
   ]
  },
  {
   "cell_type": "code",
   "execution_count": null,
   "metadata": {},
   "outputs": [],
   "source": [
    "E = np.outer(act_hist, pred_hist)\n",
    "E"
   ]
  },
  {
   "cell_type": "code",
   "execution_count": null,
   "metadata": {},
   "outputs": [],
   "source": [
    "E = E/E.sum()\n",
    "E.sum()"
   ]
  },
  {
   "cell_type": "code",
   "execution_count": null,
   "metadata": {},
   "outputs": [],
   "source": [
    "cm = cm/cm.sum()\n",
    "cm.sum()"
   ]
  },
  {
   "cell_type": "code",
   "execution_count": null,
   "metadata": {},
   "outputs": [],
   "source": [
    "num=0\n",
    "den=0\n",
    "for i in range(len(w)):\n",
    "    for j in range(len(w)):\n",
    "        num+=w[i][j]*cm[i][j]\n",
    "        den+=w[i][j]*E[i][j]\n",
    "            \n",
    "weighted_kappa = (1 - (num/den))\n",
    "weighted_kappa"
   ]
  },
  {
   "cell_type": "markdown",
   "metadata": {},
   "source": [
    "# END"
   ]
  },
  {
   "cell_type": "code",
   "execution_count": null,
   "metadata": {},
   "outputs": [],
   "source": [
    "#length\n",
    "\n",
    "Naive Bayes: 0.44386909693454846\n",
    "\n",
    "SVM: 0.564516129032258\n",
    "\n",
    "BLRR: 0.6013422818791946\n",
    "\n",
    "Ensemble: 0.561464569121537\n",
    "    \n",
    "#pos\n",
    "Naive Bayes: 0.5109078114004222\n",
    "\n",
    "SVM: 0.582941571524513\n",
    "\n",
    "BLRR: 0.6172680412371134\n",
    "\n",
    "Ensemble: 0.6037698930341768\n",
    "    \n",
    "#bow\n",
    "Naive Bayes: 0.5349235893416928\n",
    "\n",
    "SVM: 0.5708529214237743\n",
    "\n",
    "BLRR: 0.5922570016474464\n",
    "\n",
    "Ensemble: 0.5923591965340684\n",
    "    \n",
    "    \n",
    "#prompt\n",
    "\n",
    "Naive Bayes: 0.2804039837284331\n",
    "\n",
    "SVM: 0.5770676691729324\n",
    "\n",
    "BLRR: 0.5710059171597632\n",
    "\n",
    "Ensemble: 0.5485678704856787\n",
    "    "
   ]
  },
  {
   "cell_type": "code",
   "execution_count": null,
   "metadata": {},
   "outputs": [],
   "source": [
    "#BOW\n",
    "Naive Bayes: 0.0\n",
    "\n",
    "SVM: 0.5903066006158789\n",
    "\n",
    "BLRR: 0.5738161559888579\n",
    "\n",
    "Ensemble: 0.5694520925110131\n",
    "    \n",
    "#POS \n",
    "Naive Bayes: 0.4830633284241532\n",
    "\n",
    "SVM: 0.5837900794738284\n",
    "\n",
    "BLRR: 0.5363636363636364\n",
    "\n",
    "Ensemble: 0.5571245186136072\n",
    "    \n",
    "#length\n",
    "Naive Bayes: 0.504200146092038\n",
    "\n",
    "SVM: 0.5801449859041481\n",
    "\n",
    "BLRR: 0.6036624002027626\n",
    "\n",
    "Ensemble: 0.598688524590164\n",
    "    \n",
    "    #prompt\n",
    "Naive Bayes: 0.24556868537666177\n",
    "\n",
    "SVM: 0.5690834473324213\n",
    "\n",
    "BLRR: 0.5431773236651285\n",
    "\n",
    "Ensemble: 0.5426452410383189"
   ]
  },
  {
   "cell_type": "code",
   "execution_count": 75,
   "metadata": {},
   "outputs": [
    {
     "data": {
      "text/plain": [
       "0.271"
      ]
     },
     "execution_count": 75,
     "metadata": {},
     "output_type": "execute_result"
    }
   ],
   "source": [
    "0.517 - 0.246 "
   ]
  },
  {
   "cell_type": "code",
   "execution_count": 76,
   "metadata": {},
   "outputs": [
    {
     "data": {
      "text/plain": [
       "0.015000000000000013"
      ]
     },
     "execution_count": 76,
     "metadata": {},
     "output_type": "execute_result"
    }
   ],
   "source": [
    "0.584 - 0.569 "
   ]
  },
  {
   "cell_type": "code",
   "execution_count": 77,
   "metadata": {},
   "outputs": [
    {
     "data": {
      "text/plain": [
       "0.07699999999999996"
      ]
     },
     "execution_count": 77,
     "metadata": {},
     "output_type": "execute_result"
    }
   ],
   "source": [
    "0.620 - 0.543"
   ]
  },
  {
   "cell_type": "code",
   "execution_count": 78,
   "metadata": {},
   "outputs": [
    {
     "data": {
      "text/plain": [
       "0.07099999999999995"
      ]
     },
     "execution_count": 78,
     "metadata": {},
     "output_type": "execute_result"
    }
   ],
   "source": [
    "0.613 - 0.542"
   ]
  },
  {
   "cell_type": "code",
   "execution_count": 79,
   "metadata": {},
   "outputs": [
    {
     "data": {
      "text/plain": [
       "0.43400000000000005"
      ]
     },
     "execution_count": 79,
     "metadata": {},
     "output_type": "execute_result"
    }
   ],
   "source": [
    "0.271+0.015+0.077+0.071"
   ]
  }
 ],
 "metadata": {
  "kernelspec": {
   "display_name": "Python 3",
   "language": "python",
   "name": "python3"
  },
  "language_info": {
   "codemirror_mode": {
    "name": "ipython",
    "version": 3
   },
   "file_extension": ".py",
   "mimetype": "text/x-python",
   "name": "python",
   "nbconvert_exporter": "python",
   "pygments_lexer": "ipython3",
   "version": "3.8.6"
  }
 },
 "nbformat": 4,
 "nbformat_minor": 4
}
