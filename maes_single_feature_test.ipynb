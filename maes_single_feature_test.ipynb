{
 "cells": [
  {
   "cell_type": "markdown",
   "metadata": {},
   "source": [
    "## IMPORT LIBRARIES"
   ]
  },
  {
   "cell_type": "code",
   "execution_count": 1,
   "metadata": {},
   "outputs": [],
   "source": [
    "import time\n",
    "start = time.time()"
   ]
  },
  {
   "cell_type": "code",
   "execution_count": 2,
   "metadata": {},
   "outputs": [],
   "source": [
    "import numpy as np\n",
    "import pandas as pd\n",
    "from collections import defaultdict\n",
    "\n",
    "from nltk import pos_tag\n",
    "from nltk.tokenize import word_tokenize\n",
    "from nltk.corpus import stopwords\n",
    "from nltk.corpus import wordnet as wn\n",
    "from nltk.stem import WordNetLemmatizer\n",
    "\n",
    "from sklearn.preprocessing import LabelEncoder\n",
    "from sklearn.feature_extraction.text import TfidfVectorizer\n",
    "from sklearn import model_selection, naive_bayes, svm #SVR is in SVM\n",
    "from sklearn.metrics import accuracy_score, confusion_matrix"
   ]
  },
  {
   "cell_type": "markdown",
   "metadata": {},
   "source": [
    "## MAES Feature Influence Test - LENGTH"
   ]
  },
  {
   "cell_type": "markdown",
   "metadata": {},
   "source": [
    "### Influence test on using Length feature only"
   ]
  },
  {
   "cell_type": "code",
   "execution_count": 224,
   "metadata": {},
   "outputs": [],
   "source": [
    "dataset = pd.read_csv('maes_features.csv')\n",
    "# LENGTH :chars, words, commas, apostrophes, punctuations, avg_word_length, sentences, questions, avg_word_sentence \n",
    "# PROMPT :prompt_words, prompt_words/total_words, synonym_words, synonym_words/total_words\n",
    "# BoW: unstemmed, stemmed\n",
    "# POS (GRAMMATICAL): POS, POS/total_words"
   ]
  },
  {
   "cell_type": "code",
   "execution_count": 225,
   "metadata": {},
   "outputs": [
    {
     "data": {
      "text/html": [
       "<div>\n",
       "<style scoped>\n",
       "    .dataframe tbody tr th:only-of-type {\n",
       "        vertical-align: middle;\n",
       "    }\n",
       "\n",
       "    .dataframe tbody tr th {\n",
       "        vertical-align: top;\n",
       "    }\n",
       "\n",
       "    .dataframe thead th {\n",
       "        text-align: right;\n",
       "    }\n",
       "</style>\n",
       "<table border=\"1\" class=\"dataframe\">\n",
       "  <thead>\n",
       "    <tr style=\"text-align: right;\">\n",
       "      <th></th>\n",
       "      <th>Unnamed: 0</th>\n",
       "      <th>chars</th>\n",
       "      <th>words</th>\n",
       "      <th>commas</th>\n",
       "      <th>apostrophes</th>\n",
       "      <th>punctuations</th>\n",
       "      <th>avg_word_length</th>\n",
       "      <th>POS</th>\n",
       "      <th>POS/total_words</th>\n",
       "      <th>prompt_words</th>\n",
       "      <th>prompt_words/total_words</th>\n",
       "      <th>synonym_words</th>\n",
       "      <th>synonym_words/total_words</th>\n",
       "      <th>unstemmed</th>\n",
       "      <th>stemmed</th>\n",
       "      <th>score</th>\n",
       "    </tr>\n",
       "  </thead>\n",
       "  <tbody>\n",
       "    <tr>\n",
       "      <th>0</th>\n",
       "      <td>0</td>\n",
       "      <td>2639.0</td>\n",
       "      <td>527.0</td>\n",
       "      <td>15.0</td>\n",
       "      <td>13.0</td>\n",
       "      <td>21.0</td>\n",
       "      <td>5.007590</td>\n",
       "      <td>32.791587</td>\n",
       "      <td>0.062223</td>\n",
       "      <td>220.0</td>\n",
       "      <td>0.417457</td>\n",
       "      <td>112.0</td>\n",
       "      <td>0.212524</td>\n",
       "      <td>584</td>\n",
       "      <td>559</td>\n",
       "      <td>4</td>\n",
       "    </tr>\n",
       "    <tr>\n",
       "      <th>1</th>\n",
       "      <td>1</td>\n",
       "      <td>841.0</td>\n",
       "      <td>180.0</td>\n",
       "      <td>5.0</td>\n",
       "      <td>2.0</td>\n",
       "      <td>3.0</td>\n",
       "      <td>4.672222</td>\n",
       "      <td>17.866290</td>\n",
       "      <td>0.099257</td>\n",
       "      <td>82.0</td>\n",
       "      <td>0.455556</td>\n",
       "      <td>66.0</td>\n",
       "      <td>0.366667</td>\n",
       "      <td>210</td>\n",
       "      <td>210</td>\n",
       "      <td>1</td>\n",
       "    </tr>\n",
       "    <tr>\n",
       "      <th>2</th>\n",
       "      <td>2</td>\n",
       "      <td>1181.0</td>\n",
       "      <td>261.0</td>\n",
       "      <td>12.0</td>\n",
       "      <td>15.0</td>\n",
       "      <td>14.0</td>\n",
       "      <td>4.524904</td>\n",
       "      <td>22.171206</td>\n",
       "      <td>0.084947</td>\n",
       "      <td>144.0</td>\n",
       "      <td>0.551724</td>\n",
       "      <td>83.0</td>\n",
       "      <td>0.318008</td>\n",
       "      <td>291</td>\n",
       "      <td>285</td>\n",
       "      <td>2</td>\n",
       "    </tr>\n",
       "    <tr>\n",
       "      <th>3</th>\n",
       "      <td>3</td>\n",
       "      <td>2705.0</td>\n",
       "      <td>527.0</td>\n",
       "      <td>22.0</td>\n",
       "      <td>6.0</td>\n",
       "      <td>31.0</td>\n",
       "      <td>5.132827</td>\n",
       "      <td>7.026769</td>\n",
       "      <td>0.013334</td>\n",
       "      <td>245.0</td>\n",
       "      <td>0.464896</td>\n",
       "      <td>131.0</td>\n",
       "      <td>0.248577</td>\n",
       "      <td>547</td>\n",
       "      <td>528</td>\n",
       "      <td>4</td>\n",
       "    </tr>\n",
       "    <tr>\n",
       "      <th>4</th>\n",
       "      <td>4</td>\n",
       "      <td>2394.0</td>\n",
       "      <td>501.0</td>\n",
       "      <td>25.0</td>\n",
       "      <td>15.0</td>\n",
       "      <td>34.0</td>\n",
       "      <td>4.778443</td>\n",
       "      <td>31.795655</td>\n",
       "      <td>0.063464</td>\n",
       "      <td>216.0</td>\n",
       "      <td>0.431138</td>\n",
       "      <td>117.0</td>\n",
       "      <td>0.233533</td>\n",
       "      <td>591</td>\n",
       "      <td>562</td>\n",
       "      <td>4</td>\n",
       "    </tr>\n",
       "    <tr>\n",
       "      <th>...</th>\n",
       "      <td>...</td>\n",
       "      <td>...</td>\n",
       "      <td>...</td>\n",
       "      <td>...</td>\n",
       "      <td>...</td>\n",
       "      <td>...</td>\n",
       "      <td>...</td>\n",
       "      <td>...</td>\n",
       "      <td>...</td>\n",
       "      <td>...</td>\n",
       "      <td>...</td>\n",
       "      <td>...</td>\n",
       "      <td>...</td>\n",
       "      <td>...</td>\n",
       "      <td>...</td>\n",
       "      <td>...</td>\n",
       "    </tr>\n",
       "    <tr>\n",
       "      <th>1795</th>\n",
       "      <td>1795</td>\n",
       "      <td>1339.0</td>\n",
       "      <td>286.0</td>\n",
       "      <td>0.0</td>\n",
       "      <td>34.0</td>\n",
       "      <td>11.0</td>\n",
       "      <td>4.681818</td>\n",
       "      <td>31.891253</td>\n",
       "      <td>0.111508</td>\n",
       "      <td>114.0</td>\n",
       "      <td>0.398601</td>\n",
       "      <td>78.0</td>\n",
       "      <td>0.272727</td>\n",
       "      <td>303</td>\n",
       "      <td>293</td>\n",
       "      <td>3</td>\n",
       "    </tr>\n",
       "    <tr>\n",
       "      <th>1796</th>\n",
       "      <td>1796</td>\n",
       "      <td>1373.0</td>\n",
       "      <td>282.0</td>\n",
       "      <td>15.0</td>\n",
       "      <td>8.0</td>\n",
       "      <td>15.0</td>\n",
       "      <td>4.868794</td>\n",
       "      <td>12.757794</td>\n",
       "      <td>0.045240</td>\n",
       "      <td>152.0</td>\n",
       "      <td>0.539007</td>\n",
       "      <td>80.0</td>\n",
       "      <td>0.283688</td>\n",
       "      <td>339</td>\n",
       "      <td>333</td>\n",
       "      <td>3</td>\n",
       "    </tr>\n",
       "    <tr>\n",
       "      <th>1797</th>\n",
       "      <td>1797</td>\n",
       "      <td>605.0</td>\n",
       "      <td>132.0</td>\n",
       "      <td>7.0</td>\n",
       "      <td>2.0</td>\n",
       "      <td>5.0</td>\n",
       "      <td>4.583333</td>\n",
       "      <td>3.387097</td>\n",
       "      <td>0.025660</td>\n",
       "      <td>71.0</td>\n",
       "      <td>0.537879</td>\n",
       "      <td>34.0</td>\n",
       "      <td>0.257576</td>\n",
       "      <td>164</td>\n",
       "      <td>160</td>\n",
       "      <td>2</td>\n",
       "    </tr>\n",
       "    <tr>\n",
       "      <th>1798</th>\n",
       "      <td>1798</td>\n",
       "      <td>2737.0</td>\n",
       "      <td>561.0</td>\n",
       "      <td>22.0</td>\n",
       "      <td>5.0</td>\n",
       "      <td>27.0</td>\n",
       "      <td>4.878788</td>\n",
       "      <td>20.071942</td>\n",
       "      <td>0.035779</td>\n",
       "      <td>301.0</td>\n",
       "      <td>0.536542</td>\n",
       "      <td>168.0</td>\n",
       "      <td>0.299465</td>\n",
       "      <td>542</td>\n",
       "      <td>512</td>\n",
       "      <td>3</td>\n",
       "    </tr>\n",
       "    <tr>\n",
       "      <th>1799</th>\n",
       "      <td>1799</td>\n",
       "      <td>2462.0</td>\n",
       "      <td>520.0</td>\n",
       "      <td>8.0</td>\n",
       "      <td>14.0</td>\n",
       "      <td>25.0</td>\n",
       "      <td>4.734615</td>\n",
       "      <td>37.479167</td>\n",
       "      <td>0.072075</td>\n",
       "      <td>231.0</td>\n",
       "      <td>0.444231</td>\n",
       "      <td>165.0</td>\n",
       "      <td>0.317308</td>\n",
       "      <td>514</td>\n",
       "      <td>496</td>\n",
       "      <td>3</td>\n",
       "    </tr>\n",
       "  </tbody>\n",
       "</table>\n",
       "<p>1800 rows × 16 columns</p>\n",
       "</div>"
      ],
      "text/plain": [
       "      Unnamed: 0   chars  words  commas  apostrophes  punctuations  \\\n",
       "0              0  2639.0  527.0    15.0         13.0          21.0   \n",
       "1              1   841.0  180.0     5.0          2.0           3.0   \n",
       "2              2  1181.0  261.0    12.0         15.0          14.0   \n",
       "3              3  2705.0  527.0    22.0          6.0          31.0   \n",
       "4              4  2394.0  501.0    25.0         15.0          34.0   \n",
       "...          ...     ...    ...     ...          ...           ...   \n",
       "1795        1795  1339.0  286.0     0.0         34.0          11.0   \n",
       "1796        1796  1373.0  282.0    15.0          8.0          15.0   \n",
       "1797        1797   605.0  132.0     7.0          2.0           5.0   \n",
       "1798        1798  2737.0  561.0    22.0          5.0          27.0   \n",
       "1799        1799  2462.0  520.0     8.0         14.0          25.0   \n",
       "\n",
       "      avg_word_length        POS  POS/total_words  prompt_words  \\\n",
       "0            5.007590  32.791587         0.062223         220.0   \n",
       "1            4.672222  17.866290         0.099257          82.0   \n",
       "2            4.524904  22.171206         0.084947         144.0   \n",
       "3            5.132827   7.026769         0.013334         245.0   \n",
       "4            4.778443  31.795655         0.063464         216.0   \n",
       "...               ...        ...              ...           ...   \n",
       "1795         4.681818  31.891253         0.111508         114.0   \n",
       "1796         4.868794  12.757794         0.045240         152.0   \n",
       "1797         4.583333   3.387097         0.025660          71.0   \n",
       "1798         4.878788  20.071942         0.035779         301.0   \n",
       "1799         4.734615  37.479167         0.072075         231.0   \n",
       "\n",
       "      prompt_words/total_words  synonym_words  synonym_words/total_words  \\\n",
       "0                     0.417457          112.0                   0.212524   \n",
       "1                     0.455556           66.0                   0.366667   \n",
       "2                     0.551724           83.0                   0.318008   \n",
       "3                     0.464896          131.0                   0.248577   \n",
       "4                     0.431138          117.0                   0.233533   \n",
       "...                        ...            ...                        ...   \n",
       "1795                  0.398601           78.0                   0.272727   \n",
       "1796                  0.539007           80.0                   0.283688   \n",
       "1797                  0.537879           34.0                   0.257576   \n",
       "1798                  0.536542          168.0                   0.299465   \n",
       "1799                  0.444231          165.0                   0.317308   \n",
       "\n",
       "      unstemmed  stemmed  score  \n",
       "0           584      559      4  \n",
       "1           210      210      1  \n",
       "2           291      285      2  \n",
       "3           547      528      4  \n",
       "4           591      562      4  \n",
       "...         ...      ...    ...  \n",
       "1795        303      293      3  \n",
       "1796        339      333      3  \n",
       "1797        164      160      2  \n",
       "1798        542      512      3  \n",
       "1799        514      496      3  \n",
       "\n",
       "[1800 rows x 16 columns]"
      ]
     },
     "execution_count": 225,
     "metadata": {},
     "output_type": "execute_result"
    }
   ],
   "source": [
    "dataset"
   ]
  },
  {
   "cell_type": "markdown",
   "metadata": {},
   "source": [
    "take only `length` features.\n",
    "\n",
    "Including chars, words, commas, apostrophes, punctuations, avg_word_length, sentences, questions, avg_word_sentence "
   ]
  },
  {
   "cell_type": "code",
   "execution_count": 226,
   "metadata": {},
   "outputs": [
    {
     "data": {
      "text/plain": [
       "array([4., 1., 2., ..., 2., 3., 3.])"
      ]
     },
     "execution_count": 226,
     "metadata": {},
     "output_type": "execute_result"
    }
   ],
   "source": [
    "X = dataset.iloc[:,1:7].values.astype(float)\n",
    "y = dataset.iloc[:,15].values.astype(float)\n",
    "y"
   ]
  },
  {
   "cell_type": "code",
   "execution_count": 228,
   "metadata": {},
   "outputs": [
    {
     "data": {
      "text/plain": [
       "(1800,)"
      ]
     },
     "execution_count": 228,
     "metadata": {},
     "output_type": "execute_result"
    }
   ],
   "source": [
    "y.shape"
   ]
  },
  {
   "cell_type": "code",
   "execution_count": 229,
   "metadata": {},
   "outputs": [
    {
     "data": {
      "text/plain": [
       "(1800, 1)"
      ]
     },
     "execution_count": 229,
     "metadata": {},
     "output_type": "execute_result"
    }
   ],
   "source": [
    "y = np.array(y).reshape(-1,1)\n",
    "y.shape"
   ]
  },
  {
   "cell_type": "code",
   "execution_count": 230,
   "metadata": {},
   "outputs": [
    {
     "name": "stdout",
     "output_type": "stream",
     "text": [
      "[[3.]\n",
      " [5.]\n",
      " [3.]\n",
      " [4.]\n",
      " [4.]]\n"
     ]
    }
   ],
   "source": [
    "### Split the train and test set\n",
    "from sklearn.model_selection import train_test_split\n",
    "X_train, X_test, y_train, y_test = train_test_split(X, y, test_size=0.2, random_state=0)\n",
    "# Have a look at the first few lines\n",
    "print(y_test[:5, :])"
   ]
  },
  {
   "cell_type": "markdown",
   "metadata": {},
   "source": [
    "## Model Training using `Length` features only"
   ]
  },
  {
   "cell_type": "markdown",
   "metadata": {},
   "source": [
    "### Naive Bayes Training "
   ]
  },
  {
   "cell_type": "code",
   "execution_count": 174,
   "metadata": {},
   "outputs": [],
   "source": [
    "from sklearn.preprocessing import StandardScaler, MinMaxScaler"
   ]
  },
  {
   "cell_type": "code",
   "execution_count": 175,
   "metadata": {},
   "outputs": [],
   "source": [
    "X_trainNB = X_train\n",
    "y_trainNB = y_train\n",
    "X_testNB = X_test\n",
    "y_testNB = y_test"
   ]
  },
  {
   "cell_type": "code",
   "execution_count": 176,
   "metadata": {},
   "outputs": [
    {
     "data": {
      "text/plain": [
       "MultinomialNB()"
      ]
     },
     "execution_count": 176,
     "metadata": {},
     "output_type": "execute_result"
    }
   ],
   "source": [
    "model_nbl = naive_bayes.MultinomialNB()\n",
    "model_nbl.fit(X_trainNB, y_trainNB.ravel())"
   ]
  },
  {
   "cell_type": "markdown",
   "metadata": {},
   "source": [
    "The Naive Bayes model using `length` features only is called `model_nbl`"
   ]
  },
  {
   "cell_type": "markdown",
   "metadata": {},
   "source": [
    "### SVM Training using `Length` features only"
   ]
  },
  {
   "cell_type": "code",
   "execution_count": 177,
   "metadata": {},
   "outputs": [],
   "source": [
    "from sklearn.preprocessing import StandardScaler\n",
    "sc_Xsvm = StandardScaler()\n",
    "sc_ysvm = StandardScaler()\n",
    "X_trainSVM = sc_Xsvm.fit_transform(X_train)\n",
    "y_trainSVM = sc_ysvm.fit_transform(y_train)\n",
    "X_testSVM = sc_Xsvm.transform(X_test)\n",
    "y_testSVM = sc_ysvm.transform(y_test)"
   ]
  },
  {
   "cell_type": "code",
   "execution_count": 178,
   "metadata": {},
   "outputs": [
    {
     "name": "stdout",
     "output_type": "stream",
     "text": [
      "[LibSVM]"
     ]
    },
    {
     "data": {
      "text/plain": [
       "SVR(gamma='auto', verbose=True)"
      ]
     },
     "execution_count": 178,
     "metadata": {},
     "output_type": "execute_result"
    }
   ],
   "source": [
    "from sklearn.svm import SVR\n",
    "# most important SVR parameter is Kernel type. It can be #linear,polynomial or gaussian SVR. We have a non-linear condition #so we can select polynomial or gaussian but here we select RBF(a #gaussian type) kernel.\n",
    "# kernel{‘linear’, ‘poly’, ‘rbf’, ‘sigmoid’, ‘precomputed’}, default=’rbf’\n",
    "# maybe use poly and increase the degree\n",
    "model_svml = SVR(kernel='rbf', gamma='auto', verbose=True)\n",
    "#regressor = SVR(kernel='poly', degree=5, gamma='auto', verbose=True)\n",
    "model_svml.fit(X_trainSVM,y_trainSVM.ravel())"
   ]
  },
  {
   "cell_type": "markdown",
   "metadata": {},
   "source": [
    "The Support Vector Machine (SVM) model using `length` features only is now called `model_svml`"
   ]
  },
  {
   "cell_type": "markdown",
   "metadata": {},
   "source": [
    "### BLRR\n"
   ]
  },
  {
   "cell_type": "code",
   "execution_count": 179,
   "metadata": {},
   "outputs": [],
   "source": [
    "from sklearn.preprocessing import StandardScaler\n",
    "sc_Xblrr = StandardScaler()\n",
    "sc_yblrr = StandardScaler()\n",
    "X_trainBLRR = sc_Xblrr.fit_transform(X_train)\n",
    "y_trainBLRR = sc_yblrr.fit_transform(y_train)\n",
    "X_testBLRR = sc_Xblrr.transform(X_test)\n",
    "y_testBLRR = sc_yblrr.transform(y_test)"
   ]
  },
  {
   "cell_type": "code",
   "execution_count": 180,
   "metadata": {},
   "outputs": [
    {
     "data": {
      "text/plain": [
       "BayesianRidge()"
      ]
     },
     "execution_count": 180,
     "metadata": {},
     "output_type": "execute_result"
    }
   ],
   "source": [
    "from sklearn import linear_model\n",
    "model_blrrl = linear_model.BayesianRidge()\n",
    "model_blrrl.fit(X_trainBLRR, y_trainBLRR.ravel())"
   ]
  },
  {
   "cell_type": "markdown",
   "metadata": {},
   "source": [
    "At this stage, the Bayesian Linear Ridge Regression (BLRR) model using `length` feature only is called `model_blrrl`\n"
   ]
  },
  {
   "cell_type": "markdown",
   "metadata": {},
   "source": [
    "## Prediction using `length` feature only"
   ]
  },
  {
   "cell_type": "markdown",
   "metadata": {},
   "source": [
    "### Naive Bayes `length` only"
   ]
  },
  {
   "cell_type": "code",
   "execution_count": 181,
   "metadata": {},
   "outputs": [],
   "source": [
    "y_predNBL = model_nbl.predict(X_testNB)\n",
    "#y_1_predNB = sc_ynb.inverse_transform(y_1_predNB).round()\n",
    "#cm = confusion_matrix(y_test, y_predNBL)\n",
    "#print(cm)"
   ]
  },
  {
   "cell_type": "markdown",
   "metadata": {},
   "source": [
    "### SVM `length` only"
   ]
  },
  {
   "cell_type": "code",
   "execution_count": 182,
   "metadata": {},
   "outputs": [],
   "source": [
    "y_predSVML = model_svml.predict(X_testSVM)\n",
    "y_predSVML = sc_ysvm.inverse_transform(y_predSVML).round()\n",
    "\n",
    "#cm = confusion_matrix(y_test, y_predSVML)\n",
    "#np.set_printoptions(threshold=np.inf)\n",
    "#print(cm)"
   ]
  },
  {
   "cell_type": "markdown",
   "metadata": {},
   "source": [
    "### BLRR `length` only"
   ]
  },
  {
   "cell_type": "code",
   "execution_count": 183,
   "metadata": {},
   "outputs": [],
   "source": [
    "y_predBLRRL = model_blrrl.predict(X_testBLRR)\n",
    "y_predBLRRL = sc_yblrr.inverse_transform(y_predBLRRL).round()\n",
    "\n",
    "#cm = confusion_matrix(y_test, y_predBLRRL)\n",
    "#print(cm)"
   ]
  },
  {
   "cell_type": "markdown",
   "metadata": {},
   "source": [
    "## Ensembling the 3 Algo using `length` features only"
   ]
  },
  {
   "cell_type": "code",
   "execution_count": 184,
   "metadata": {},
   "outputs": [
    {
     "data": {
      "text/html": [
       "<div>\n",
       "<style scoped>\n",
       "    .dataframe tbody tr th:only-of-type {\n",
       "        vertical-align: middle;\n",
       "    }\n",
       "\n",
       "    .dataframe tbody tr th {\n",
       "        vertical-align: top;\n",
       "    }\n",
       "\n",
       "    .dataframe thead th {\n",
       "        text-align: right;\n",
       "    }\n",
       "</style>\n",
       "<table border=\"1\" class=\"dataframe\">\n",
       "  <thead>\n",
       "    <tr style=\"text-align: right;\">\n",
       "      <th></th>\n",
       "      <th>Actual</th>\n",
       "      <th>NBL</th>\n",
       "      <th>SVML</th>\n",
       "      <th>BLRRL</th>\n",
       "    </tr>\n",
       "  </thead>\n",
       "  <tbody>\n",
       "    <tr>\n",
       "      <th>0</th>\n",
       "      <td>3.0</td>\n",
       "      <td>3.0</td>\n",
       "      <td>4.0</td>\n",
       "      <td>5.0</td>\n",
       "    </tr>\n",
       "    <tr>\n",
       "      <th>1</th>\n",
       "      <td>5.0</td>\n",
       "      <td>4.0</td>\n",
       "      <td>4.0</td>\n",
       "      <td>4.0</td>\n",
       "    </tr>\n",
       "    <tr>\n",
       "      <th>2</th>\n",
       "      <td>3.0</td>\n",
       "      <td>3.0</td>\n",
       "      <td>3.0</td>\n",
       "      <td>3.0</td>\n",
       "    </tr>\n",
       "    <tr>\n",
       "      <th>3</th>\n",
       "      <td>4.0</td>\n",
       "      <td>3.0</td>\n",
       "      <td>3.0</td>\n",
       "      <td>4.0</td>\n",
       "    </tr>\n",
       "    <tr>\n",
       "      <th>4</th>\n",
       "      <td>4.0</td>\n",
       "      <td>4.0</td>\n",
       "      <td>4.0</td>\n",
       "      <td>4.0</td>\n",
       "    </tr>\n",
       "  </tbody>\n",
       "</table>\n",
       "</div>"
      ],
      "text/plain": [
       "   Actual  NBL  SVML  BLRRL\n",
       "0     3.0  3.0   4.0    5.0\n",
       "1     5.0  4.0   4.0    4.0\n",
       "2     3.0  3.0   3.0    3.0\n",
       "3     4.0  3.0   3.0    4.0\n",
       "4     4.0  4.0   4.0    4.0"
      ]
     },
     "execution_count": 184,
     "metadata": {},
     "output_type": "execute_result"
    }
   ],
   "source": [
    "actual = pd.Series(y_test.ravel())\n",
    "predNBL = pd.Series(y_predNBL)\n",
    "predSVML = pd.Series(y_predSVML)\n",
    "predBLRRL = pd.Series(y_predBLRRL)\n",
    "\n",
    "data = {\"Actual\": actual,\n",
    "        \"NBL\": predNBL, \n",
    "        \"SVML\": predSVML, \n",
    "        \"BLRRL\": predBLRRL} \n",
    "results = pd.concat(data, axis=1)\n",
    "results.head(5)"
   ]
  },
  {
   "cell_type": "code",
   "execution_count": 185,
   "metadata": {},
   "outputs": [
    {
     "data": {
      "text/html": [
       "<div>\n",
       "<style scoped>\n",
       "    .dataframe tbody tr th:only-of-type {\n",
       "        vertical-align: middle;\n",
       "    }\n",
       "\n",
       "    .dataframe tbody tr th {\n",
       "        vertical-align: top;\n",
       "    }\n",
       "\n",
       "    .dataframe thead th {\n",
       "        text-align: right;\n",
       "    }\n",
       "</style>\n",
       "<table border=\"1\" class=\"dataframe\">\n",
       "  <thead>\n",
       "    <tr style=\"text-align: right;\">\n",
       "      <th></th>\n",
       "      <th>Actual</th>\n",
       "      <th>NBL</th>\n",
       "      <th>SVML</th>\n",
       "      <th>BLRRL</th>\n",
       "      <th>EnsembleL</th>\n",
       "    </tr>\n",
       "  </thead>\n",
       "  <tbody>\n",
       "    <tr>\n",
       "      <th>0</th>\n",
       "      <td>3.0</td>\n",
       "      <td>3.0</td>\n",
       "      <td>4.0</td>\n",
       "      <td>5.0</td>\n",
       "      <td>5.0</td>\n",
       "    </tr>\n",
       "    <tr>\n",
       "      <th>1</th>\n",
       "      <td>5.0</td>\n",
       "      <td>4.0</td>\n",
       "      <td>4.0</td>\n",
       "      <td>4.0</td>\n",
       "      <td>4.0</td>\n",
       "    </tr>\n",
       "    <tr>\n",
       "      <th>2</th>\n",
       "      <td>3.0</td>\n",
       "      <td>3.0</td>\n",
       "      <td>3.0</td>\n",
       "      <td>3.0</td>\n",
       "      <td>3.0</td>\n",
       "    </tr>\n",
       "    <tr>\n",
       "      <th>3</th>\n",
       "      <td>4.0</td>\n",
       "      <td>3.0</td>\n",
       "      <td>3.0</td>\n",
       "      <td>4.0</td>\n",
       "      <td>3.0</td>\n",
       "    </tr>\n",
       "    <tr>\n",
       "      <th>4</th>\n",
       "      <td>4.0</td>\n",
       "      <td>4.0</td>\n",
       "      <td>4.0</td>\n",
       "      <td>4.0</td>\n",
       "      <td>4.0</td>\n",
       "    </tr>\n",
       "  </tbody>\n",
       "</table>\n",
       "</div>"
      ],
      "text/plain": [
       "   Actual  NBL  SVML  BLRRL  EnsembleL\n",
       "0     3.0  3.0   4.0    5.0        5.0\n",
       "1     5.0  4.0   4.0    4.0        4.0\n",
       "2     3.0  3.0   3.0    3.0        3.0\n",
       "3     4.0  3.0   3.0    4.0        3.0\n",
       "4     4.0  4.0   4.0    4.0        4.0"
      ]
     },
     "execution_count": 185,
     "metadata": {},
     "output_type": "execute_result"
    }
   ],
   "source": [
    "results['EnsembleL'] = np.where(\n",
    "                            (results['NBL'] == results['BLRRL']) |\n",
    "                            (results['NBL'] == results['SVML']),\n",
    "                            results['NBL'],\n",
    "                            results['BLRRL']\n",
    "                        )\n",
    "results.head(5)"
   ]
  },
  {
   "cell_type": "markdown",
   "metadata": {},
   "source": [
    "## Evaluation using QWK"
   ]
  },
  {
   "cell_type": "code",
   "execution_count": 186,
   "metadata": {},
   "outputs": [],
   "source": [
    "from sklearn.metrics import classification_report\n",
    "from sklearn.metrics import cohen_kappa_score"
   ]
  },
  {
   "cell_type": "markdown",
   "metadata": {},
   "source": [
    "### Naive Bayes"
   ]
  },
  {
   "cell_type": "code",
   "execution_count": 187,
   "metadata": {},
   "outputs": [
    {
     "name": "stdout",
     "output_type": "stream",
     "text": [
      "              precision    recall  f1-score   support\n",
      "\n",
      "         1.0       0.50      0.14      0.22         7\n",
      "         2.0       0.23      0.22      0.22        23\n",
      "         3.0       0.59      0.65      0.62       160\n",
      "         4.0       0.62      0.60      0.61       156\n",
      "         5.0       0.50      0.31      0.38        13\n",
      "         6.0       0.00      0.00      0.00         1\n",
      "\n",
      "    accuracy                           0.58       360\n",
      "   macro avg       0.41      0.32      0.34       360\n",
      "weighted avg       0.57      0.58      0.57       360\n",
      "\n"
     ]
    },
    {
     "name": "stderr",
     "output_type": "stream",
     "text": [
      "C:\\Users\\User\\AppData\\Local\\Programs\\Python\\Python38-32\\lib\\site-packages\\sklearn\\metrics\\_classification.py:1221: UndefinedMetricWarning: Precision and F-score are ill-defined and being set to 0.0 in labels with no predicted samples. Use `zero_division` parameter to control this behavior.\n",
      "  _warn_prf(average, modifier, msg_start, len(result))\n"
     ]
    }
   ],
   "source": [
    "rpt = classification_report(y_test, y_predNBL)\n",
    "print(rpt)"
   ]
  },
  {
   "cell_type": "code",
   "execution_count": 188,
   "metadata": {},
   "outputs": [
    {
     "name": "stdout",
     "output_type": "stream",
     "text": [
      "0.504200146092038\n"
     ]
    }
   ],
   "source": [
    "print(cohen_kappa_score(y_test, y_predNBL, weights=\"quadratic\"))"
   ]
  },
  {
   "cell_type": "markdown",
   "metadata": {},
   "source": [
    "### SVM "
   ]
  },
  {
   "cell_type": "code",
   "execution_count": 189,
   "metadata": {},
   "outputs": [
    {
     "name": "stdout",
     "output_type": "stream",
     "text": [
      "              precision    recall  f1-score   support\n",
      "\n",
      "         1.0       0.00      0.00      0.00         7\n",
      "         2.0       0.50      0.35      0.41        23\n",
      "         3.0       0.63      0.74      0.68       160\n",
      "         4.0       0.67      0.65      0.66       156\n",
      "         5.0       0.67      0.15      0.25        13\n",
      "         6.0       0.00      0.00      0.00         1\n",
      "\n",
      "    accuracy                           0.64       360\n",
      "   macro avg       0.41      0.32      0.33       360\n",
      "weighted avg       0.62      0.64      0.62       360\n",
      "\n"
     ]
    }
   ],
   "source": [
    "rpt = classification_report(y_test, y_predSVML)\n",
    "print(rpt)"
   ]
  },
  {
   "cell_type": "code",
   "execution_count": 190,
   "metadata": {},
   "outputs": [
    {
     "name": "stdout",
     "output_type": "stream",
     "text": [
      "0.5801449859041481\n"
     ]
    }
   ],
   "source": [
    "print(cohen_kappa_score(y_test, y_predSVML, weights=\"quadratic\"))"
   ]
  },
  {
   "cell_type": "markdown",
   "metadata": {},
   "source": [
    "### BLRR"
   ]
  },
  {
   "cell_type": "code",
   "execution_count": 191,
   "metadata": {},
   "outputs": [
    {
     "name": "stdout",
     "output_type": "stream",
     "text": [
      "              precision    recall  f1-score   support\n",
      "\n",
      "         1.0       0.00      0.00      0.00         7\n",
      "         2.0       0.50      0.30      0.38        23\n",
      "         3.0       0.62      0.81      0.70       160\n",
      "         4.0       0.74      0.60      0.66       156\n",
      "         5.0       0.58      0.54      0.56        13\n",
      "         6.0       0.00      0.00      0.00         1\n",
      "\n",
      "    accuracy                           0.66       360\n",
      "   macro avg       0.41      0.37      0.38       360\n",
      "weighted avg       0.65      0.66      0.64       360\n",
      "\n"
     ]
    }
   ],
   "source": [
    "rpt = classification_report(y_test, y_predBLRRL)\n",
    "print(rpt)"
   ]
  },
  {
   "cell_type": "code",
   "execution_count": 192,
   "metadata": {},
   "outputs": [
    {
     "name": "stdout",
     "output_type": "stream",
     "text": [
      "0.6036624002027626\n"
     ]
    }
   ],
   "source": [
    "print(cohen_kappa_score(y_test, y_predBLRRL, weights=\"quadratic\"))"
   ]
  },
  {
   "cell_type": "markdown",
   "metadata": {},
   "source": [
    "### Ensemble"
   ]
  },
  {
   "cell_type": "code",
   "execution_count": 30,
   "metadata": {},
   "outputs": [
    {
     "name": "stdout",
     "output_type": "stream",
     "text": [
      "              precision    recall  f1-score   support\n",
      "\n",
      "         1.0       0.00      0.00      0.00         7\n",
      "         2.0       0.47      0.30      0.37        23\n",
      "         3.0       0.63      0.78      0.69       160\n",
      "         4.0       0.70      0.63      0.66       156\n",
      "         5.0       0.60      0.23      0.33        13\n",
      "         6.0       0.00      0.00      0.00         1\n",
      "\n",
      "    accuracy                           0.65       360\n",
      "   macro avg       0.40      0.32      0.34       360\n",
      "weighted avg       0.63      0.65      0.63       360\n",
      "\n"
     ]
    }
   ],
   "source": [
    "rpt = classification_report(y_test,results['EnsembleL'])\n",
    "print(rpt)"
   ]
  },
  {
   "cell_type": "code",
   "execution_count": 31,
   "metadata": {},
   "outputs": [
    {
     "name": "stdout",
     "output_type": "stream",
     "text": [
      "0.598688524590164\n"
     ]
    }
   ],
   "source": [
    "print(cohen_kappa_score(y_test, results['EnsembleL'], weights=\"quadratic\"))"
   ]
  },
  {
   "cell_type": "markdown",
   "metadata": {},
   "source": [
    "#### QWK Scores result with `length` features only:\n",
    "\n",
    "Naive Bayes: 0.504200146092038\n",
    "\n",
    "SVM: 0.5801449859041481\n",
    "\n",
    "BLRR: 0.6036624002027626\n",
    "\n",
    "Ensemble: 0.598688524590164\n"
   ]
  },
  {
   "cell_type": "markdown",
   "metadata": {},
   "source": [
    "## `POS` influence test "
   ]
  },
  {
   "cell_type": "code",
   "execution_count": 92,
   "metadata": {},
   "outputs": [],
   "source": [
    "dataset = pd.read_csv('maes_features.csv')\n",
    "# LENGTH :chars, words, commas, apostrophes, punctuations, avg_word_length, sentences, questions, avg_word_sentence \n",
    "# PROMPT :prompt_words, prompt_words/total_words, synonym_words, synonym_words/total_words\n",
    "# BoW: unstemmed, stemmed\n",
    "# POS (GRAMMATICAL): POS, POS/total_words"
   ]
  },
  {
   "cell_type": "code",
   "execution_count": 93,
   "metadata": {},
   "outputs": [
    {
     "data": {
      "text/html": [
       "<div>\n",
       "<style scoped>\n",
       "    .dataframe tbody tr th:only-of-type {\n",
       "        vertical-align: middle;\n",
       "    }\n",
       "\n",
       "    .dataframe tbody tr th {\n",
       "        vertical-align: top;\n",
       "    }\n",
       "\n",
       "    .dataframe thead th {\n",
       "        text-align: right;\n",
       "    }\n",
       "</style>\n",
       "<table border=\"1\" class=\"dataframe\">\n",
       "  <thead>\n",
       "    <tr style=\"text-align: right;\">\n",
       "      <th></th>\n",
       "      <th>Unnamed: 0</th>\n",
       "      <th>chars</th>\n",
       "      <th>words</th>\n",
       "      <th>commas</th>\n",
       "      <th>apostrophes</th>\n",
       "      <th>punctuations</th>\n",
       "      <th>avg_word_length</th>\n",
       "      <th>POS</th>\n",
       "      <th>POS/total_words</th>\n",
       "      <th>prompt_words</th>\n",
       "      <th>prompt_words/total_words</th>\n",
       "      <th>synonym_words</th>\n",
       "      <th>synonym_words/total_words</th>\n",
       "      <th>unstemmed</th>\n",
       "      <th>stemmed</th>\n",
       "      <th>score</th>\n",
       "    </tr>\n",
       "  </thead>\n",
       "  <tbody>\n",
       "    <tr>\n",
       "      <th>0</th>\n",
       "      <td>0</td>\n",
       "      <td>2639.0</td>\n",
       "      <td>527.0</td>\n",
       "      <td>15.0</td>\n",
       "      <td>13.0</td>\n",
       "      <td>21.0</td>\n",
       "      <td>5.007590</td>\n",
       "      <td>524.330784</td>\n",
       "      <td>0.994935</td>\n",
       "      <td>220.0</td>\n",
       "      <td>0.417457</td>\n",
       "      <td>112.0</td>\n",
       "      <td>0.212524</td>\n",
       "      <td>584</td>\n",
       "      <td>559</td>\n",
       "      <td>4</td>\n",
       "    </tr>\n",
       "    <tr>\n",
       "      <th>1</th>\n",
       "      <td>1</td>\n",
       "      <td>841.0</td>\n",
       "      <td>180.0</td>\n",
       "      <td>5.0</td>\n",
       "      <td>2.0</td>\n",
       "      <td>3.0</td>\n",
       "      <td>4.672222</td>\n",
       "      <td>178.662900</td>\n",
       "      <td>0.992572</td>\n",
       "      <td>82.0</td>\n",
       "      <td>0.455556</td>\n",
       "      <td>66.0</td>\n",
       "      <td>0.366667</td>\n",
       "      <td>210</td>\n",
       "      <td>210</td>\n",
       "      <td>1</td>\n",
       "    </tr>\n",
       "    <tr>\n",
       "      <th>2</th>\n",
       "      <td>2</td>\n",
       "      <td>1181.0</td>\n",
       "      <td>261.0</td>\n",
       "      <td>12.0</td>\n",
       "      <td>15.0</td>\n",
       "      <td>14.0</td>\n",
       "      <td>4.524904</td>\n",
       "      <td>257.992218</td>\n",
       "      <td>0.988476</td>\n",
       "      <td>144.0</td>\n",
       "      <td>0.551724</td>\n",
       "      <td>83.0</td>\n",
       "      <td>0.318008</td>\n",
       "      <td>291</td>\n",
       "      <td>285</td>\n",
       "      <td>2</td>\n",
       "    </tr>\n",
       "    <tr>\n",
       "      <th>3</th>\n",
       "      <td>3</td>\n",
       "      <td>2705.0</td>\n",
       "      <td>527.0</td>\n",
       "      <td>22.0</td>\n",
       "      <td>6.0</td>\n",
       "      <td>31.0</td>\n",
       "      <td>5.132827</td>\n",
       "      <td>521.653920</td>\n",
       "      <td>0.989856</td>\n",
       "      <td>245.0</td>\n",
       "      <td>0.464896</td>\n",
       "      <td>131.0</td>\n",
       "      <td>0.248577</td>\n",
       "      <td>547</td>\n",
       "      <td>528</td>\n",
       "      <td>4</td>\n",
       "    </tr>\n",
       "    <tr>\n",
       "      <th>4</th>\n",
       "      <td>4</td>\n",
       "      <td>2394.0</td>\n",
       "      <td>501.0</td>\n",
       "      <td>25.0</td>\n",
       "      <td>15.0</td>\n",
       "      <td>34.0</td>\n",
       "      <td>4.778443</td>\n",
       "      <td>484.298031</td>\n",
       "      <td>0.966663</td>\n",
       "      <td>216.0</td>\n",
       "      <td>0.431138</td>\n",
       "      <td>117.0</td>\n",
       "      <td>0.233533</td>\n",
       "      <td>591</td>\n",
       "      <td>562</td>\n",
       "      <td>4</td>\n",
       "    </tr>\n",
       "    <tr>\n",
       "      <th>...</th>\n",
       "      <td>...</td>\n",
       "      <td>...</td>\n",
       "      <td>...</td>\n",
       "      <td>...</td>\n",
       "      <td>...</td>\n",
       "      <td>...</td>\n",
       "      <td>...</td>\n",
       "      <td>...</td>\n",
       "      <td>...</td>\n",
       "      <td>...</td>\n",
       "      <td>...</td>\n",
       "      <td>...</td>\n",
       "      <td>...</td>\n",
       "      <td>...</td>\n",
       "      <td>...</td>\n",
       "      <td>...</td>\n",
       "    </tr>\n",
       "    <tr>\n",
       "      <th>1795</th>\n",
       "      <td>1795</td>\n",
       "      <td>1339.0</td>\n",
       "      <td>286.0</td>\n",
       "      <td>0.0</td>\n",
       "      <td>34.0</td>\n",
       "      <td>11.0</td>\n",
       "      <td>4.681818</td>\n",
       "      <td>280.643026</td>\n",
       "      <td>0.981269</td>\n",
       "      <td>114.0</td>\n",
       "      <td>0.398601</td>\n",
       "      <td>78.0</td>\n",
       "      <td>0.272727</td>\n",
       "      <td>303</td>\n",
       "      <td>293</td>\n",
       "      <td>3</td>\n",
       "    </tr>\n",
       "    <tr>\n",
       "      <th>1796</th>\n",
       "      <td>1796</td>\n",
       "      <td>1373.0</td>\n",
       "      <td>282.0</td>\n",
       "      <td>15.0</td>\n",
       "      <td>8.0</td>\n",
       "      <td>15.0</td>\n",
       "      <td>4.868794</td>\n",
       "      <td>277.649880</td>\n",
       "      <td>0.984574</td>\n",
       "      <td>152.0</td>\n",
       "      <td>0.539007</td>\n",
       "      <td>80.0</td>\n",
       "      <td>0.283688</td>\n",
       "      <td>339</td>\n",
       "      <td>333</td>\n",
       "      <td>3</td>\n",
       "    </tr>\n",
       "    <tr>\n",
       "      <th>1797</th>\n",
       "      <td>1797</td>\n",
       "      <td>605.0</td>\n",
       "      <td>132.0</td>\n",
       "      <td>7.0</td>\n",
       "      <td>2.0</td>\n",
       "      <td>5.0</td>\n",
       "      <td>4.583333</td>\n",
       "      <td>125.322581</td>\n",
       "      <td>0.949413</td>\n",
       "      <td>71.0</td>\n",
       "      <td>0.537879</td>\n",
       "      <td>34.0</td>\n",
       "      <td>0.257576</td>\n",
       "      <td>164</td>\n",
       "      <td>160</td>\n",
       "      <td>2</td>\n",
       "    </tr>\n",
       "    <tr>\n",
       "      <th>1798</th>\n",
       "      <td>1798</td>\n",
       "      <td>2737.0</td>\n",
       "      <td>561.0</td>\n",
       "      <td>22.0</td>\n",
       "      <td>5.0</td>\n",
       "      <td>27.0</td>\n",
       "      <td>4.878788</td>\n",
       "      <td>551.978417</td>\n",
       "      <td>0.983919</td>\n",
       "      <td>301.0</td>\n",
       "      <td>0.536542</td>\n",
       "      <td>168.0</td>\n",
       "      <td>0.299465</td>\n",
       "      <td>542</td>\n",
       "      <td>512</td>\n",
       "      <td>3</td>\n",
       "    </tr>\n",
       "    <tr>\n",
       "      <th>1799</th>\n",
       "      <td>1799</td>\n",
       "      <td>2462.0</td>\n",
       "      <td>520.0</td>\n",
       "      <td>8.0</td>\n",
       "      <td>14.0</td>\n",
       "      <td>25.0</td>\n",
       "      <td>4.734615</td>\n",
       "      <td>511.322917</td>\n",
       "      <td>0.983313</td>\n",
       "      <td>231.0</td>\n",
       "      <td>0.444231</td>\n",
       "      <td>165.0</td>\n",
       "      <td>0.317308</td>\n",
       "      <td>514</td>\n",
       "      <td>496</td>\n",
       "      <td>3</td>\n",
       "    </tr>\n",
       "  </tbody>\n",
       "</table>\n",
       "<p>1800 rows × 16 columns</p>\n",
       "</div>"
      ],
      "text/plain": [
       "      Unnamed: 0   chars  words  commas  apostrophes  punctuations  \\\n",
       "0              0  2639.0  527.0    15.0         13.0          21.0   \n",
       "1              1   841.0  180.0     5.0          2.0           3.0   \n",
       "2              2  1181.0  261.0    12.0         15.0          14.0   \n",
       "3              3  2705.0  527.0    22.0          6.0          31.0   \n",
       "4              4  2394.0  501.0    25.0         15.0          34.0   \n",
       "...          ...     ...    ...     ...          ...           ...   \n",
       "1795        1795  1339.0  286.0     0.0         34.0          11.0   \n",
       "1796        1796  1373.0  282.0    15.0          8.0          15.0   \n",
       "1797        1797   605.0  132.0     7.0          2.0           5.0   \n",
       "1798        1798  2737.0  561.0    22.0          5.0          27.0   \n",
       "1799        1799  2462.0  520.0     8.0         14.0          25.0   \n",
       "\n",
       "      avg_word_length         POS  POS/total_words  prompt_words  \\\n",
       "0            5.007590  524.330784         0.994935         220.0   \n",
       "1            4.672222  178.662900         0.992572          82.0   \n",
       "2            4.524904  257.992218         0.988476         144.0   \n",
       "3            5.132827  521.653920         0.989856         245.0   \n",
       "4            4.778443  484.298031         0.966663         216.0   \n",
       "...               ...         ...              ...           ...   \n",
       "1795         4.681818  280.643026         0.981269         114.0   \n",
       "1796         4.868794  277.649880         0.984574         152.0   \n",
       "1797         4.583333  125.322581         0.949413          71.0   \n",
       "1798         4.878788  551.978417         0.983919         301.0   \n",
       "1799         4.734615  511.322917         0.983313         231.0   \n",
       "\n",
       "      prompt_words/total_words  synonym_words  synonym_words/total_words  \\\n",
       "0                     0.417457          112.0                   0.212524   \n",
       "1                     0.455556           66.0                   0.366667   \n",
       "2                     0.551724           83.0                   0.318008   \n",
       "3                     0.464896          131.0                   0.248577   \n",
       "4                     0.431138          117.0                   0.233533   \n",
       "...                        ...            ...                        ...   \n",
       "1795                  0.398601           78.0                   0.272727   \n",
       "1796                  0.539007           80.0                   0.283688   \n",
       "1797                  0.537879           34.0                   0.257576   \n",
       "1798                  0.536542          168.0                   0.299465   \n",
       "1799                  0.444231          165.0                   0.317308   \n",
       "\n",
       "      unstemmed  stemmed  score  \n",
       "0           584      559      4  \n",
       "1           210      210      1  \n",
       "2           291      285      2  \n",
       "3           547      528      4  \n",
       "4           591      562      4  \n",
       "...         ...      ...    ...  \n",
       "1795        303      293      3  \n",
       "1796        339      333      3  \n",
       "1797        164      160      2  \n",
       "1798        542      512      3  \n",
       "1799        514      496      3  \n",
       "\n",
       "[1800 rows x 16 columns]"
      ]
     },
     "execution_count": 93,
     "metadata": {},
     "output_type": "execute_result"
    }
   ],
   "source": [
    "dataset"
   ]
  },
  {
   "cell_type": "markdown",
   "metadata": {},
   "source": [
    "take only `PoS` features.\n",
    "\n",
    "Including PoS, Pos/total_words"
   ]
  },
  {
   "cell_type": "code",
   "execution_count": 94,
   "metadata": {},
   "outputs": [
    {
     "data": {
      "text/plain": [
       "array([[524.33078394,   0.99493507],\n",
       "       [178.66290019,   0.99257167],\n",
       "       [257.9922179 ,   0.98847593],\n",
       "       ...,\n",
       "       [125.32258065,   0.94941349],\n",
       "       [551.97841727,   0.98391875],\n",
       "       [511.32291667,   0.9833133 ]])"
      ]
     },
     "execution_count": 94,
     "metadata": {},
     "output_type": "execute_result"
    }
   ],
   "source": [
    "X = dataset.iloc[:,7:9].values.astype(float)\n",
    "y = dataset.iloc[:,15].values.astype(float)\n",
    "X"
   ]
  },
  {
   "cell_type": "code",
   "execution_count": 95,
   "metadata": {},
   "outputs": [
    {
     "data": {
      "text/plain": [
       "(1800, 2)"
      ]
     },
     "execution_count": 95,
     "metadata": {},
     "output_type": "execute_result"
    }
   ],
   "source": [
    "X.shape"
   ]
  },
  {
   "cell_type": "code",
   "execution_count": 96,
   "metadata": {},
   "outputs": [
    {
     "data": {
      "text/plain": [
       "(1800, 1)"
      ]
     },
     "execution_count": 96,
     "metadata": {},
     "output_type": "execute_result"
    }
   ],
   "source": [
    "y = np.array(y).reshape(-1,1)\n",
    "y.shape"
   ]
  },
  {
   "cell_type": "code",
   "execution_count": 97,
   "metadata": {},
   "outputs": [
    {
     "name": "stdout",
     "output_type": "stream",
     "text": [
      "[[3.]\n",
      " [5.]\n",
      " [3.]\n",
      " [4.]\n",
      " [4.]]\n"
     ]
    }
   ],
   "source": [
    "### Split the train and test set\n",
    "from sklearn.model_selection import train_test_split\n",
    "X_train, X_test, y_train, y_test = train_test_split(X, y, test_size=0.2, random_state=0)\n",
    "# Have a look at the first few lines\n",
    "print(y_test[:5, :])"
   ]
  },
  {
   "cell_type": "markdown",
   "metadata": {},
   "source": [
    "### Model Training using `PoS` features only"
   ]
  },
  {
   "cell_type": "markdown",
   "metadata": {},
   "source": [
    "### Naive Bayes Training"
   ]
  },
  {
   "cell_type": "code",
   "execution_count": 98,
   "metadata": {},
   "outputs": [
    {
     "data": {
      "text/plain": [
       "MultinomialNB()"
      ]
     },
     "execution_count": 98,
     "metadata": {},
     "output_type": "execute_result"
    }
   ],
   "source": [
    "from sklearn.preprocessing import StandardScaler, MinMaxScaler\n",
    "\n",
    "X_trainNB = X_train\n",
    "y_trainNB = y_train\n",
    "X_testNB = X_test\n",
    "y_testNB = y_test\n",
    "\n",
    "model_nb = naive_bayes.MultinomialNB()\n",
    "model_nb.fit(X_trainNB, y_trainNB.ravel())"
   ]
  },
  {
   "cell_type": "markdown",
   "metadata": {},
   "source": [
    "### SVM Training"
   ]
  },
  {
   "cell_type": "code",
   "execution_count": 99,
   "metadata": {},
   "outputs": [
    {
     "name": "stdout",
     "output_type": "stream",
     "text": [
      "[LibSVM]"
     ]
    },
    {
     "data": {
      "text/plain": [
       "SVR(gamma='auto', verbose=True)"
      ]
     },
     "execution_count": 99,
     "metadata": {},
     "output_type": "execute_result"
    }
   ],
   "source": [
    "from sklearn.preprocessing import StandardScaler\n",
    "sc_Xsvm = StandardScaler()\n",
    "sc_ysvm = StandardScaler()\n",
    "X_trainSVM = sc_Xsvm.fit_transform(X_train)\n",
    "y_trainSVM = sc_ysvm.fit_transform(y_train)\n",
    "X_testSVM = sc_Xsvm.transform(X_test)\n",
    "y_testSVM = sc_ysvm.transform(y_test)\n",
    "\n",
    "\n",
    "from sklearn.svm import SVR\n",
    "# most important SVR parameter is Kernel type. It can be #linear,polynomial or gaussian SVR. We have a non-linear condition #so we can select polynomial or gaussian but here we select RBF(a #gaussian type) kernel.\n",
    "# kernel{‘linear’, ‘poly’, ‘rbf’, ‘sigmoid’, ‘precomputed’}, default=’rbf’\n",
    "# maybe use poly and increase the degree\n",
    "model_svm = SVR(kernel='rbf', gamma='auto', verbose=True)\n",
    "#regressor = SVR(kernel='poly', degree=5, gamma='auto', verbose=True)\n",
    "model_svm.fit(X_trainSVM,y_trainSVM.ravel())"
   ]
  },
  {
   "cell_type": "markdown",
   "metadata": {},
   "source": [
    "### BLRR Training"
   ]
  },
  {
   "cell_type": "code",
   "execution_count": 100,
   "metadata": {},
   "outputs": [
    {
     "data": {
      "text/plain": [
       "BayesianRidge()"
      ]
     },
     "execution_count": 100,
     "metadata": {},
     "output_type": "execute_result"
    }
   ],
   "source": [
    "from sklearn.preprocessing import StandardScaler\n",
    "sc_Xblrr = StandardScaler()\n",
    "sc_yblrr = StandardScaler()\n",
    "X_trainBLRR = sc_Xblrr.fit_transform(X_train)\n",
    "y_trainBLRR = sc_yblrr.fit_transform(y_train)\n",
    "X_testBLRR = sc_Xblrr.transform(X_test)\n",
    "y_testBLRR = sc_yblrr.transform(y_test)\n",
    "\n",
    "from sklearn import linear_model\n",
    "model_blrr = linear_model.BayesianRidge()\n",
    "model_blrr.fit(X_trainBLRR, y_trainBLRR.ravel())"
   ]
  },
  {
   "cell_type": "markdown",
   "metadata": {},
   "source": [
    "## Prediction using `pos` only"
   ]
  },
  {
   "cell_type": "code",
   "execution_count": 101,
   "metadata": {},
   "outputs": [
    {
     "name": "stdout",
     "output_type": "stream",
     "text": [
      "[[  0   0   7   0   0   0]\n",
      " [  0   0  22   1   0   0]\n",
      " [  0   0 108  52   0   0]\n",
      " [  0   0  33 123   0   0]\n",
      " [  0   0   0  13   0   0]\n",
      " [  0   0   0   1   0   0]]\n"
     ]
    }
   ],
   "source": [
    "#NB\n",
    "y_predNB = model_nb.predict(X_testNB)\n",
    "#y_1_predNB = sc_ynb.inverse_transform(y_1_predNB).round()\n",
    "\n",
    "cm = confusion_matrix(y_test, y_predNB)\n",
    "\n",
    "print(cm)"
   ]
  },
  {
   "cell_type": "code",
   "execution_count": 102,
   "metadata": {},
   "outputs": [],
   "source": [
    "#SVM\n",
    "y_predSVM = model_svm.predict(X_testSVM)\n",
    "y_predSVM = sc_ysvm.inverse_transform(y_predSVM).round()\n",
    "\n",
    "#cm = confusion_matrix(y_test, y_predSVML)\n",
    "#np.set_printoptions(threshold=np.inf)\n",
    "#print(cm)"
   ]
  },
  {
   "cell_type": "code",
   "execution_count": 103,
   "metadata": {},
   "outputs": [],
   "source": [
    "#BLRR\n",
    "y_predBLRR = model_blrr.predict(X_testBLRR)\n",
    "y_predBLRR = sc_yblrr.inverse_transform(y_predBLRR).round()\n",
    "\n",
    "#cm = confusion_matrix(y_test, y_predBLRRL)\n",
    "#print(cm)"
   ]
  },
  {
   "cell_type": "code",
   "execution_count": 104,
   "metadata": {},
   "outputs": [],
   "source": [
    "actual = pd.Series(y_test.ravel())\n",
    "predNB = pd.Series(y_predNB)\n",
    "predSVM = pd.Series(y_predSVM)\n",
    "predBLRR = pd.Series(y_predBLRR)\n",
    "\n",
    "data = {\"Actual\": actual,\n",
    "        \"NB\": predNB, \n",
    "        \"SVM\": predSVM, \n",
    "        \"BLRR\": predBLRR} \n",
    "results = pd.concat(data, axis=1)\n",
    "#results.head(5)"
   ]
  },
  {
   "cell_type": "code",
   "execution_count": 105,
   "metadata": {},
   "outputs": [
    {
     "data": {
      "text/html": [
       "<div>\n",
       "<style scoped>\n",
       "    .dataframe tbody tr th:only-of-type {\n",
       "        vertical-align: middle;\n",
       "    }\n",
       "\n",
       "    .dataframe tbody tr th {\n",
       "        vertical-align: top;\n",
       "    }\n",
       "\n",
       "    .dataframe thead th {\n",
       "        text-align: right;\n",
       "    }\n",
       "</style>\n",
       "<table border=\"1\" class=\"dataframe\">\n",
       "  <thead>\n",
       "    <tr style=\"text-align: right;\">\n",
       "      <th></th>\n",
       "      <th>Actual</th>\n",
       "      <th>NB</th>\n",
       "      <th>SVM</th>\n",
       "      <th>BLRR</th>\n",
       "      <th>Ensemble</th>\n",
       "    </tr>\n",
       "  </thead>\n",
       "  <tbody>\n",
       "    <tr>\n",
       "      <th>0</th>\n",
       "      <td>3.0</td>\n",
       "      <td>4.0</td>\n",
       "      <td>4.0</td>\n",
       "      <td>5.0</td>\n",
       "      <td>4.0</td>\n",
       "    </tr>\n",
       "    <tr>\n",
       "      <th>1</th>\n",
       "      <td>5.0</td>\n",
       "      <td>4.0</td>\n",
       "      <td>4.0</td>\n",
       "      <td>4.0</td>\n",
       "      <td>4.0</td>\n",
       "    </tr>\n",
       "    <tr>\n",
       "      <th>2</th>\n",
       "      <td>3.0</td>\n",
       "      <td>3.0</td>\n",
       "      <td>3.0</td>\n",
       "      <td>3.0</td>\n",
       "      <td>3.0</td>\n",
       "    </tr>\n",
       "    <tr>\n",
       "      <th>3</th>\n",
       "      <td>4.0</td>\n",
       "      <td>4.0</td>\n",
       "      <td>3.0</td>\n",
       "      <td>3.0</td>\n",
       "      <td>3.0</td>\n",
       "    </tr>\n",
       "    <tr>\n",
       "      <th>4</th>\n",
       "      <td>4.0</td>\n",
       "      <td>4.0</td>\n",
       "      <td>4.0</td>\n",
       "      <td>4.0</td>\n",
       "      <td>4.0</td>\n",
       "    </tr>\n",
       "  </tbody>\n",
       "</table>\n",
       "</div>"
      ],
      "text/plain": [
       "   Actual   NB  SVM  BLRR  Ensemble\n",
       "0     3.0  4.0  4.0   5.0       4.0\n",
       "1     5.0  4.0  4.0   4.0       4.0\n",
       "2     3.0  3.0  3.0   3.0       3.0\n",
       "3     4.0  4.0  3.0   3.0       3.0\n",
       "4     4.0  4.0  4.0   4.0       4.0"
      ]
     },
     "execution_count": 105,
     "metadata": {},
     "output_type": "execute_result"
    }
   ],
   "source": [
    "results['Ensemble'] = np.where(\n",
    "                            (results['NB'] == results['BLRR']) |\n",
    "                            (results['NB'] == results['SVM']),\n",
    "                            results['NB'],\n",
    "                            results['BLRR']\n",
    "                        )\n",
    "results.head(5)"
   ]
  },
  {
   "cell_type": "markdown",
   "metadata": {},
   "source": [
    "## Evaluation `pos` only"
   ]
  },
  {
   "cell_type": "code",
   "execution_count": 106,
   "metadata": {},
   "outputs": [],
   "source": [
    "from sklearn.metrics import classification_report\n",
    "from sklearn.metrics import cohen_kappa_score\n"
   ]
  },
  {
   "cell_type": "markdown",
   "metadata": {},
   "source": [
    "### NB"
   ]
  },
  {
   "cell_type": "code",
   "execution_count": 107,
   "metadata": {},
   "outputs": [
    {
     "name": "stdout",
     "output_type": "stream",
     "text": [
      "              precision    recall  f1-score   support\n",
      "\n",
      "         1.0       0.00      0.00      0.00         7\n",
      "         2.0       0.00      0.00      0.00        23\n",
      "         3.0       0.64      0.68      0.65       160\n",
      "         4.0       0.65      0.79      0.71       156\n",
      "         5.0       0.00      0.00      0.00        13\n",
      "         6.0       0.00      0.00      0.00         1\n",
      "\n",
      "    accuracy                           0.64       360\n",
      "   macro avg       0.21      0.24      0.23       360\n",
      "weighted avg       0.56      0.64      0.60       360\n",
      "\n",
      "0.4830633284241532\n"
     ]
    },
    {
     "name": "stderr",
     "output_type": "stream",
     "text": [
      "C:\\Users\\User\\AppData\\Local\\Programs\\Python\\Python38-32\\lib\\site-packages\\sklearn\\metrics\\_classification.py:1221: UndefinedMetricWarning: Precision and F-score are ill-defined and being set to 0.0 in labels with no predicted samples. Use `zero_division` parameter to control this behavior.\n",
      "  _warn_prf(average, modifier, msg_start, len(result))\n"
     ]
    }
   ],
   "source": [
    "rpt = classification_report(y_test, y_predNB)\n",
    "print(rpt)\n",
    "\n",
    "print(cohen_kappa_score(y_test, y_predNB, weights=\"quadratic\"))"
   ]
  },
  {
   "cell_type": "markdown",
   "metadata": {},
   "source": [
    "### SVM"
   ]
  },
  {
   "cell_type": "code",
   "execution_count": 108,
   "metadata": {},
   "outputs": [
    {
     "name": "stdout",
     "output_type": "stream",
     "text": [
      "              precision    recall  f1-score   support\n",
      "\n",
      "         1.0       1.00      0.14      0.25         7\n",
      "         2.0       0.54      0.30      0.39        23\n",
      "         3.0       0.64      0.78      0.71       160\n",
      "         4.0       0.68      0.67      0.68       156\n",
      "         5.0       0.00      0.00      0.00        13\n",
      "         6.0       0.00      0.00      0.00         1\n",
      "\n",
      "    accuracy                           0.66       360\n",
      "   macro avg       0.48      0.32      0.34       360\n",
      "weighted avg       0.64      0.66      0.64       360\n",
      "\n",
      "0.5837900794738284\n"
     ]
    }
   ],
   "source": [
    "rpt = classification_report(y_test, y_predSVM)\n",
    "print(rpt)\n",
    "\n",
    "print(cohen_kappa_score(y_test, y_predSVM, weights=\"quadratic\"))"
   ]
  },
  {
   "cell_type": "markdown",
   "metadata": {},
   "source": [
    "### BLRR"
   ]
  },
  {
   "cell_type": "code",
   "execution_count": 109,
   "metadata": {},
   "outputs": [
    {
     "name": "stdout",
     "output_type": "stream",
     "text": [
      "              precision    recall  f1-score   support\n",
      "\n",
      "         1.0       0.00      0.00      0.00         7\n",
      "         2.0       0.33      0.13      0.19        23\n",
      "         3.0       0.60      0.81      0.69       160\n",
      "         4.0       0.70      0.56      0.62       156\n",
      "         5.0       0.50      0.38      0.43        13\n",
      "         6.0       0.00      0.00      0.00         1\n",
      "\n",
      "    accuracy                           0.62       360\n",
      "   macro avg       0.36      0.31      0.32       360\n",
      "weighted avg       0.61      0.62      0.60       360\n",
      "\n",
      "0.5363636363636364\n"
     ]
    }
   ],
   "source": [
    "rpt = classification_report(y_test, y_predBLRR)\n",
    "print(rpt)\n",
    "\n",
    "print(cohen_kappa_score(y_test, y_predBLRR, weights=\"quadratic\"))"
   ]
  },
  {
   "cell_type": "markdown",
   "metadata": {},
   "source": [
    "### Ensemble"
   ]
  },
  {
   "cell_type": "code",
   "execution_count": 110,
   "metadata": {},
   "outputs": [
    {
     "name": "stdout",
     "output_type": "stream",
     "text": [
      "              precision    recall  f1-score   support\n",
      "\n",
      "         1.0       0.00      0.00      0.00         7\n",
      "         2.0       0.33      0.13      0.19        23\n",
      "         3.0       0.64      0.79      0.70       160\n",
      "         4.0       0.69      0.67      0.68       156\n",
      "         5.0       0.00      0.00      0.00        13\n",
      "         6.0       0.00      0.00      0.00         1\n",
      "\n",
      "    accuracy                           0.65       360\n",
      "   macro avg       0.28      0.27      0.26       360\n",
      "weighted avg       0.60      0.65      0.62       360\n",
      "\n",
      "0.5571245186136072\n"
     ]
    }
   ],
   "source": [
    "rpt = classification_report(y_test,results['Ensemble'])\n",
    "print(rpt)\n",
    "\n",
    "print(cohen_kappa_score(y_test, results['Ensemble'], weights=\"quadratic\"))"
   ]
  },
  {
   "cell_type": "markdown",
   "metadata": {},
   "source": [
    "#### QWK Scores result with `PoS` features only:\n",
    "\n",
    "Naive Bayes: 0.4830633284241532\n",
    "\n",
    "SVM: 0.5837900794738284\n",
    "\n",
    "BLRR: 0.5363636363636364\n",
    "\n",
    "Ensemble: 0.5571245186136072\n"
   ]
  },
  {
   "cell_type": "markdown",
   "metadata": {},
   "source": [
    "## `BoW` influence test "
   ]
  },
  {
   "cell_type": "code",
   "execution_count": 207,
   "metadata": {},
   "outputs": [],
   "source": [
    "dataset = pd.read_csv('maes_features.csv')\n",
    "# LENGTH :chars, words, commas, apostrophes, punctuations, avg_word_length, sentences, questions, avg_word_sentence \n",
    "# PROMPT :prompt_words, prompt_words/total_words, synonym_words, synonym_words/total_words\n",
    "# BoW: unstemmed, stemmed\n",
    "# POS (GRAMMATICAL): POS, POS/total_words"
   ]
  },
  {
   "cell_type": "code",
   "execution_count": 208,
   "metadata": {},
   "outputs": [
    {
     "data": {
      "text/html": [
       "<div>\n",
       "<style scoped>\n",
       "    .dataframe tbody tr th:only-of-type {\n",
       "        vertical-align: middle;\n",
       "    }\n",
       "\n",
       "    .dataframe tbody tr th {\n",
       "        vertical-align: top;\n",
       "    }\n",
       "\n",
       "    .dataframe thead th {\n",
       "        text-align: right;\n",
       "    }\n",
       "</style>\n",
       "<table border=\"1\" class=\"dataframe\">\n",
       "  <thead>\n",
       "    <tr style=\"text-align: right;\">\n",
       "      <th></th>\n",
       "      <th>Unnamed: 0</th>\n",
       "      <th>chars</th>\n",
       "      <th>words</th>\n",
       "      <th>commas</th>\n",
       "      <th>apostrophes</th>\n",
       "      <th>punctuations</th>\n",
       "      <th>avg_word_length</th>\n",
       "      <th>POS</th>\n",
       "      <th>POS/total_words</th>\n",
       "      <th>prompt_words</th>\n",
       "      <th>prompt_words/total_words</th>\n",
       "      <th>synonym_words</th>\n",
       "      <th>synonym_words/total_words</th>\n",
       "      <th>unstemmed</th>\n",
       "      <th>stemmed</th>\n",
       "      <th>score</th>\n",
       "    </tr>\n",
       "  </thead>\n",
       "  <tbody>\n",
       "    <tr>\n",
       "      <th>0</th>\n",
       "      <td>0</td>\n",
       "      <td>2639.0</td>\n",
       "      <td>527.0</td>\n",
       "      <td>15.0</td>\n",
       "      <td>13.0</td>\n",
       "      <td>21.0</td>\n",
       "      <td>5.007590</td>\n",
       "      <td>32.791587</td>\n",
       "      <td>0.062223</td>\n",
       "      <td>220.0</td>\n",
       "      <td>0.417457</td>\n",
       "      <td>112.0</td>\n",
       "      <td>0.212524</td>\n",
       "      <td>584</td>\n",
       "      <td>559</td>\n",
       "      <td>4</td>\n",
       "    </tr>\n",
       "    <tr>\n",
       "      <th>1</th>\n",
       "      <td>1</td>\n",
       "      <td>841.0</td>\n",
       "      <td>180.0</td>\n",
       "      <td>5.0</td>\n",
       "      <td>2.0</td>\n",
       "      <td>3.0</td>\n",
       "      <td>4.672222</td>\n",
       "      <td>17.866290</td>\n",
       "      <td>0.099257</td>\n",
       "      <td>82.0</td>\n",
       "      <td>0.455556</td>\n",
       "      <td>66.0</td>\n",
       "      <td>0.366667</td>\n",
       "      <td>210</td>\n",
       "      <td>210</td>\n",
       "      <td>1</td>\n",
       "    </tr>\n",
       "    <tr>\n",
       "      <th>2</th>\n",
       "      <td>2</td>\n",
       "      <td>1181.0</td>\n",
       "      <td>261.0</td>\n",
       "      <td>12.0</td>\n",
       "      <td>15.0</td>\n",
       "      <td>14.0</td>\n",
       "      <td>4.524904</td>\n",
       "      <td>22.171206</td>\n",
       "      <td>0.084947</td>\n",
       "      <td>144.0</td>\n",
       "      <td>0.551724</td>\n",
       "      <td>83.0</td>\n",
       "      <td>0.318008</td>\n",
       "      <td>291</td>\n",
       "      <td>285</td>\n",
       "      <td>2</td>\n",
       "    </tr>\n",
       "    <tr>\n",
       "      <th>3</th>\n",
       "      <td>3</td>\n",
       "      <td>2705.0</td>\n",
       "      <td>527.0</td>\n",
       "      <td>22.0</td>\n",
       "      <td>6.0</td>\n",
       "      <td>31.0</td>\n",
       "      <td>5.132827</td>\n",
       "      <td>7.026769</td>\n",
       "      <td>0.013334</td>\n",
       "      <td>245.0</td>\n",
       "      <td>0.464896</td>\n",
       "      <td>131.0</td>\n",
       "      <td>0.248577</td>\n",
       "      <td>547</td>\n",
       "      <td>528</td>\n",
       "      <td>4</td>\n",
       "    </tr>\n",
       "    <tr>\n",
       "      <th>4</th>\n",
       "      <td>4</td>\n",
       "      <td>2394.0</td>\n",
       "      <td>501.0</td>\n",
       "      <td>25.0</td>\n",
       "      <td>15.0</td>\n",
       "      <td>34.0</td>\n",
       "      <td>4.778443</td>\n",
       "      <td>31.795655</td>\n",
       "      <td>0.063464</td>\n",
       "      <td>216.0</td>\n",
       "      <td>0.431138</td>\n",
       "      <td>117.0</td>\n",
       "      <td>0.233533</td>\n",
       "      <td>591</td>\n",
       "      <td>562</td>\n",
       "      <td>4</td>\n",
       "    </tr>\n",
       "    <tr>\n",
       "      <th>...</th>\n",
       "      <td>...</td>\n",
       "      <td>...</td>\n",
       "      <td>...</td>\n",
       "      <td>...</td>\n",
       "      <td>...</td>\n",
       "      <td>...</td>\n",
       "      <td>...</td>\n",
       "      <td>...</td>\n",
       "      <td>...</td>\n",
       "      <td>...</td>\n",
       "      <td>...</td>\n",
       "      <td>...</td>\n",
       "      <td>...</td>\n",
       "      <td>...</td>\n",
       "      <td>...</td>\n",
       "      <td>...</td>\n",
       "    </tr>\n",
       "    <tr>\n",
       "      <th>1795</th>\n",
       "      <td>1795</td>\n",
       "      <td>1339.0</td>\n",
       "      <td>286.0</td>\n",
       "      <td>0.0</td>\n",
       "      <td>34.0</td>\n",
       "      <td>11.0</td>\n",
       "      <td>4.681818</td>\n",
       "      <td>31.891253</td>\n",
       "      <td>0.111508</td>\n",
       "      <td>114.0</td>\n",
       "      <td>0.398601</td>\n",
       "      <td>78.0</td>\n",
       "      <td>0.272727</td>\n",
       "      <td>303</td>\n",
       "      <td>293</td>\n",
       "      <td>3</td>\n",
       "    </tr>\n",
       "    <tr>\n",
       "      <th>1796</th>\n",
       "      <td>1796</td>\n",
       "      <td>1373.0</td>\n",
       "      <td>282.0</td>\n",
       "      <td>15.0</td>\n",
       "      <td>8.0</td>\n",
       "      <td>15.0</td>\n",
       "      <td>4.868794</td>\n",
       "      <td>12.757794</td>\n",
       "      <td>0.045240</td>\n",
       "      <td>152.0</td>\n",
       "      <td>0.539007</td>\n",
       "      <td>80.0</td>\n",
       "      <td>0.283688</td>\n",
       "      <td>339</td>\n",
       "      <td>333</td>\n",
       "      <td>3</td>\n",
       "    </tr>\n",
       "    <tr>\n",
       "      <th>1797</th>\n",
       "      <td>1797</td>\n",
       "      <td>605.0</td>\n",
       "      <td>132.0</td>\n",
       "      <td>7.0</td>\n",
       "      <td>2.0</td>\n",
       "      <td>5.0</td>\n",
       "      <td>4.583333</td>\n",
       "      <td>3.387097</td>\n",
       "      <td>0.025660</td>\n",
       "      <td>71.0</td>\n",
       "      <td>0.537879</td>\n",
       "      <td>34.0</td>\n",
       "      <td>0.257576</td>\n",
       "      <td>164</td>\n",
       "      <td>160</td>\n",
       "      <td>2</td>\n",
       "    </tr>\n",
       "    <tr>\n",
       "      <th>1798</th>\n",
       "      <td>1798</td>\n",
       "      <td>2737.0</td>\n",
       "      <td>561.0</td>\n",
       "      <td>22.0</td>\n",
       "      <td>5.0</td>\n",
       "      <td>27.0</td>\n",
       "      <td>4.878788</td>\n",
       "      <td>20.071942</td>\n",
       "      <td>0.035779</td>\n",
       "      <td>301.0</td>\n",
       "      <td>0.536542</td>\n",
       "      <td>168.0</td>\n",
       "      <td>0.299465</td>\n",
       "      <td>542</td>\n",
       "      <td>512</td>\n",
       "      <td>3</td>\n",
       "    </tr>\n",
       "    <tr>\n",
       "      <th>1799</th>\n",
       "      <td>1799</td>\n",
       "      <td>2462.0</td>\n",
       "      <td>520.0</td>\n",
       "      <td>8.0</td>\n",
       "      <td>14.0</td>\n",
       "      <td>25.0</td>\n",
       "      <td>4.734615</td>\n",
       "      <td>37.479167</td>\n",
       "      <td>0.072075</td>\n",
       "      <td>231.0</td>\n",
       "      <td>0.444231</td>\n",
       "      <td>165.0</td>\n",
       "      <td>0.317308</td>\n",
       "      <td>514</td>\n",
       "      <td>496</td>\n",
       "      <td>3</td>\n",
       "    </tr>\n",
       "  </tbody>\n",
       "</table>\n",
       "<p>1800 rows × 16 columns</p>\n",
       "</div>"
      ],
      "text/plain": [
       "      Unnamed: 0   chars  words  commas  apostrophes  punctuations  \\\n",
       "0              0  2639.0  527.0    15.0         13.0          21.0   \n",
       "1              1   841.0  180.0     5.0          2.0           3.0   \n",
       "2              2  1181.0  261.0    12.0         15.0          14.0   \n",
       "3              3  2705.0  527.0    22.0          6.0          31.0   \n",
       "4              4  2394.0  501.0    25.0         15.0          34.0   \n",
       "...          ...     ...    ...     ...          ...           ...   \n",
       "1795        1795  1339.0  286.0     0.0         34.0          11.0   \n",
       "1796        1796  1373.0  282.0    15.0          8.0          15.0   \n",
       "1797        1797   605.0  132.0     7.0          2.0           5.0   \n",
       "1798        1798  2737.0  561.0    22.0          5.0          27.0   \n",
       "1799        1799  2462.0  520.0     8.0         14.0          25.0   \n",
       "\n",
       "      avg_word_length        POS  POS/total_words  prompt_words  \\\n",
       "0            5.007590  32.791587         0.062223         220.0   \n",
       "1            4.672222  17.866290         0.099257          82.0   \n",
       "2            4.524904  22.171206         0.084947         144.0   \n",
       "3            5.132827   7.026769         0.013334         245.0   \n",
       "4            4.778443  31.795655         0.063464         216.0   \n",
       "...               ...        ...              ...           ...   \n",
       "1795         4.681818  31.891253         0.111508         114.0   \n",
       "1796         4.868794  12.757794         0.045240         152.0   \n",
       "1797         4.583333   3.387097         0.025660          71.0   \n",
       "1798         4.878788  20.071942         0.035779         301.0   \n",
       "1799         4.734615  37.479167         0.072075         231.0   \n",
       "\n",
       "      prompt_words/total_words  synonym_words  synonym_words/total_words  \\\n",
       "0                     0.417457          112.0                   0.212524   \n",
       "1                     0.455556           66.0                   0.366667   \n",
       "2                     0.551724           83.0                   0.318008   \n",
       "3                     0.464896          131.0                   0.248577   \n",
       "4                     0.431138          117.0                   0.233533   \n",
       "...                        ...            ...                        ...   \n",
       "1795                  0.398601           78.0                   0.272727   \n",
       "1796                  0.539007           80.0                   0.283688   \n",
       "1797                  0.537879           34.0                   0.257576   \n",
       "1798                  0.536542          168.0                   0.299465   \n",
       "1799                  0.444231          165.0                   0.317308   \n",
       "\n",
       "      unstemmed  stemmed  score  \n",
       "0           584      559      4  \n",
       "1           210      210      1  \n",
       "2           291      285      2  \n",
       "3           547      528      4  \n",
       "4           591      562      4  \n",
       "...         ...      ...    ...  \n",
       "1795        303      293      3  \n",
       "1796        339      333      3  \n",
       "1797        164      160      2  \n",
       "1798        542      512      3  \n",
       "1799        514      496      3  \n",
       "\n",
       "[1800 rows x 16 columns]"
      ]
     },
     "execution_count": 208,
     "metadata": {},
     "output_type": "execute_result"
    }
   ],
   "source": [
    "dataset"
   ]
  },
  {
   "cell_type": "markdown",
   "metadata": {},
   "source": [
    "take only `BoW` features.\n",
    "\n",
    "Including unstemmed, stemmed"
   ]
  },
  {
   "cell_type": "code",
   "execution_count": 209,
   "metadata": {},
   "outputs": [
    {
     "data": {
      "text/plain": [
       "array([[584., 559.],\n",
       "       [210., 210.],\n",
       "       [291., 285.],\n",
       "       ...,\n",
       "       [164., 160.],\n",
       "       [542., 512.],\n",
       "       [514., 496.]])"
      ]
     },
     "execution_count": 209,
     "metadata": {},
     "output_type": "execute_result"
    }
   ],
   "source": [
    "X = dataset.iloc[:,13:15].values.astype(float)\n",
    "y = dataset.iloc[:,15].values.astype(float)\n",
    "X"
   ]
  },
  {
   "cell_type": "code",
   "execution_count": 210,
   "metadata": {},
   "outputs": [
    {
     "name": "stdout",
     "output_type": "stream",
     "text": [
      "[[310. 296.]\n",
      " [348. 339.]\n",
      " [ 83.  83.]\n",
      " [647. 625.]\n",
      " [593. 564.]]\n"
     ]
    }
   ],
   "source": [
    "X.shape\n",
    "\n",
    "y = np.array(y).reshape(-1,1)\n",
    "y.shape\n",
    "\n",
    "### Split the train and test set\n",
    "from sklearn.model_selection import train_test_split\n",
    "X_train, X_test, y_train, y_test = train_test_split(X, y, test_size=0.2, random_state=0)\n",
    "# Have a look at the first few lines\n",
    "print(X_train[:5, :])"
   ]
  },
  {
   "cell_type": "markdown",
   "metadata": {},
   "source": [
    "### Model Training using `BoW` features only"
   ]
  },
  {
   "cell_type": "markdown",
   "metadata": {},
   "source": [
    "### NB"
   ]
  },
  {
   "cell_type": "code",
   "execution_count": 211,
   "metadata": {},
   "outputs": [
    {
     "data": {
      "text/plain": [
       "MultinomialNB()"
      ]
     },
     "execution_count": 211,
     "metadata": {},
     "output_type": "execute_result"
    }
   ],
   "source": [
    "from sklearn.preprocessing import StandardScaler, MinMaxScaler\n",
    "\n",
    "X_trainNB = X_train\n",
    "y_trainNB = y_train\n",
    "X_testNB = X_test\n",
    "y_testNB = y_test\n",
    "\n",
    "model_nb = naive_bayes.MultinomialNB()\n",
    "model_nb.fit(X_trainNB, y_trainNB.ravel())"
   ]
  },
  {
   "cell_type": "markdown",
   "metadata": {},
   "source": [
    "### SVM"
   ]
  },
  {
   "cell_type": "code",
   "execution_count": 212,
   "metadata": {},
   "outputs": [
    {
     "name": "stdout",
     "output_type": "stream",
     "text": [
      "[LibSVM]"
     ]
    },
    {
     "data": {
      "text/plain": [
       "SVR(gamma='auto', verbose=True)"
      ]
     },
     "execution_count": 212,
     "metadata": {},
     "output_type": "execute_result"
    }
   ],
   "source": [
    "from sklearn.preprocessing import StandardScaler\n",
    "sc_Xsvm = StandardScaler()\n",
    "sc_ysvm = StandardScaler()\n",
    "X_trainSVM = sc_Xsvm.fit_transform(X_train)\n",
    "y_trainSVM = sc_ysvm.fit_transform(y_train)\n",
    "X_testSVM = sc_Xsvm.transform(X_test)\n",
    "y_testSVM = sc_ysvm.transform(y_test)\n",
    "\n",
    "\n",
    "from sklearn.svm import SVR\n",
    "# most important SVR parameter is Kernel type. It can be #linear,polynomial or gaussian SVR. We have a non-linear condition #so we can select polynomial or gaussian but here we select RBF(a #gaussian type) kernel.\n",
    "# kernel{‘linear’, ‘poly’, ‘rbf’, ‘sigmoid’, ‘precomputed’}, default=’rbf’\n",
    "# maybe use poly and increase the degree\n",
    "model_svm = SVR(kernel='rbf', gamma='auto', verbose=True)\n",
    "#regressor = SVR(kernel='poly', degree=5, gamma='auto', verbose=True)\n",
    "model_svm.fit(X_trainSVM,y_trainSVM.ravel())"
   ]
  },
  {
   "cell_type": "markdown",
   "metadata": {},
   "source": [
    "### BLRR"
   ]
  },
  {
   "cell_type": "code",
   "execution_count": 213,
   "metadata": {},
   "outputs": [
    {
     "data": {
      "text/plain": [
       "BayesianRidge()"
      ]
     },
     "execution_count": 213,
     "metadata": {},
     "output_type": "execute_result"
    }
   ],
   "source": [
    "from sklearn.preprocessing import StandardScaler\n",
    "sc_Xblrr = StandardScaler()\n",
    "sc_yblrr = StandardScaler()\n",
    "X_trainBLRR = sc_Xblrr.fit_transform(X_train)\n",
    "y_trainBLRR = sc_yblrr.fit_transform(y_train)\n",
    "X_testBLRR = sc_Xblrr.transform(X_test)\n",
    "y_testBLRR = sc_yblrr.transform(y_test)\n",
    "\n",
    "from sklearn import linear_model\n",
    "model_blrr = linear_model.BayesianRidge()\n",
    "model_blrr.fit(X_trainBLRR, y_trainBLRR.ravel())"
   ]
  },
  {
   "cell_type": "markdown",
   "metadata": {},
   "source": [
    "## Prediction using `BoW` only"
   ]
  },
  {
   "cell_type": "code",
   "execution_count": 214,
   "metadata": {},
   "outputs": [
    {
     "name": "stdout",
     "output_type": "stream",
     "text": [
      "[[  0   0   0   7   0   0]\n",
      " [  0   0   0  23   0   0]\n",
      " [  0   0   0 160   0   0]\n",
      " [  0   0   0 156   0   0]\n",
      " [  0   0   0  13   0   0]\n",
      " [  0   0   0   1   0   0]]\n"
     ]
    }
   ],
   "source": [
    "#NB\n",
    "y_predNB = model_nb.predict(X_testNB)\n",
    "#y_1_predNB = sc_ynb.inverse_transform(y_1_predNB).round()\n",
    "\n",
    "cm = confusion_matrix(y_testNB, y_predNB)\n",
    "\n",
    "print(cm)"
   ]
  },
  {
   "cell_type": "code",
   "execution_count": 215,
   "metadata": {},
   "outputs": [
    {
     "name": "stdout",
     "output_type": "stream",
     "text": [
      "[[  0   6   1   0   0   0]\n",
      " [  0  10  12   1   0   0]\n",
      " [  0   3 115  42   0   0]\n",
      " [  0   0  48 108   0   0]\n",
      " [  0   0   0  13   0   0]\n",
      " [  0   0   0   1   0   0]]\n"
     ]
    }
   ],
   "source": [
    "#SVM\n",
    "y_predSVM = model_svm.predict(X_testSVM)\n",
    "y_predSVM = sc_ysvm.inverse_transform(y_predSVM).round()\n",
    "\n",
    "cm = confusion_matrix(y_test, y_predSVM)\n",
    "#np.set_printoptions(threshold=np.inf)\n",
    "print(cm)"
   ]
  },
  {
   "cell_type": "code",
   "execution_count": 216,
   "metadata": {},
   "outputs": [
    {
     "name": "stdout",
     "output_type": "stream",
     "text": [
      "[[  0   5   2   0   0   0]\n",
      " [  0   7  15   1   0   0]\n",
      " [  0   2 129  27   2   0]\n",
      " [  0   0  61  93   2   0]\n",
      " [  0   0   0   5   7   1]\n",
      " [  0   0   0   0   1   0]]\n"
     ]
    }
   ],
   "source": [
    "#BLRR\n",
    "y_predBLRR = model_blrr.predict(X_testBLRR)\n",
    "y_predBLRR = sc_yblrr.inverse_transform(y_predBLRR).round()\n",
    "\n",
    "cm = confusion_matrix(y_test, y_predBLRRL)\n",
    "print(cm)"
   ]
  },
  {
   "cell_type": "code",
   "execution_count": 217,
   "metadata": {},
   "outputs": [
    {
     "data": {
      "text/html": [
       "<div>\n",
       "<style scoped>\n",
       "    .dataframe tbody tr th:only-of-type {\n",
       "        vertical-align: middle;\n",
       "    }\n",
       "\n",
       "    .dataframe tbody tr th {\n",
       "        vertical-align: top;\n",
       "    }\n",
       "\n",
       "    .dataframe thead th {\n",
       "        text-align: right;\n",
       "    }\n",
       "</style>\n",
       "<table border=\"1\" class=\"dataframe\">\n",
       "  <thead>\n",
       "    <tr style=\"text-align: right;\">\n",
       "      <th></th>\n",
       "      <th>Actual</th>\n",
       "      <th>NB</th>\n",
       "      <th>SVM</th>\n",
       "      <th>BLRR</th>\n",
       "    </tr>\n",
       "  </thead>\n",
       "  <tbody>\n",
       "    <tr>\n",
       "      <th>0</th>\n",
       "      <td>3.0</td>\n",
       "      <td>4.0</td>\n",
       "      <td>4.0</td>\n",
       "      <td>4.0</td>\n",
       "    </tr>\n",
       "    <tr>\n",
       "      <th>1</th>\n",
       "      <td>5.0</td>\n",
       "      <td>4.0</td>\n",
       "      <td>4.0</td>\n",
       "      <td>4.0</td>\n",
       "    </tr>\n",
       "    <tr>\n",
       "      <th>2</th>\n",
       "      <td>3.0</td>\n",
       "      <td>4.0</td>\n",
       "      <td>3.0</td>\n",
       "      <td>3.0</td>\n",
       "    </tr>\n",
       "    <tr>\n",
       "      <th>3</th>\n",
       "      <td>4.0</td>\n",
       "      <td>4.0</td>\n",
       "      <td>4.0</td>\n",
       "      <td>4.0</td>\n",
       "    </tr>\n",
       "    <tr>\n",
       "      <th>4</th>\n",
       "      <td>4.0</td>\n",
       "      <td>4.0</td>\n",
       "      <td>4.0</td>\n",
       "      <td>4.0</td>\n",
       "    </tr>\n",
       "  </tbody>\n",
       "</table>\n",
       "</div>"
      ],
      "text/plain": [
       "   Actual   NB  SVM  BLRR\n",
       "0     3.0  4.0  4.0   4.0\n",
       "1     5.0  4.0  4.0   4.0\n",
       "2     3.0  4.0  3.0   3.0\n",
       "3     4.0  4.0  4.0   4.0\n",
       "4     4.0  4.0  4.0   4.0"
      ]
     },
     "execution_count": 217,
     "metadata": {},
     "output_type": "execute_result"
    }
   ],
   "source": [
    "actual = pd.Series(y_test.ravel())\n",
    "predNB = pd.Series(y_predNB)\n",
    "predSVM = pd.Series(y_predSVM)\n",
    "predBLRR = pd.Series(y_predBLRR)\n",
    "\n",
    "data = {\"Actual\": actual,\n",
    "        \"NB\": predNB, \n",
    "        \"SVM\": predSVM, \n",
    "        \"BLRR\": predBLRR} \n",
    "results = pd.concat(data, axis=1)\n",
    "results.head(5)"
   ]
  },
  {
   "cell_type": "code",
   "execution_count": 218,
   "metadata": {},
   "outputs": [
    {
     "data": {
      "text/html": [
       "<div>\n",
       "<style scoped>\n",
       "    .dataframe tbody tr th:only-of-type {\n",
       "        vertical-align: middle;\n",
       "    }\n",
       "\n",
       "    .dataframe tbody tr th {\n",
       "        vertical-align: top;\n",
       "    }\n",
       "\n",
       "    .dataframe thead th {\n",
       "        text-align: right;\n",
       "    }\n",
       "</style>\n",
       "<table border=\"1\" class=\"dataframe\">\n",
       "  <thead>\n",
       "    <tr style=\"text-align: right;\">\n",
       "      <th></th>\n",
       "      <th>Actual</th>\n",
       "      <th>NB</th>\n",
       "      <th>SVM</th>\n",
       "      <th>BLRR</th>\n",
       "      <th>Ensemble</th>\n",
       "    </tr>\n",
       "  </thead>\n",
       "  <tbody>\n",
       "    <tr>\n",
       "      <th>0</th>\n",
       "      <td>3.0</td>\n",
       "      <td>4.0</td>\n",
       "      <td>4.0</td>\n",
       "      <td>4.0</td>\n",
       "      <td>4.0</td>\n",
       "    </tr>\n",
       "    <tr>\n",
       "      <th>1</th>\n",
       "      <td>5.0</td>\n",
       "      <td>4.0</td>\n",
       "      <td>4.0</td>\n",
       "      <td>4.0</td>\n",
       "      <td>4.0</td>\n",
       "    </tr>\n",
       "    <tr>\n",
       "      <th>2</th>\n",
       "      <td>3.0</td>\n",
       "      <td>4.0</td>\n",
       "      <td>3.0</td>\n",
       "      <td>3.0</td>\n",
       "      <td>3.0</td>\n",
       "    </tr>\n",
       "    <tr>\n",
       "      <th>3</th>\n",
       "      <td>4.0</td>\n",
       "      <td>4.0</td>\n",
       "      <td>4.0</td>\n",
       "      <td>4.0</td>\n",
       "      <td>4.0</td>\n",
       "    </tr>\n",
       "    <tr>\n",
       "      <th>4</th>\n",
       "      <td>4.0</td>\n",
       "      <td>4.0</td>\n",
       "      <td>4.0</td>\n",
       "      <td>4.0</td>\n",
       "      <td>4.0</td>\n",
       "    </tr>\n",
       "  </tbody>\n",
       "</table>\n",
       "</div>"
      ],
      "text/plain": [
       "   Actual   NB  SVM  BLRR  Ensemble\n",
       "0     3.0  4.0  4.0   4.0       4.0\n",
       "1     5.0  4.0  4.0   4.0       4.0\n",
       "2     3.0  4.0  3.0   3.0       3.0\n",
       "3     4.0  4.0  4.0   4.0       4.0\n",
       "4     4.0  4.0  4.0   4.0       4.0"
      ]
     },
     "execution_count": 218,
     "metadata": {},
     "output_type": "execute_result"
    }
   ],
   "source": [
    "results['Ensemble'] = np.where(\n",
    "                            (results['NB'] == results['BLRR']) |\n",
    "                            (results['NB'] == results['SVM']),\n",
    "                            results['NB'],\n",
    "                            results['BLRR']\n",
    "                        )\n",
    "results.head(5)"
   ]
  },
  {
   "cell_type": "markdown",
   "metadata": {},
   "source": [
    "## Evaluation `BoW` only"
   ]
  },
  {
   "cell_type": "code",
   "execution_count": 219,
   "metadata": {},
   "outputs": [],
   "source": [
    "from sklearn.metrics import classification_report\n",
    "from sklearn.metrics import cohen_kappa_score\n"
   ]
  },
  {
   "cell_type": "markdown",
   "metadata": {},
   "source": [
    "### NB"
   ]
  },
  {
   "cell_type": "code",
   "execution_count": 220,
   "metadata": {},
   "outputs": [
    {
     "name": "stdout",
     "output_type": "stream",
     "text": [
      "              precision    recall  f1-score   support\n",
      "\n",
      "         1.0       0.00      0.00      0.00         7\n",
      "         2.0       0.00      0.00      0.00        23\n",
      "         3.0       0.00      0.00      0.00       160\n",
      "         4.0       0.43      1.00      0.60       156\n",
      "         5.0       0.00      0.00      0.00        13\n",
      "         6.0       0.00      0.00      0.00         1\n",
      "\n",
      "    accuracy                           0.43       360\n",
      "   macro avg       0.07      0.17      0.10       360\n",
      "weighted avg       0.19      0.43      0.26       360\n",
      "\n",
      "0.0\n"
     ]
    },
    {
     "name": "stderr",
     "output_type": "stream",
     "text": [
      "C:\\Users\\User\\AppData\\Local\\Programs\\Python\\Python38-32\\lib\\site-packages\\sklearn\\metrics\\_classification.py:1221: UndefinedMetricWarning: Precision and F-score are ill-defined and being set to 0.0 in labels with no predicted samples. Use `zero_division` parameter to control this behavior.\n",
      "  _warn_prf(average, modifier, msg_start, len(result))\n"
     ]
    }
   ],
   "source": [
    "rpt = classification_report(y_test, y_predNB)\n",
    "print(rpt)\n",
    "\n",
    "print(cohen_kappa_score(y_test, y_predNB, weights=\"quadratic\"))"
   ]
  },
  {
   "cell_type": "markdown",
   "metadata": {},
   "source": [
    "### SVM"
   ]
  },
  {
   "cell_type": "code",
   "execution_count": 221,
   "metadata": {},
   "outputs": [
    {
     "name": "stdout",
     "output_type": "stream",
     "text": [
      "              precision    recall  f1-score   support\n",
      "\n",
      "         1.0       0.00      0.00      0.00         7\n",
      "         2.0       0.53      0.43      0.48        23\n",
      "         3.0       0.65      0.72      0.68       160\n",
      "         4.0       0.65      0.69      0.67       156\n",
      "         5.0       0.00      0.00      0.00        13\n",
      "         6.0       0.00      0.00      0.00         1\n",
      "\n",
      "    accuracy                           0.65       360\n",
      "   macro avg       0.31      0.31      0.31       360\n",
      "weighted avg       0.61      0.65      0.63       360\n",
      "\n",
      "0.5903066006158789\n"
     ]
    }
   ],
   "source": [
    "rpt = classification_report(y_test, y_predSVM)\n",
    "print(rpt)\n",
    "\n",
    "print(cohen_kappa_score(y_test, y_predSVM, weights=\"quadratic\"))"
   ]
  },
  {
   "cell_type": "markdown",
   "metadata": {},
   "source": [
    "### BLRR"
   ]
  },
  {
   "cell_type": "code",
   "execution_count": 222,
   "metadata": {},
   "outputs": [
    {
     "name": "stdout",
     "output_type": "stream",
     "text": [
      "              precision    recall  f1-score   support\n",
      "\n",
      "         1.0       0.00      0.00      0.00         7\n",
      "         2.0       0.57      0.35      0.43        23\n",
      "         3.0       0.63      0.79      0.70       160\n",
      "         4.0       0.68      0.63      0.65       156\n",
      "         5.0       0.00      0.00      0.00        13\n",
      "         6.0       0.00      0.00      0.00         1\n",
      "\n",
      "    accuracy                           0.65       360\n",
      "   macro avg       0.31      0.29      0.30       360\n",
      "weighted avg       0.61      0.65      0.62       360\n",
      "\n",
      "0.5738161559888579\n"
     ]
    }
   ],
   "source": [
    "rpt = classification_report(y_test, y_predBLRR)\n",
    "print(rpt)\n",
    "\n",
    "print(cohen_kappa_score(y_test, y_predBLRR, weights=\"quadratic\"))"
   ]
  },
  {
   "cell_type": "markdown",
   "metadata": {},
   "source": [
    "### Ensemble"
   ]
  },
  {
   "cell_type": "code",
   "execution_count": 223,
   "metadata": {},
   "outputs": [
    {
     "name": "stdout",
     "output_type": "stream",
     "text": [
      "              precision    recall  f1-score   support\n",
      "\n",
      "         1.0       0.00      0.00      0.00         7\n",
      "         2.0       0.57      0.35      0.43        23\n",
      "         3.0       0.65      0.73      0.69       160\n",
      "         4.0       0.65      0.69      0.67       156\n",
      "         5.0       0.00      0.00      0.00        13\n",
      "         6.0       0.00      0.00      0.00         1\n",
      "\n",
      "    accuracy                           0.65       360\n",
      "   macro avg       0.31      0.30      0.30       360\n",
      "weighted avg       0.61      0.65      0.62       360\n",
      "\n",
      "0.5694520925110131\n"
     ]
    }
   ],
   "source": [
    "rpt = classification_report(y_test,results['Ensemble'])\n",
    "print(rpt)\n",
    "\n",
    "print(cohen_kappa_score(y_test, results['Ensemble'], weights=\"quadratic\"))"
   ]
  },
  {
   "cell_type": "markdown",
   "metadata": {},
   "source": [
    "\n",
    "#### QWK Scores result with `BoW` features only:\n",
    "\n",
    "Naive Bayes: 0.0\n",
    "\n",
    "SVM: 0.5903066006158789\n",
    "\n",
    "BLRR: 0.5738161559888579\n",
    "\n",
    "Ensemble: 0.5694520925110131\n",
    "\n",
    "#### Conclusion\n",
    "\n",
    "With `BoW` only, it significantly dropping Naive Bayes model's QWK score to 0. The SVM and BLRR also worsen but in a smaller margin.\n",
    "\n",
    "On the output of the QWK agreements, the Naive bayes (BoW only) QWK score is 'agreement equivalent to chance' which makes the model not working at all."
   ]
  },
  {
   "cell_type": "markdown",
   "metadata": {},
   "source": [
    "## `Prompt` influence test "
   ]
  },
  {
   "cell_type": "code",
   "execution_count": 152,
   "metadata": {},
   "outputs": [],
   "source": [
    "dataset = pd.read_csv('maes_features.csv')\n",
    "# LENGTH :chars, words, commas, apostrophes, punctuations, avg_word_length, sentences, questions, avg_word_sentence \n",
    "# PROMPT :prompt_words, prompt_words/total_words, synonym_words, synonym_words/total_words\n",
    "# BoW: unstemmed, stemmed\n",
    "# POS (GRAMMATICAL): POS, POS/total_words"
   ]
  },
  {
   "cell_type": "markdown",
   "metadata": {},
   "source": [
    "take only `Prompt` features.\n",
    "\n",
    "Including prompt_words, prompt_words/total_words, synonym_words, synonym_words/total_words"
   ]
  },
  {
   "cell_type": "code",
   "execution_count": 153,
   "metadata": {},
   "outputs": [
    {
     "data": {
      "text/plain": [
       "array([[2.20000000e+02, 4.17457306e-01, 1.12000000e+02, 2.12523719e-01],\n",
       "       [8.20000000e+01, 4.55555556e-01, 6.60000000e+01, 3.66666667e-01],\n",
       "       [1.44000000e+02, 5.51724138e-01, 8.30000000e+01, 3.18007663e-01],\n",
       "       ...,\n",
       "       [7.10000000e+01, 5.37878788e-01, 3.40000000e+01, 2.57575758e-01],\n",
       "       [3.01000000e+02, 5.36541889e-01, 1.68000000e+02, 2.99465241e-01],\n",
       "       [2.31000000e+02, 4.44230769e-01, 1.65000000e+02, 3.17307692e-01]])"
      ]
     },
     "execution_count": 153,
     "metadata": {},
     "output_type": "execute_result"
    }
   ],
   "source": [
    "X = dataset.iloc[:,9:13].values.astype(float)\n",
    "y = dataset.iloc[:,15].values.astype(float)\n",
    "X"
   ]
  },
  {
   "cell_type": "code",
   "execution_count": 154,
   "metadata": {},
   "outputs": [
    {
     "name": "stdout",
     "output_type": "stream",
     "text": [
      "[[3.]\n",
      " [5.]\n",
      " [3.]\n",
      " [4.]\n",
      " [4.]]\n"
     ]
    }
   ],
   "source": [
    "X.shape\n",
    "\n",
    "y = np.array(y).reshape(-1,1)\n",
    "y.shape\n",
    "\n",
    "### Split the train and test set\n",
    "from sklearn.model_selection import train_test_split\n",
    "X_train, X_test, y_train, y_test = train_test_split(X, y, test_size=0.2, random_state=0)\n",
    "# Have a look at the first few lines\n",
    "print(y_test[:5, :])"
   ]
  },
  {
   "cell_type": "markdown",
   "metadata": {},
   "source": [
    "### Model Training using `Prompt` features only"
   ]
  },
  {
   "cell_type": "code",
   "execution_count": 155,
   "metadata": {},
   "outputs": [
    {
     "data": {
      "text/plain": [
       "MultinomialNB()"
      ]
     },
     "execution_count": 155,
     "metadata": {},
     "output_type": "execute_result"
    }
   ],
   "source": [
    "from sklearn.preprocessing import StandardScaler, MinMaxScaler\n",
    "\n",
    "X_trainNB = X_train\n",
    "y_trainNB = y_train\n",
    "X_testNB = X_test\n",
    "y_testNB = y_test\n",
    "\n",
    "model_nb = naive_bayes.MultinomialNB()\n",
    "model_nb.fit(X_trainNB, y_trainNB.ravel())"
   ]
  },
  {
   "cell_type": "code",
   "execution_count": 156,
   "metadata": {},
   "outputs": [
    {
     "name": "stdout",
     "output_type": "stream",
     "text": [
      "[LibSVM]"
     ]
    },
    {
     "data": {
      "text/plain": [
       "SVR(gamma='auto', verbose=True)"
      ]
     },
     "execution_count": 156,
     "metadata": {},
     "output_type": "execute_result"
    }
   ],
   "source": [
    "from sklearn.preprocessing import StandardScaler\n",
    "sc_Xsvm = StandardScaler()\n",
    "sc_ysvm = StandardScaler()\n",
    "X_trainSVM = sc_Xsvm.fit_transform(X_train)\n",
    "y_trainSVM = sc_ysvm.fit_transform(y_train)\n",
    "X_testSVM = sc_Xsvm.transform(X_test)\n",
    "y_testSVM = sc_ysvm.transform(y_test)\n",
    "\n",
    "\n",
    "from sklearn.svm import SVR\n",
    "# most important SVR parameter is Kernel type. It can be #linear,polynomial or gaussian SVR. We have a non-linear condition #so we can select polynomial or gaussian but here we select RBF(a #gaussian type) kernel.\n",
    "# kernel{‘linear’, ‘poly’, ‘rbf’, ‘sigmoid’, ‘precomputed’}, default=’rbf’\n",
    "# maybe use poly and increase the degree\n",
    "model_svm = SVR(kernel='rbf', gamma='auto', verbose=True)\n",
    "#regressor = SVR(kernel='poly', degree=5, gamma='auto', verbose=True)\n",
    "model_svm.fit(X_trainSVM,y_trainSVM.ravel())"
   ]
  },
  {
   "cell_type": "code",
   "execution_count": 157,
   "metadata": {},
   "outputs": [
    {
     "data": {
      "text/plain": [
       "BayesianRidge()"
      ]
     },
     "execution_count": 157,
     "metadata": {},
     "output_type": "execute_result"
    }
   ],
   "source": [
    "from sklearn.preprocessing import StandardScaler\n",
    "sc_Xblrr = StandardScaler()\n",
    "sc_yblrr = StandardScaler()\n",
    "X_trainBLRR = sc_Xblrr.fit_transform(X_train)\n",
    "y_trainBLRR = sc_yblrr.fit_transform(y_train)\n",
    "X_testBLRR = sc_Xblrr.transform(X_test)\n",
    "y_testBLRR = sc_yblrr.transform(y_test)\n",
    "\n",
    "from sklearn import linear_model\n",
    "model_blrr = linear_model.BayesianRidge()\n",
    "model_blrr.fit(X_trainBLRR, y_trainBLRR.ravel())"
   ]
  },
  {
   "cell_type": "markdown",
   "metadata": {},
   "source": [
    "## Predict `Prompt` only"
   ]
  },
  {
   "cell_type": "code",
   "execution_count": 158,
   "metadata": {},
   "outputs": [
    {
     "name": "stdout",
     "output_type": "stream",
     "text": [
      "[[ 0  0  7  0  0  0]\n",
      " [ 0  0 15  8  0  0]\n",
      " [ 0  0 90 70  0  0]\n",
      " [ 0  0 62 94  0  0]\n",
      " [ 0  0  1 12  0  0]\n",
      " [ 0  0  0  1  0  0]]\n"
     ]
    }
   ],
   "source": [
    "#NB\n",
    "y_predNB = model_nb.predict(X_testNB)\n",
    "#y_1_predNB = sc_ynb.inverse_transform(y_1_predNB).round()\n",
    "\n",
    "cm = confusion_matrix(y_test, y_predNB)\n",
    "\n",
    "print(cm)"
   ]
  },
  {
   "cell_type": "code",
   "execution_count": 159,
   "metadata": {},
   "outputs": [
    {
     "name": "stdout",
     "output_type": "stream",
     "text": [
      "[[  0   5   2   0   0   0]\n",
      " [  0   9  13   1   0   0]\n",
      " [  0   2 120  38   0   0]\n",
      " [  0   0  53 103   0   0]\n",
      " [  0   0   0  13   0   0]\n",
      " [  0   0   0   1   0   0]]\n"
     ]
    }
   ],
   "source": [
    "#SVM\n",
    "y_predSVM = model_svm.predict(X_testSVM)\n",
    "y_predSVM = sc_ysvm.inverse_transform(y_predSVM).round()\n",
    "\n",
    "cm = confusion_matrix(y_test, y_predSVM)\n",
    "#np.set_printoptions(threshold=np.inf)\n",
    "print(cm)"
   ]
  },
  {
   "cell_type": "code",
   "execution_count": 160,
   "metadata": {},
   "outputs": [
    {
     "name": "stdout",
     "output_type": "stream",
     "text": [
      "[[  0   3   4   0   0   0]\n",
      " [  0   9  13   1   0   0]\n",
      " [  0   3 127  28   2   0]\n",
      " [  0   0  64  90   2   0]\n",
      " [  0   0   0   9   4   0]\n",
      " [  0   0   0   1   0   0]]\n"
     ]
    }
   ],
   "source": [
    "#BLRR\n",
    "y_predBLRR = model_blrr.predict(X_testBLRR)\n",
    "y_predBLRR = sc_yblrr.inverse_transform(y_predBLRR).round()\n",
    "\n",
    "cm = confusion_matrix(y_test, y_predBLRR)\n",
    "print(cm)"
   ]
  },
  {
   "cell_type": "code",
   "execution_count": 161,
   "metadata": {},
   "outputs": [
    {
     "data": {
      "text/html": [
       "<div>\n",
       "<style scoped>\n",
       "    .dataframe tbody tr th:only-of-type {\n",
       "        vertical-align: middle;\n",
       "    }\n",
       "\n",
       "    .dataframe tbody tr th {\n",
       "        vertical-align: top;\n",
       "    }\n",
       "\n",
       "    .dataframe thead th {\n",
       "        text-align: right;\n",
       "    }\n",
       "</style>\n",
       "<table border=\"1\" class=\"dataframe\">\n",
       "  <thead>\n",
       "    <tr style=\"text-align: right;\">\n",
       "      <th></th>\n",
       "      <th>Actual</th>\n",
       "      <th>NB</th>\n",
       "      <th>SVM</th>\n",
       "      <th>BLRR</th>\n",
       "    </tr>\n",
       "  </thead>\n",
       "  <tbody>\n",
       "    <tr>\n",
       "      <th>0</th>\n",
       "      <td>3.0</td>\n",
       "      <td>3.0</td>\n",
       "      <td>4.0</td>\n",
       "      <td>5.0</td>\n",
       "    </tr>\n",
       "    <tr>\n",
       "      <th>1</th>\n",
       "      <td>5.0</td>\n",
       "      <td>4.0</td>\n",
       "      <td>4.0</td>\n",
       "      <td>4.0</td>\n",
       "    </tr>\n",
       "    <tr>\n",
       "      <th>2</th>\n",
       "      <td>3.0</td>\n",
       "      <td>3.0</td>\n",
       "      <td>3.0</td>\n",
       "      <td>3.0</td>\n",
       "    </tr>\n",
       "    <tr>\n",
       "      <th>3</th>\n",
       "      <td>4.0</td>\n",
       "      <td>3.0</td>\n",
       "      <td>3.0</td>\n",
       "      <td>3.0</td>\n",
       "    </tr>\n",
       "    <tr>\n",
       "      <th>4</th>\n",
       "      <td>4.0</td>\n",
       "      <td>4.0</td>\n",
       "      <td>4.0</td>\n",
       "      <td>4.0</td>\n",
       "    </tr>\n",
       "  </tbody>\n",
       "</table>\n",
       "</div>"
      ],
      "text/plain": [
       "   Actual   NB  SVM  BLRR\n",
       "0     3.0  3.0  4.0   5.0\n",
       "1     5.0  4.0  4.0   4.0\n",
       "2     3.0  3.0  3.0   3.0\n",
       "3     4.0  3.0  3.0   3.0\n",
       "4     4.0  4.0  4.0   4.0"
      ]
     },
     "execution_count": 161,
     "metadata": {},
     "output_type": "execute_result"
    }
   ],
   "source": [
    "actual = pd.Series(y_test.ravel())\n",
    "predNB = pd.Series(y_predNB)\n",
    "predSVM = pd.Series(y_predSVM)\n",
    "predBLRR = pd.Series(y_predBLRR)\n",
    "\n",
    "data = {\"Actual\": actual,\n",
    "        \"NB\": predNB, \n",
    "        \"SVM\": predSVM, \n",
    "        \"BLRR\": predBLRR} \n",
    "results = pd.concat(data, axis=1)\n",
    "results.head(5)"
   ]
  },
  {
   "cell_type": "code",
   "execution_count": 162,
   "metadata": {},
   "outputs": [
    {
     "data": {
      "text/html": [
       "<div>\n",
       "<style scoped>\n",
       "    .dataframe tbody tr th:only-of-type {\n",
       "        vertical-align: middle;\n",
       "    }\n",
       "\n",
       "    .dataframe tbody tr th {\n",
       "        vertical-align: top;\n",
       "    }\n",
       "\n",
       "    .dataframe thead th {\n",
       "        text-align: right;\n",
       "    }\n",
       "</style>\n",
       "<table border=\"1\" class=\"dataframe\">\n",
       "  <thead>\n",
       "    <tr style=\"text-align: right;\">\n",
       "      <th></th>\n",
       "      <th>Actual</th>\n",
       "      <th>NB</th>\n",
       "      <th>SVM</th>\n",
       "      <th>BLRR</th>\n",
       "      <th>Ensemble</th>\n",
       "    </tr>\n",
       "  </thead>\n",
       "  <tbody>\n",
       "    <tr>\n",
       "      <th>0</th>\n",
       "      <td>3.0</td>\n",
       "      <td>3.0</td>\n",
       "      <td>4.0</td>\n",
       "      <td>5.0</td>\n",
       "      <td>5.0</td>\n",
       "    </tr>\n",
       "    <tr>\n",
       "      <th>1</th>\n",
       "      <td>5.0</td>\n",
       "      <td>4.0</td>\n",
       "      <td>4.0</td>\n",
       "      <td>4.0</td>\n",
       "      <td>4.0</td>\n",
       "    </tr>\n",
       "    <tr>\n",
       "      <th>2</th>\n",
       "      <td>3.0</td>\n",
       "      <td>3.0</td>\n",
       "      <td>3.0</td>\n",
       "      <td>3.0</td>\n",
       "      <td>3.0</td>\n",
       "    </tr>\n",
       "    <tr>\n",
       "      <th>3</th>\n",
       "      <td>4.0</td>\n",
       "      <td>3.0</td>\n",
       "      <td>3.0</td>\n",
       "      <td>3.0</td>\n",
       "      <td>3.0</td>\n",
       "    </tr>\n",
       "    <tr>\n",
       "      <th>4</th>\n",
       "      <td>4.0</td>\n",
       "      <td>4.0</td>\n",
       "      <td>4.0</td>\n",
       "      <td>4.0</td>\n",
       "      <td>4.0</td>\n",
       "    </tr>\n",
       "  </tbody>\n",
       "</table>\n",
       "</div>"
      ],
      "text/plain": [
       "   Actual   NB  SVM  BLRR  Ensemble\n",
       "0     3.0  3.0  4.0   5.0       5.0\n",
       "1     5.0  4.0  4.0   4.0       4.0\n",
       "2     3.0  3.0  3.0   3.0       3.0\n",
       "3     4.0  3.0  3.0   3.0       3.0\n",
       "4     4.0  4.0  4.0   4.0       4.0"
      ]
     },
     "execution_count": 162,
     "metadata": {},
     "output_type": "execute_result"
    }
   ],
   "source": [
    "results['Ensemble'] = np.where(\n",
    "                            (results['NB'] == results['BLRR']) |\n",
    "                            (results['NB'] == results['SVM']),\n",
    "                            results['NB'],\n",
    "                            results['BLRR']\n",
    "                        )\n",
    "results.head(5)"
   ]
  },
  {
   "cell_type": "markdown",
   "metadata": {},
   "source": [
    "## Evaluation `Prompt` only"
   ]
  },
  {
   "cell_type": "code",
   "execution_count": 163,
   "metadata": {},
   "outputs": [],
   "source": [
    "from sklearn.metrics import classification_report\n",
    "from sklearn.metrics import cohen_kappa_score\n"
   ]
  },
  {
   "cell_type": "markdown",
   "metadata": {},
   "source": [
    "## NB"
   ]
  },
  {
   "cell_type": "code",
   "execution_count": 164,
   "metadata": {},
   "outputs": [
    {
     "name": "stdout",
     "output_type": "stream",
     "text": [
      "              precision    recall  f1-score   support\n",
      "\n",
      "         1.0       0.00      0.00      0.00         7\n",
      "         2.0       0.00      0.00      0.00        23\n",
      "         3.0       0.51      0.56      0.54       160\n",
      "         4.0       0.51      0.60      0.55       156\n",
      "         5.0       0.00      0.00      0.00        13\n",
      "         6.0       0.00      0.00      0.00         1\n",
      "\n",
      "    accuracy                           0.51       360\n",
      "   macro avg       0.17      0.19      0.18       360\n",
      "weighted avg       0.45      0.51      0.48       360\n",
      "\n",
      "0.24556868537666177\n"
     ]
    },
    {
     "name": "stderr",
     "output_type": "stream",
     "text": [
      "C:\\Users\\User\\AppData\\Local\\Programs\\Python\\Python38-32\\lib\\site-packages\\sklearn\\metrics\\_classification.py:1221: UndefinedMetricWarning: Precision and F-score are ill-defined and being set to 0.0 in labels with no predicted samples. Use `zero_division` parameter to control this behavior.\n",
      "  _warn_prf(average, modifier, msg_start, len(result))\n"
     ]
    }
   ],
   "source": [
    "rpt = classification_report(y_test, y_predNB)\n",
    "print(rpt)\n",
    "\n",
    "print(cohen_kappa_score(y_test, y_predNB, weights=\"quadratic\"))"
   ]
  },
  {
   "cell_type": "markdown",
   "metadata": {},
   "source": [
    "### SVM"
   ]
  },
  {
   "cell_type": "code",
   "execution_count": 165,
   "metadata": {},
   "outputs": [
    {
     "name": "stdout",
     "output_type": "stream",
     "text": [
      "              precision    recall  f1-score   support\n",
      "\n",
      "         1.0       0.00      0.00      0.00         7\n",
      "         2.0       0.56      0.39      0.46        23\n",
      "         3.0       0.64      0.75      0.69       160\n",
      "         4.0       0.66      0.66      0.66       156\n",
      "         5.0       0.00      0.00      0.00        13\n",
      "         6.0       0.00      0.00      0.00         1\n",
      "\n",
      "    accuracy                           0.64       360\n",
      "   macro avg       0.31      0.30      0.30       360\n",
      "weighted avg       0.61      0.64      0.62       360\n",
      "\n",
      "0.5690834473324213\n"
     ]
    }
   ],
   "source": [
    "rpt = classification_report(y_test, y_predSVM)\n",
    "print(rpt)\n",
    "\n",
    "print(cohen_kappa_score(y_test, y_predSVM, weights=\"quadratic\"))"
   ]
  },
  {
   "cell_type": "markdown",
   "metadata": {},
   "source": [
    "### BLRR"
   ]
  },
  {
   "cell_type": "code",
   "execution_count": 166,
   "metadata": {},
   "outputs": [
    {
     "name": "stdout",
     "output_type": "stream",
     "text": [
      "              precision    recall  f1-score   support\n",
      "\n",
      "         1.0       0.00      0.00      0.00         7\n",
      "         2.0       0.60      0.39      0.47        23\n",
      "         3.0       0.61      0.79      0.69       160\n",
      "         4.0       0.70      0.58      0.63       156\n",
      "         5.0       0.50      0.31      0.38        13\n",
      "         6.0       0.00      0.00      0.00         1\n",
      "\n",
      "    accuracy                           0.64       360\n",
      "   macro avg       0.40      0.34      0.36       360\n",
      "weighted avg       0.63      0.64      0.62       360\n",
      "\n",
      "0.5431773236651285\n"
     ]
    }
   ],
   "source": [
    "rpt = classification_report(y_test, y_predBLRR)\n",
    "print(rpt)\n",
    "\n",
    "print(cohen_kappa_score(y_test, y_predBLRR, weights=\"quadratic\"))"
   ]
  },
  {
   "cell_type": "markdown",
   "metadata": {},
   "source": [
    "### Ensemble"
   ]
  },
  {
   "cell_type": "code",
   "execution_count": 167,
   "metadata": {},
   "outputs": [
    {
     "name": "stdout",
     "output_type": "stream",
     "text": [
      "              precision    recall  f1-score   support\n",
      "\n",
      "         1.0       0.00      0.00      0.00         7\n",
      "         2.0       0.62      0.35      0.44        23\n",
      "         3.0       0.64      0.76      0.69       160\n",
      "         4.0       0.67      0.66      0.67       156\n",
      "         5.0       0.00      0.00      0.00        13\n",
      "         6.0       0.00      0.00      0.00         1\n",
      "\n",
      "    accuracy                           0.65       360\n",
      "   macro avg       0.32      0.30      0.30       360\n",
      "weighted avg       0.61      0.65      0.63       360\n",
      "\n",
      "0.5426452410383189\n"
     ]
    }
   ],
   "source": [
    "rpt = classification_report(y_test,results['Ensemble'])\n",
    "print(rpt)\n",
    "\n",
    "print(cohen_kappa_score(y_test, results['Ensemble'], weights=\"quadratic\"))"
   ]
  },
  {
   "cell_type": "markdown",
   "metadata": {},
   "source": [
    "#### QWK Scores result with full features:\n",
    "\n",
    "Naive Bayes: 0.5172740179839092\n",
    "\n",
    "SVM: 0.6011377166291838\n",
    "\n",
    "BLRR: 0.6261591962905719\n",
    "\n",
    "Ensemble: 0.6060822202049021\n",
    "\n",
    "#### QWK Scores result with `Prompt` features only:\n",
    "\n",
    "Naive Bayes: 0.24556868537666177\n",
    "\n",
    "SVM: 0.5690834473324213\n",
    "\n",
    "BLRR: 0.5431773236651285\n",
    "\n",
    "Ensemble: 0.5426452410383189\n"
   ]
  },
  {
   "cell_type": "markdown",
   "metadata": {},
   "source": [
    "### Final Conclusion - training model based on single type of feature\n",
    "Below are a table conclude the result of model trained by single type of feature.\n",
    "\n",
    "\n",
    "| Only Feature Used | Naive Bayes| SVM | BLRR | Ensemble | \n",
    "| --- | --- | --- | --- | --- | \n",
    "| Length | 0.504 | 0.580 | 0.604 | 0.599 | \n",
    "| PoS | 0.483 | 0.584 | 0.536 | 0.557 | \n",
    "| BoW | 0.0 | 0.590 | 0.574 | 0.569 | \n",
    "| Prompt | 0.246 | 0.569 | 0.543 | 0.542 | \n",
    "| All features | 0.517 | 0.601 | 0.626 | 0.606 |\n",
    "\n",
    "Differences between all features and only features\n",
    "\n",
    "| Only Features | Naive Bayes| SVM | BLRR | Ensemble | Total Diff (absolute value)  |\n",
    "| --- | --- | --- | --- | --- | --- |\n",
    "| Length | 0.013 | 0.021 | 0.022 | 0.007 | 0.063 |\n",
    "| PoS | 0.034 | 0.017 | 0.090 | 0.049 | 0.190 |\n",
    "| BoW | 0.517 | 0.011 | 0.052 | 0.037 | 0.617 |\n",
    "| Prompt | 0.271 | 0.032 | 0.083 | 0.064 | 0.450 |\n",
    "\n",
    "Higher in differences should mean lower in influence on the model.\n"
   ]
  },
  {
   "cell_type": "markdown",
   "metadata": {},
   "source": [
    "`BoW` has no influence at all on Naive Bayes Model.\n",
    "\n",
    "`Prompt` has the least influence on SVM and second least influence in BLRR.\n",
    "\n",
    "`Length` has the most influences among all model."
   ]
  },
  {
   "cell_type": "code",
   "execution_count": null,
   "metadata": {},
   "outputs": [],
   "source": []
  }
 ],
 "metadata": {
  "kernelspec": {
   "display_name": "Python 3",
   "language": "python",
   "name": "python3"
  },
  "language_info": {
   "codemirror_mode": {
    "name": "ipython",
    "version": 3
   },
   "file_extension": ".py",
   "mimetype": "text/x-python",
   "name": "python",
   "nbconvert_exporter": "python",
   "pygments_lexer": "ipython3",
   "version": "3.8.6"
  }
 },
 "nbformat": 4,
 "nbformat_minor": 4
}
